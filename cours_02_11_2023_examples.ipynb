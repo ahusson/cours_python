{
 "cells": [
  {
   "cell_type": "code",
   "execution_count": 16,
   "id": "1101755a",
   "metadata": {},
   "outputs": [
    {
     "data": {
      "text/plain": [
       "<map at 0x139c71d1cc0>"
      ]
     },
     "execution_count": 16,
     "metadata": {},
     "output_type": "execute_result"
    }
   ],
   "source": [
    "l = [1, 2, 3]\n",
    "map(lambda x: x ** 2, l)  # generator -> can only iterate through it"
   ]
  },
  {
   "cell_type": "code",
   "execution_count": 20,
   "id": "000d067e",
   "metadata": {},
   "outputs": [
    {
     "data": {
      "text/plain": [
       "[1, 4, 9]"
      ]
     },
     "execution_count": 20,
     "metadata": {},
     "output_type": "execute_result"
    }
   ],
   "source": [
    "l = [1, 2, 3]\n",
    "[i for i in map(lambda x: x ** 2, l)]"
   ]
  },
  {
   "cell_type": "code",
   "execution_count": 27,
   "id": "a6c328a5",
   "metadata": {},
   "outputs": [
    {
     "name": "stdout",
     "output_type": "stream",
     "text": [
      "[21, 28, 32, 98, 66, 51, 44, 31, 8, 93, 42, 88, 1, 91, 39, 23, 36, 22, 3, 24, 79, 96, 29, 71, 10, 69, 76, 83, 86, 34, 67, 25, 7, 94, 27, 33, 53, 99, 4, 18, 11, 49, 43, 63, 0, 6, 17, 78, 56, 87, 38, 16, 61, 14, 60, 45, 55, 64, 37, 73, 35, 13, 92, 26, 75, 72, 12, 90, 50, 74, 81, 52, 82, 2, 19, 30, 85, 9, 58, 57, 46, 97, 62, 59, 5, 77, 15, 70, 48, 20, 84, 68, 89, 41, 65, 80, 54, 40, 47, 95]\n"
     ]
    },
    {
     "data": {
      "text/plain": [
       "<filter at 0x139c71d4f40>"
      ]
     },
     "execution_count": 27,
     "metadata": {},
     "output_type": "execute_result"
    }
   ],
   "source": [
    "from random import shuffle\n",
    "\n",
    "l = [i for i in range(100)]\n",
    "shuffle(l)\n",
    "print(l)\n",
    "\n",
    "# filtering the list l according to a set of conditions\n",
    "filter(lambda x: x > 5 and x <= 25, l)  # generator -> can only iterate through it"
   ]
  },
  {
   "cell_type": "code",
   "execution_count": 28,
   "id": "20ffed90",
   "metadata": {},
   "outputs": [
    {
     "name": "stdout",
     "output_type": "stream",
     "text": [
      "[90, 60, 76, 75, 79, 4, 29, 33, 43, 14, 92, 87, 22, 57, 85, 83, 23, 88, 46, 47, 25, 11, 73, 19, 26, 13, 61, 96, 98, 34, 39, 2, 72, 28, 18, 58, 69, 78, 94, 8, 24, 30, 74, 17, 27, 68, 41, 16, 66, 63, 64, 44, 67, 54, 0, 62, 40, 50, 99, 10, 3, 97, 37, 20, 48, 15, 53, 45, 49, 59, 81, 95, 71, 86, 70, 51, 9, 7, 1, 21, 42, 5, 36, 82, 56, 31, 38, 89, 84, 91, 52, 65, 77, 12, 35, 93, 80, 55, 6, 32]\n",
      "-------\n",
      "\n",
      "\n"
     ]
    },
    {
     "data": {
      "text/plain": [
       "[14, 22, 23, 25, 11, 19, 13, 18, 8, 24, 17, 16, 10, 20, 15, 9, 7, 21, 12, 6]"
      ]
     },
     "execution_count": 28,
     "metadata": {},
     "output_type": "execute_result"
    }
   ],
   "source": [
    "from random import shuffle\n",
    "\n",
    "l = [i for i in range(100)]\n",
    "shuffle(l)\n",
    "print(l)\n",
    "\n",
    "print(\"-------\\n\\n\")\n",
    "\n",
    "[i for i in filter(lambda x: x > 5 and x <= 25, l)]"
   ]
  },
  {
   "cell_type": "code",
   "execution_count": 23,
   "id": "8fc4c3bf",
   "metadata": {},
   "outputs": [
    {
     "data": {
      "text/plain": [
       "6"
      ]
     },
     "execution_count": 23,
     "metadata": {},
     "output_type": "execute_result"
    }
   ],
   "source": [
    "from functools import reduce\n",
    "\n",
    "l = [1, 2, 3]\n",
    "reduce(lambda x, y: x + y, l)"
   ]
  },
  {
   "cell_type": "code",
   "execution_count": 22,
   "id": "bbb124b9",
   "metadata": {},
   "outputs": [
    {
     "data": {
      "text/plain": [
       "'a-b-c'"
      ]
     },
     "execution_count": 22,
     "metadata": {},
     "output_type": "execute_result"
    }
   ],
   "source": [
    "l = [\"a\", \"b\", \"c\"]\n",
    "\"-\".join(l)"
   ]
  },
  {
   "cell_type": "code",
   "execution_count": 5,
   "id": "25c741c1",
   "metadata": {},
   "outputs": [],
   "source": [
    "import time\n",
    "import json\n",
    "import requests\n",
    "from pprint import pprint as pp  # pretty printing -> convenient when printing large dict-like objects"
   ]
  },
  {
   "cell_type": "code",
   "execution_count": 59,
   "id": "c82ff98d",
   "metadata": {},
   "outputs": [
    {
     "name": "stdout",
     "output_type": "stream",
     "text": [
      "Waiting 2 seconds\n",
      "hey\n",
      "Waiting 2 seconds\n",
      "hey\n",
      "Waiting 2 seconds\n",
      "hey\n",
      "Waiting 2 seconds\n",
      "hey\n",
      "Waiting 2 seconds\n",
      "hey\n",
      "Exiting\n"
     ]
    }
   ],
   "source": [
    "def poller(n, total_time):\n",
    "    \"\"\"\n",
    "    :args int n:            integer indicating the time to wait between prints, in seconds\n",
    "    :args: int total_time:  total time to wait in seconds\n",
    "    :return:\n",
    "    \"\"\"\n",
    "    start = time.time()\n",
    "    while time.time() - start <= total_time:\n",
    "        print(f\"Waiting {n} seconds\")\n",
    "        time.sleep(n)\n",
    "        print(\"hey\")\n",
    "    print(\"Exiting\")\n",
    "\n",
    "poller(2, 10)  # will print \"hey\" every 2 seconds for a total time of 10 seconds"
   ]
  },
  {
   "cell_type": "code",
   "execution_count": 72,
   "id": "2af4b87c",
   "metadata": {},
   "outputs": [
    {
     "name": "stdout",
     "output_type": "stream",
     "text": [
      "{'args': {},\n",
      " 'headers': {'Accept': '*/*',\n",
      "             'Accept-Encoding': 'gzip, deflate, br',\n",
      "             'Host': 'httpbin.org',\n",
      "             'User-Agent': 'python-requests/2.28.1',\n",
      "             'X-Amzn-Trace-Id': 'Root=1-6543a523-2080e6de07ddcd267ae7c41a'},\n",
      " 'origin': '194.214.160.152',\n",
      " 'url': 'https://httpbin.org/get'}\n",
      "<class 'dict'>\n",
      "https://httpbin.org/get\n"
     ]
    }
   ],
   "source": [
    "url = \"https://httpbin.org\"\n",
    "endpoint = \"/get\"\n",
    "req = requests.get(url + endpoint)\n",
    "#print(req)\n",
    "#print(req.text)\n",
    "\n",
    "data = json.loads(req.text)\n",
    "pp(data)\n",
    "print(type(data))\n",
    "\n",
    "print(data[\"url\"])\n",
    "\n",
    "#print(\"-------\\n\\n\")\n",
    "\n",
    "#print(\"Accessing the header key\")\n",
    "#pp(data[\"headers\"])"
   ]
  },
  {
   "cell_type": "code",
   "execution_count": 36,
   "id": "b61aaafd",
   "metadata": {},
   "outputs": [
    {
     "name": "stdout",
     "output_type": "stream",
     "text": [
      "34\n"
     ]
    }
   ],
   "source": [
    "def f(d, s):\n",
    "    try:\n",
    "        print(d[s])\n",
    "    except KeyError:\n",
    "        print(\"key does not exist\")\n",
    "\n",
    "x = f({\"a\": 34}, \"a\")"
   ]
  },
  {
   "cell_type": "code",
   "execution_count": 45,
   "id": "4b09beb6",
   "metadata": {},
   "outputs": [
    {
     "name": "stdout",
     "output_type": "stream",
     "text": [
      "a 34\n"
     ]
    }
   ],
   "source": [
    "d = {\"a\": 34}\n",
    "d.pop(\"a\")\n",
    "\n",
    "d = {\"a\": 34}\n",
    "\n",
    "for k, v in d.items():\n",
    "    if k == \"a\":\n",
    "        print(k, v)"
   ]
  },
  {
   "cell_type": "code",
   "execution_count": 46,
   "id": "30cda9c8",
   "metadata": {},
   "outputs": [
    {
     "data": {
      "text/plain": [
       "{2, 3}"
      ]
     },
     "execution_count": 46,
     "metadata": {},
     "output_type": "execute_result"
    }
   ],
   "source": [
    "s1 = {1,2,3}\n",
    "s2 = {1,34}\n",
    "s1 - s2"
   ]
  },
  {
   "cell_type": "code",
   "execution_count": 49,
   "id": "10f21f8a",
   "metadata": {},
   "outputs": [
    {
     "ename": "KeyError",
     "evalue": "'a'",
     "output_type": "error",
     "traceback": [
      "\u001b[1;31m---------------------------------------------------------------------------\u001b[0m",
      "\u001b[1;31mKeyError\u001b[0m                                  Traceback (most recent call last)",
      "Cell \u001b[1;32mIn[49], line 2\u001b[0m\n\u001b[0;32m      1\u001b[0m d \u001b[38;5;241m=\u001b[39m {}\n\u001b[1;32m----> 2\u001b[0m \u001b[43md\u001b[49m\u001b[43m[\u001b[49m\u001b[38;5;124;43m\"\u001b[39;49m\u001b[38;5;124;43ma\u001b[39;49m\u001b[38;5;124;43m\"\u001b[39;49m\u001b[43m]\u001b[49m\n",
      "\u001b[1;31mKeyError\u001b[0m: 'a'"
     ]
    }
   ],
   "source": [
    "d = {}\n",
    "d[\"a\"]"
   ]
  },
  {
   "cell_type": "code",
   "execution_count": 48,
   "id": "97a39d7e",
   "metadata": {},
   "outputs": [
    {
     "data": {
      "text/plain": [
       "True"
      ]
     },
     "execution_count": 48,
     "metadata": {},
     "output_type": "execute_result"
    }
   ],
   "source": [
    "def f():\n",
    "    return\n",
    "\n",
    "x=f()\n",
    "x is None"
   ]
  },
  {
   "cell_type": "code",
   "execution_count": 53,
   "id": "46353eb6",
   "metadata": {},
   "outputs": [
    {
     "data": {
      "text/plain": [
       "25"
      ]
     },
     "execution_count": 53,
     "metadata": {},
     "output_type": "execute_result"
    }
   ],
   "source": [
    "d={\"hello\": [\"hey\", 34, {\"b\": 65, \"bla\": 25}]}\n",
    "l = d[\"hello\"]\n",
    "inner_d = l[2]\n",
    "inner_d[\"bla\"]"
   ]
  },
  {
   "cell_type": "code",
   "execution_count": 54,
   "id": "6528d040",
   "metadata": {},
   "outputs": [
    {
     "data": {
      "text/plain": [
       "[0, 1, 2, 3, 4, 5, 6, 7, 8, 9]"
      ]
     },
     "execution_count": 54,
     "metadata": {},
     "output_type": "execute_result"
    }
   ],
   "source": [
    "list(range(10))"
   ]
  },
  {
   "cell_type": "code",
   "execution_count": 55,
   "id": "c5dbbd0c",
   "metadata": {},
   "outputs": [
    {
     "name": "stdout",
     "output_type": "stream",
     "text": [
      "hello bla\n"
     ]
    }
   ],
   "source": [
    "x=\"bla\"\n",
    "print(\"hello\", x)"
   ]
  },
  {
   "cell_type": "code",
   "execution_count": 56,
   "id": "fb343132",
   "metadata": {},
   "outputs": [
    {
     "data": {
      "text/plain": [
       "34.5"
      ]
     },
     "execution_count": 56,
     "metadata": {},
     "output_type": "execute_result"
    }
   ],
   "source": [
    "19.5+15"
   ]
  },
  {
   "cell_type": "code",
   "execution_count": 58,
   "id": "d3c49323",
   "metadata": {},
   "outputs": [
    {
     "name": "stdout",
     "output_type": "stream",
     "text": [
      "1.1896551724137931\n"
     ]
    }
   ],
   "source": [
    "print(2*34.5/58)"
   ]
  },
  {
   "cell_type": "code",
   "execution_count": 62,
   "id": "646eb231",
   "metadata": {},
   "outputs": [
    {
     "name": "stdout",
     "output_type": "stream",
     "text": [
      "0.0009970664978027344\n"
     ]
    }
   ],
   "source": [
    "import time\n",
    "\n",
    "\n",
    "start = time.time()\n",
    "count = 0\n",
    "while count < 10000:\n",
    "    count += 1\n",
    "print(time.time() - start)"
   ]
  },
  {
   "cell_type": "code",
   "execution_count": 63,
   "id": "415ad3ee",
   "metadata": {},
   "outputs": [
    {
     "name": "stdout",
     "output_type": "stream",
     "text": [
      "bla\n",
      "hey\n"
     ]
    }
   ],
   "source": [
    "print(\"bla\")\n",
    "time.sleep(5)\n",
    "print(\"hey\")"
   ]
  },
  {
   "cell_type": "code",
   "execution_count": 82,
   "id": "89e985cf",
   "metadata": {},
   "outputs": [
    {
     "name": "stdout",
     "output_type": "stream",
     "text": [
      "https://api.binance.com/api/v3/depth?symbol=BTCUSDT\n",
      "spread = 0.010000000002037268\n",
      "spread = 0.010000000000001563\n",
      "spread = 0.010000000000001563\n",
      "spread = 0.010000000000001563\n",
      "spread = 0.009999999999999787\n",
      "spread = 0.009999999999999787\n",
      "spread = 0.009999999999999787\n",
      "spread = 0.009999999999999787\n",
      "spread = 0.009999999999999787\n",
      "spread = 0.009999999999999787\n",
      "spread = 0.009999999999999787\n",
      "spread = 0.009999999999999787\n",
      "spread = 0.009999999999999787\n",
      "spread = 0.009999999999999787\n",
      "spread = 0.009999999999999787\n",
      "spread = 0.009999999999999787\n",
      "spread = 0.009999999999999787\n",
      "spread = 0.009999999999999787\n",
      "spread = 0.009999999999999787\n",
      "spread = 0.009999999999999787\n",
      "spread = 0.009999999999999787\n",
      "spread = 0.009999999999999787\n",
      "spread = 0.009999999999999787\n",
      "spread = 0.009999999999999787\n",
      "spread = 0.009999999999999787\n",
      "spread = 0.009999999999999787\n",
      "spread = 0.009999999999999787\n"
     ]
    }
   ],
   "source": [
    "import json\n",
    "import requests\n",
    "\n",
    "url = \"https://api.binance.com\"\n",
    "\n",
    "endpoint = \"/api/v3/depth\"\n",
    "\n",
    "print(url + endpoint + f\"?symbol=BTCUSDT\")\n",
    "\n",
    "req = requests.get(url + endpoint + f\"?symbol=BTCUSDT\")\n",
    "data = json.loads(req.text)\n",
    "\n",
    "bids = data[\"bids\"]\n",
    "asks = data[\"asks\"]\n",
    "spread = float(asks[0][0]) - float(bids[0][0])\n",
    "print(f\"spread = {spread}\")\n",
    "\n",
    "start = time.time()\n",
    "while time.time() - start < 60:\n",
    "    req = requests.get(url + endpoint + f\"?symbol=AVAXUSDT\")\n",
    "    data = json.loads(req.text)\n",
    "\n",
    "    bids = data[\"bids\"]\n",
    "    asks = data[\"asks\"]\n",
    "\n",
    "    spread = float(asks[0][0]) - float(bids[0][0])\n",
    "    print(f\"spread = {spread}\")\n",
    "    \n",
    "    time.sleep(2)"
   ]
  },
  {
   "cell_type": "code",
   "execution_count": null,
   "id": "55f93d2f",
   "metadata": {},
   "outputs": [],
   "source": []
  }
 ],
 "metadata": {
  "kernelspec": {
   "display_name": "Python 3 (ipykernel)",
   "language": "python",
   "name": "python3"
  },
  "language_info": {
   "codemirror_mode": {
    "name": "ipython",
    "version": 3
   },
   "file_extension": ".py",
   "mimetype": "text/x-python",
   "name": "python",
   "nbconvert_exporter": "python",
   "pygments_lexer": "ipython3",
   "version": "3.10.9"
  }
 },
 "nbformat": 4,
 "nbformat_minor": 5
}
