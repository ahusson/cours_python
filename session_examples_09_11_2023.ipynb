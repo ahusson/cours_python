{
 "cells": [
  {
   "cell_type": "code",
   "execution_count": 6,
   "id": "bcac3576",
   "metadata": {},
   "outputs": [],
   "source": [
    "import numpy as np"
   ]
  },
  {
   "cell_type": "code",
   "execution_count": 17,
   "id": "84d4f07f",
   "metadata": {},
   "outputs": [],
   "source": [
    "l = [1,2,3,4,5]"
   ]
  },
  {
   "cell_type": "code",
   "execution_count": 18,
   "id": "687a54b9",
   "metadata": {},
   "outputs": [],
   "source": [
    "arr = np.array(l)"
   ]
  },
  {
   "cell_type": "code",
   "execution_count": 19,
   "id": "d25d657f",
   "metadata": {},
   "outputs": [
    {
     "data": {
      "text/plain": [
       "array([1, 2, 3, 4, 5])"
      ]
     },
     "execution_count": 19,
     "metadata": {},
     "output_type": "execute_result"
    }
   ],
   "source": [
    "arr"
   ]
  },
  {
   "cell_type": "code",
   "execution_count": 10,
   "id": "a7912a66",
   "metadata": {},
   "outputs": [
    {
     "data": {
      "text/plain": [
       "(5,)"
      ]
     },
     "execution_count": 10,
     "metadata": {},
     "output_type": "execute_result"
    }
   ],
   "source": [
    "arr.shape"
   ]
  },
  {
   "cell_type": "code",
   "execution_count": 14,
   "id": "6c003751",
   "metadata": {},
   "outputs": [],
   "source": [
    "M = np.array([[1,2],[3,4]])"
   ]
  },
  {
   "cell_type": "code",
   "execution_count": 15,
   "id": "31514e58",
   "metadata": {},
   "outputs": [
    {
     "data": {
      "text/plain": [
       "array([[1, 2],\n",
       "       [3, 4]])"
      ]
     },
     "execution_count": 15,
     "metadata": {},
     "output_type": "execute_result"
    }
   ],
   "source": [
    "M"
   ]
  },
  {
   "cell_type": "code",
   "execution_count": 16,
   "id": "dcf8345b",
   "metadata": {},
   "outputs": [
    {
     "data": {
      "text/plain": [
       "(2, 2)"
      ]
     },
     "execution_count": 16,
     "metadata": {},
     "output_type": "execute_result"
    }
   ],
   "source": [
    "M.shape"
   ]
  },
  {
   "cell_type": "code",
   "execution_count": 25,
   "id": "d6cf2615",
   "metadata": {},
   "outputs": [
    {
     "name": "stdout",
     "output_type": "stream",
     "text": [
      "[1 2 3 4 5]\n"
     ]
    },
    {
     "data": {
      "text/plain": [
       "array([ 1,  4,  9, 16, 25])"
      ]
     },
     "execution_count": 25,
     "metadata": {},
     "output_type": "execute_result"
    }
   ],
   "source": [
    "def f(x):\n",
    "    return x * x\n",
    "\n",
    "print(arr)\n",
    "out = f(arr)\n",
    "out"
   ]
  },
  {
   "cell_type": "code",
   "execution_count": 26,
   "id": "57130e60",
   "metadata": {},
   "outputs": [
    {
     "data": {
      "text/plain": [
       "array([[1, 2],\n",
       "       [3, 4]])"
      ]
     },
     "execution_count": 26,
     "metadata": {},
     "output_type": "execute_result"
    }
   ],
   "source": [
    "M"
   ]
  },
  {
   "cell_type": "code",
   "execution_count": 27,
   "id": "4ddc8003",
   "metadata": {},
   "outputs": [
    {
     "data": {
      "text/plain": [
       "array([[1, 3],\n",
       "       [2, 4]])"
      ]
     },
     "execution_count": 27,
     "metadata": {},
     "output_type": "execute_result"
    }
   ],
   "source": [
    "M.T"
   ]
  },
  {
   "cell_type": "code",
   "execution_count": 28,
   "id": "6aa35e94",
   "metadata": {},
   "outputs": [
    {
     "data": {
      "text/plain": [
       "array([[ 5, 11],\n",
       "       [11, 25]])"
      ]
     },
     "execution_count": 28,
     "metadata": {},
     "output_type": "execute_result"
    }
   ],
   "source": [
    "# matrix multiplication\n",
    "M @ M.T"
   ]
  },
  {
   "cell_type": "code",
   "execution_count": 33,
   "id": "b3c1cb21",
   "metadata": {},
   "outputs": [
    {
     "data": {
      "text/plain": [
       "array([0.59382275, 0.91030669, 0.92439289, 0.23060261, 0.34226954,\n",
       "       0.66843957, 0.98744733, 0.72385766, 0.24141918, 0.54882949])"
      ]
     },
     "execution_count": 33,
     "metadata": {},
     "output_type": "execute_result"
    }
   ],
   "source": [
    "a = np.random.uniform(0, 1, 10)\n",
    "a"
   ]
  },
  {
   "cell_type": "code",
   "execution_count": 37,
   "id": "edd9be10",
   "metadata": {},
   "outputs": [
    {
     "data": {
      "text/plain": [
       "array([ 1.87720678,  2.24169905,  1.55322164, -1.96233769,  9.29962763,\n",
       "        1.95106893, -3.98260809, -4.84036688,  5.84287668,  6.56241986,\n",
       "        9.64725673,  4.91458347,  5.12484766, -4.35321575,  0.03955063,\n",
       "        4.7501215 ,  5.54022289,  4.4219991 ,  4.14393396,  0.1187313 ])"
      ]
     },
     "execution_count": 37,
     "metadata": {},
     "output_type": "execute_result"
    }
   ],
   "source": [
    "a = np.random.normal(1, 5, 20)\n",
    "a"
   ]
  },
  {
   "cell_type": "code",
   "execution_count": 46,
   "id": "f0332f37",
   "metadata": {},
   "outputs": [
    {
     "data": {
      "text/plain": [
       "array([ 0.        ,  0.1010101 ,  0.2020202 ,  0.3030303 ,  0.4040404 ,\n",
       "        0.50505051,  0.60606061,  0.70707071,  0.80808081,  0.90909091,\n",
       "        1.01010101,  1.11111111,  1.21212121,  1.31313131,  1.41414141,\n",
       "        1.51515152,  1.61616162,  1.71717172,  1.81818182,  1.91919192,\n",
       "        2.02020202,  2.12121212,  2.22222222,  2.32323232,  2.42424242,\n",
       "        2.52525253,  2.62626263,  2.72727273,  2.82828283,  2.92929293,\n",
       "        3.03030303,  3.13131313,  3.23232323,  3.33333333,  3.43434343,\n",
       "        3.53535354,  3.63636364,  3.73737374,  3.83838384,  3.93939394,\n",
       "        4.04040404,  4.14141414,  4.24242424,  4.34343434,  4.44444444,\n",
       "        4.54545455,  4.64646465,  4.74747475,  4.84848485,  4.94949495,\n",
       "        5.05050505,  5.15151515,  5.25252525,  5.35353535,  5.45454545,\n",
       "        5.55555556,  5.65656566,  5.75757576,  5.85858586,  5.95959596,\n",
       "        6.06060606,  6.16161616,  6.26262626,  6.36363636,  6.46464646,\n",
       "        6.56565657,  6.66666667,  6.76767677,  6.86868687,  6.96969697,\n",
       "        7.07070707,  7.17171717,  7.27272727,  7.37373737,  7.47474747,\n",
       "        7.57575758,  7.67676768,  7.77777778,  7.87878788,  7.97979798,\n",
       "        8.08080808,  8.18181818,  8.28282828,  8.38383838,  8.48484848,\n",
       "        8.58585859,  8.68686869,  8.78787879,  8.88888889,  8.98989899,\n",
       "        9.09090909,  9.19191919,  9.29292929,  9.39393939,  9.49494949,\n",
       "        9.5959596 ,  9.6969697 ,  9.7979798 ,  9.8989899 , 10.        ])"
      ]
     },
     "execution_count": 46,
     "metadata": {},
     "output_type": "execute_result"
    }
   ],
   "source": [
    "np.linspace(0, 10, 100)"
   ]
  },
  {
   "cell_type": "code",
   "execution_count": 48,
   "id": "255095a1",
   "metadata": {},
   "outputs": [],
   "source": [
    "S = M.T @ M"
   ]
  },
  {
   "cell_type": "code",
   "execution_count": 49,
   "id": "2f6e1ee1",
   "metadata": {},
   "outputs": [
    {
     "data": {
      "text/plain": [
       "(array([ 0.13393125, 29.86606875]),\n",
       " array([[-0.81741556, -0.57604844],\n",
       "        [ 0.57604844, -0.81741556]]))"
      ]
     },
     "execution_count": 49,
     "metadata": {},
     "output_type": "execute_result"
    }
   ],
   "source": [
    "np.linalg.eig(S)"
   ]
  },
  {
   "cell_type": "code",
   "execution_count": 51,
   "id": "c8d8f8b7",
   "metadata": {},
   "outputs": [
    {
     "name": "stdout",
     "output_type": "stream",
     "text": [
      "1\n",
      "2\n",
      "3\n",
      "4\n",
      "5\n"
     ]
    }
   ],
   "source": [
    "arr\n",
    "for i in arr:\n",
    "    print(i)"
   ]
  },
  {
   "cell_type": "code",
   "execution_count": 52,
   "id": "0aaca1db",
   "metadata": {},
   "outputs": [],
   "source": [
    "import pandas as pd"
   ]
  },
  {
   "cell_type": "code",
   "execution_count": 61,
   "id": "8d0b4177",
   "metadata": {},
   "outputs": [],
   "source": [
    "df = pd.DataFrame([1,2,3,4,5],\n",
    "                  columns=[\"a\"])\n",
    "df[\"b\"] = np.random.randint(0, 10, 5)"
   ]
  },
  {
   "cell_type": "code",
   "execution_count": 62,
   "id": "e299c7ad",
   "metadata": {},
   "outputs": [
    {
     "data": {
      "text/html": [
       "<div>\n",
       "<style scoped>\n",
       "    .dataframe tbody tr th:only-of-type {\n",
       "        vertical-align: middle;\n",
       "    }\n",
       "\n",
       "    .dataframe tbody tr th {\n",
       "        vertical-align: top;\n",
       "    }\n",
       "\n",
       "    .dataframe thead th {\n",
       "        text-align: right;\n",
       "    }\n",
       "</style>\n",
       "<table border=\"1\" class=\"dataframe\">\n",
       "  <thead>\n",
       "    <tr style=\"text-align: right;\">\n",
       "      <th></th>\n",
       "      <th>a</th>\n",
       "      <th>b</th>\n",
       "    </tr>\n",
       "  </thead>\n",
       "  <tbody>\n",
       "    <tr>\n",
       "      <th>0</th>\n",
       "      <td>1</td>\n",
       "      <td>8</td>\n",
       "    </tr>\n",
       "    <tr>\n",
       "      <th>1</th>\n",
       "      <td>2</td>\n",
       "      <td>2</td>\n",
       "    </tr>\n",
       "    <tr>\n",
       "      <th>2</th>\n",
       "      <td>3</td>\n",
       "      <td>8</td>\n",
       "    </tr>\n",
       "    <tr>\n",
       "      <th>3</th>\n",
       "      <td>4</td>\n",
       "      <td>6</td>\n",
       "    </tr>\n",
       "    <tr>\n",
       "      <th>4</th>\n",
       "      <td>5</td>\n",
       "      <td>1</td>\n",
       "    </tr>\n",
       "  </tbody>\n",
       "</table>\n",
       "</div>"
      ],
      "text/plain": [
       "   a  b\n",
       "0  1  8\n",
       "1  2  2\n",
       "2  3  8\n",
       "3  4  6\n",
       "4  5  1"
      ]
     },
     "execution_count": 62,
     "metadata": {},
     "output_type": "execute_result"
    }
   ],
   "source": [
    "df"
   ]
  },
  {
   "cell_type": "code",
   "execution_count": 70,
   "id": "addf5e82",
   "metadata": {},
   "outputs": [],
   "source": [
    "df[\"c\"] = df[\"a\"] + df[\"b\"]"
   ]
  },
  {
   "cell_type": "code",
   "execution_count": 71,
   "id": "05576473",
   "metadata": {},
   "outputs": [
    {
     "data": {
      "text/html": [
       "<div>\n",
       "<style scoped>\n",
       "    .dataframe tbody tr th:only-of-type {\n",
       "        vertical-align: middle;\n",
       "    }\n",
       "\n",
       "    .dataframe tbody tr th {\n",
       "        vertical-align: top;\n",
       "    }\n",
       "\n",
       "    .dataframe thead th {\n",
       "        text-align: right;\n",
       "    }\n",
       "</style>\n",
       "<table border=\"1\" class=\"dataframe\">\n",
       "  <thead>\n",
       "    <tr style=\"text-align: right;\">\n",
       "      <th></th>\n",
       "      <th>a</th>\n",
       "      <th>b</th>\n",
       "      <th>c</th>\n",
       "    </tr>\n",
       "  </thead>\n",
       "  <tbody>\n",
       "    <tr>\n",
       "      <th>0</th>\n",
       "      <td>1</td>\n",
       "      <td>8</td>\n",
       "      <td>9</td>\n",
       "    </tr>\n",
       "    <tr>\n",
       "      <th>1</th>\n",
       "      <td>2</td>\n",
       "      <td>2</td>\n",
       "      <td>4</td>\n",
       "    </tr>\n",
       "    <tr>\n",
       "      <th>2</th>\n",
       "      <td>3</td>\n",
       "      <td>8</td>\n",
       "      <td>11</td>\n",
       "    </tr>\n",
       "    <tr>\n",
       "      <th>3</th>\n",
       "      <td>4</td>\n",
       "      <td>6</td>\n",
       "      <td>10</td>\n",
       "    </tr>\n",
       "    <tr>\n",
       "      <th>4</th>\n",
       "      <td>5</td>\n",
       "      <td>1</td>\n",
       "      <td>6</td>\n",
       "    </tr>\n",
       "  </tbody>\n",
       "</table>\n",
       "</div>"
      ],
      "text/plain": [
       "   a  b   c\n",
       "0  1  8   9\n",
       "1  2  2   4\n",
       "2  3  8  11\n",
       "3  4  6  10\n",
       "4  5  1   6"
      ]
     },
     "execution_count": 71,
     "metadata": {},
     "output_type": "execute_result"
    }
   ],
   "source": [
    "df"
   ]
  },
  {
   "cell_type": "code",
   "execution_count": 74,
   "id": "4a5afd5c",
   "metadata": {},
   "outputs": [
    {
     "data": {
      "text/html": [
       "<div>\n",
       "<style scoped>\n",
       "    .dataframe tbody tr th:only-of-type {\n",
       "        vertical-align: middle;\n",
       "    }\n",
       "\n",
       "    .dataframe tbody tr th {\n",
       "        vertical-align: top;\n",
       "    }\n",
       "\n",
       "    .dataframe thead th {\n",
       "        text-align: right;\n",
       "    }\n",
       "</style>\n",
       "<table border=\"1\" class=\"dataframe\">\n",
       "  <thead>\n",
       "    <tr style=\"text-align: right;\">\n",
       "      <th></th>\n",
       "      <th>a</th>\n",
       "      <th>b</th>\n",
       "      <th>c</th>\n",
       "      <th>d</th>\n",
       "    </tr>\n",
       "  </thead>\n",
       "  <tbody>\n",
       "    <tr>\n",
       "      <th>0</th>\n",
       "      <td>1</td>\n",
       "      <td>8</td>\n",
       "      <td>9</td>\n",
       "      <td>1</td>\n",
       "    </tr>\n",
       "    <tr>\n",
       "      <th>1</th>\n",
       "      <td>2</td>\n",
       "      <td>2</td>\n",
       "      <td>4</td>\n",
       "      <td>4</td>\n",
       "    </tr>\n",
       "    <tr>\n",
       "      <th>2</th>\n",
       "      <td>3</td>\n",
       "      <td>8</td>\n",
       "      <td>11</td>\n",
       "      <td>9</td>\n",
       "    </tr>\n",
       "    <tr>\n",
       "      <th>3</th>\n",
       "      <td>4</td>\n",
       "      <td>6</td>\n",
       "      <td>10</td>\n",
       "      <td>16</td>\n",
       "    </tr>\n",
       "    <tr>\n",
       "      <th>4</th>\n",
       "      <td>5</td>\n",
       "      <td>1</td>\n",
       "      <td>6</td>\n",
       "      <td>25</td>\n",
       "    </tr>\n",
       "  </tbody>\n",
       "</table>\n",
       "</div>"
      ],
      "text/plain": [
       "   a  b   c   d\n",
       "0  1  8   9   1\n",
       "1  2  2   4   4\n",
       "2  3  8  11   9\n",
       "3  4  6  10  16\n",
       "4  5  1   6  25"
      ]
     },
     "execution_count": 74,
     "metadata": {},
     "output_type": "execute_result"
    }
   ],
   "source": [
    "df[\"d\"] = df[\"a\"].apply(lambda x: x**2)\n",
    "df"
   ]
  },
  {
   "cell_type": "code",
   "execution_count": 77,
   "id": "b0e42f05",
   "metadata": {},
   "outputs": [
    {
     "name": "stdout",
     "output_type": "stream",
     "text": [
      "   a  b   c   d\n",
      "0  1  8   9   1\n",
      "1  2  2   4   4\n",
      "2  3  8  11   9\n",
      "3  4  6  10  16\n",
      "4  5  1   6  25\n"
     ]
    },
    {
     "data": {
      "text/plain": [
       "array([[ 1,  8,  9,  1],\n",
       "       [ 2,  2,  4,  4],\n",
       "       [ 3,  8, 11,  9],\n",
       "       [ 4,  6, 10, 16],\n",
       "       [ 5,  1,  6, 25]], dtype=int64)"
      ]
     },
     "execution_count": 77,
     "metadata": {},
     "output_type": "execute_result"
    }
   ],
   "source": [
    "print(df)\n",
    "df.to_numpy()"
   ]
  },
  {
   "cell_type": "code",
   "execution_count": 80,
   "id": "d5fb2609",
   "metadata": {},
   "outputs": [
    {
     "data": {
      "text/html": [
       "<div>\n",
       "<style scoped>\n",
       "    .dataframe tbody tr th:only-of-type {\n",
       "        vertical-align: middle;\n",
       "    }\n",
       "\n",
       "    .dataframe tbody tr th {\n",
       "        vertical-align: top;\n",
       "    }\n",
       "\n",
       "    .dataframe thead th {\n",
       "        text-align: right;\n",
       "    }\n",
       "</style>\n",
       "<table border=\"1\" class=\"dataframe\">\n",
       "  <thead>\n",
       "    <tr style=\"text-align: right;\">\n",
       "      <th></th>\n",
       "      <th>id</th>\n",
       "      <th>price</th>\n",
       "      <th>qty</th>\n",
       "      <th>quote_qty</th>\n",
       "      <th>time</th>\n",
       "      <th>is_buyer_maker</th>\n",
       "    </tr>\n",
       "  </thead>\n",
       "  <tbody>\n",
       "    <tr>\n",
       "      <th>0</th>\n",
       "      <td>4266923342</td>\n",
       "      <td>35406.5</td>\n",
       "      <td>0.012</td>\n",
       "      <td>424.8780</td>\n",
       "      <td>1699401604617</td>\n",
       "      <td>False</td>\n",
       "    </tr>\n",
       "    <tr>\n",
       "      <th>1</th>\n",
       "      <td>4266923343</td>\n",
       "      <td>35406.4</td>\n",
       "      <td>0.008</td>\n",
       "      <td>283.2512</td>\n",
       "      <td>1699401604646</td>\n",
       "      <td>True</td>\n",
       "    </tr>\n",
       "    <tr>\n",
       "      <th>2</th>\n",
       "      <td>4266923344</td>\n",
       "      <td>35406.4</td>\n",
       "      <td>0.006</td>\n",
       "      <td>212.4384</td>\n",
       "      <td>1699401604652</td>\n",
       "      <td>True</td>\n",
       "    </tr>\n",
       "    <tr>\n",
       "      <th>3</th>\n",
       "      <td>4266923345</td>\n",
       "      <td>35406.4</td>\n",
       "      <td>0.004</td>\n",
       "      <td>141.6256</td>\n",
       "      <td>1699401604652</td>\n",
       "      <td>True</td>\n",
       "    </tr>\n",
       "    <tr>\n",
       "      <th>4</th>\n",
       "      <td>4266923346</td>\n",
       "      <td>35406.4</td>\n",
       "      <td>0.150</td>\n",
       "      <td>5310.9600</td>\n",
       "      <td>1699401604652</td>\n",
       "      <td>True</td>\n",
       "    </tr>\n",
       "    <tr>\n",
       "      <th>...</th>\n",
       "      <td>...</td>\n",
       "      <td>...</td>\n",
       "      <td>...</td>\n",
       "      <td>...</td>\n",
       "      <td>...</td>\n",
       "      <td>...</td>\n",
       "    </tr>\n",
       "    <tr>\n",
       "      <th>3098476</th>\n",
       "      <td>4270021841</td>\n",
       "      <td>35626.7</td>\n",
       "      <td>0.257</td>\n",
       "      <td>9156.0619</td>\n",
       "      <td>1699487999808</td>\n",
       "      <td>True</td>\n",
       "    </tr>\n",
       "    <tr>\n",
       "      <th>3098477</th>\n",
       "      <td>4270021842</td>\n",
       "      <td>35626.6</td>\n",
       "      <td>0.673</td>\n",
       "      <td>23976.7018</td>\n",
       "      <td>1699487999808</td>\n",
       "      <td>True</td>\n",
       "    </tr>\n",
       "    <tr>\n",
       "      <th>3098478</th>\n",
       "      <td>4270021843</td>\n",
       "      <td>35626.6</td>\n",
       "      <td>0.023</td>\n",
       "      <td>819.4118</td>\n",
       "      <td>1699487999808</td>\n",
       "      <td>True</td>\n",
       "    </tr>\n",
       "    <tr>\n",
       "      <th>3098479</th>\n",
       "      <td>4270021844</td>\n",
       "      <td>35626.7</td>\n",
       "      <td>0.014</td>\n",
       "      <td>498.7738</td>\n",
       "      <td>1699487999902</td>\n",
       "      <td>False</td>\n",
       "    </tr>\n",
       "    <tr>\n",
       "      <th>3098480</th>\n",
       "      <td>4270021845</td>\n",
       "      <td>35626.7</td>\n",
       "      <td>0.006</td>\n",
       "      <td>213.7602</td>\n",
       "      <td>1699487999936</td>\n",
       "      <td>False</td>\n",
       "    </tr>\n",
       "  </tbody>\n",
       "</table>\n",
       "<p>3098481 rows × 6 columns</p>\n",
       "</div>"
      ],
      "text/plain": [
       "                 id    price    qty   quote_qty           time  is_buyer_maker\n",
       "0        4266923342  35406.5  0.012    424.8780  1699401604617           False\n",
       "1        4266923343  35406.4  0.008    283.2512  1699401604646            True\n",
       "2        4266923344  35406.4  0.006    212.4384  1699401604652            True\n",
       "3        4266923345  35406.4  0.004    141.6256  1699401604652            True\n",
       "4        4266923346  35406.4  0.150   5310.9600  1699401604652            True\n",
       "...             ...      ...    ...         ...            ...             ...\n",
       "3098476  4270021841  35626.7  0.257   9156.0619  1699487999808            True\n",
       "3098477  4270021842  35626.6  0.673  23976.7018  1699487999808            True\n",
       "3098478  4270021843  35626.6  0.023    819.4118  1699487999808            True\n",
       "3098479  4270021844  35626.7  0.014    498.7738  1699487999902           False\n",
       "3098480  4270021845  35626.7  0.006    213.7602  1699487999936           False\n",
       "\n",
       "[3098481 rows x 6 columns]"
      ]
     },
     "execution_count": 80,
     "metadata": {},
     "output_type": "execute_result"
    }
   ],
   "source": [
    "df = pd.read_csv(\"BTCUSDT-trades-2023-11-08/BTCUSDT-trades-2023-11-08.csv\")\n",
    "df"
   ]
  },
  {
   "cell_type": "code",
   "execution_count": 83,
   "id": "7cfe40fc",
   "metadata": {},
   "outputs": [
    {
     "data": {
      "text/html": [
       "<div>\n",
       "<style scoped>\n",
       "    .dataframe tbody tr th:only-of-type {\n",
       "        vertical-align: middle;\n",
       "    }\n",
       "\n",
       "    .dataframe tbody tr th {\n",
       "        vertical-align: top;\n",
       "    }\n",
       "\n",
       "    .dataframe thead th {\n",
       "        text-align: right;\n",
       "    }\n",
       "</style>\n",
       "<table border=\"1\" class=\"dataframe\">\n",
       "  <thead>\n",
       "    <tr style=\"text-align: right;\">\n",
       "      <th></th>\n",
       "      <th>id</th>\n",
       "      <th>price</th>\n",
       "      <th>qty</th>\n",
       "      <th>quote_qty</th>\n",
       "      <th>time</th>\n",
       "      <th>is_buyer_maker</th>\n",
       "    </tr>\n",
       "  </thead>\n",
       "  <tbody>\n",
       "    <tr>\n",
       "      <th>0</th>\n",
       "      <td>4266923342</td>\n",
       "      <td>35406.5</td>\n",
       "      <td>0.012</td>\n",
       "      <td>424.8780</td>\n",
       "      <td>1699401604617</td>\n",
       "      <td>False</td>\n",
       "    </tr>\n",
       "    <tr>\n",
       "      <th>1</th>\n",
       "      <td>4266923343</td>\n",
       "      <td>35406.4</td>\n",
       "      <td>0.008</td>\n",
       "      <td>283.2512</td>\n",
       "      <td>1699401604646</td>\n",
       "      <td>True</td>\n",
       "    </tr>\n",
       "    <tr>\n",
       "      <th>2</th>\n",
       "      <td>4266923344</td>\n",
       "      <td>35406.4</td>\n",
       "      <td>0.006</td>\n",
       "      <td>212.4384</td>\n",
       "      <td>1699401604652</td>\n",
       "      <td>True</td>\n",
       "    </tr>\n",
       "    <tr>\n",
       "      <th>3</th>\n",
       "      <td>4266923345</td>\n",
       "      <td>35406.4</td>\n",
       "      <td>0.004</td>\n",
       "      <td>141.6256</td>\n",
       "      <td>1699401604652</td>\n",
       "      <td>True</td>\n",
       "    </tr>\n",
       "    <tr>\n",
       "      <th>4</th>\n",
       "      <td>4266923346</td>\n",
       "      <td>35406.4</td>\n",
       "      <td>0.150</td>\n",
       "      <td>5310.9600</td>\n",
       "      <td>1699401604652</td>\n",
       "      <td>True</td>\n",
       "    </tr>\n",
       "    <tr>\n",
       "      <th>5</th>\n",
       "      <td>4266923347</td>\n",
       "      <td>35406.4</td>\n",
       "      <td>0.013</td>\n",
       "      <td>460.2832</td>\n",
       "      <td>1699401604652</td>\n",
       "      <td>True</td>\n",
       "    </tr>\n",
       "    <tr>\n",
       "      <th>6</th>\n",
       "      <td>4266923348</td>\n",
       "      <td>35406.4</td>\n",
       "      <td>0.011</td>\n",
       "      <td>389.4704</td>\n",
       "      <td>1699401604652</td>\n",
       "      <td>True</td>\n",
       "    </tr>\n",
       "    <tr>\n",
       "      <th>7</th>\n",
       "      <td>4266923349</td>\n",
       "      <td>35406.4</td>\n",
       "      <td>0.003</td>\n",
       "      <td>106.2192</td>\n",
       "      <td>1699401604652</td>\n",
       "      <td>True</td>\n",
       "    </tr>\n",
       "    <tr>\n",
       "      <th>8</th>\n",
       "      <td>4266923350</td>\n",
       "      <td>35406.4</td>\n",
       "      <td>0.004</td>\n",
       "      <td>141.6256</td>\n",
       "      <td>1699401604652</td>\n",
       "      <td>True</td>\n",
       "    </tr>\n",
       "    <tr>\n",
       "      <th>9</th>\n",
       "      <td>4266923351</td>\n",
       "      <td>35406.3</td>\n",
       "      <td>0.084</td>\n",
       "      <td>2974.1292</td>\n",
       "      <td>1699401604652</td>\n",
       "      <td>True</td>\n",
       "    </tr>\n",
       "  </tbody>\n",
       "</table>\n",
       "</div>"
      ],
      "text/plain": [
       "           id    price    qty  quote_qty           time  is_buyer_maker\n",
       "0  4266923342  35406.5  0.012   424.8780  1699401604617           False\n",
       "1  4266923343  35406.4  0.008   283.2512  1699401604646            True\n",
       "2  4266923344  35406.4  0.006   212.4384  1699401604652            True\n",
       "3  4266923345  35406.4  0.004   141.6256  1699401604652            True\n",
       "4  4266923346  35406.4  0.150  5310.9600  1699401604652            True\n",
       "5  4266923347  35406.4  0.013   460.2832  1699401604652            True\n",
       "6  4266923348  35406.4  0.011   389.4704  1699401604652            True\n",
       "7  4266923349  35406.4  0.003   106.2192  1699401604652            True\n",
       "8  4266923350  35406.4  0.004   141.6256  1699401604652            True\n",
       "9  4266923351  35406.3  0.084  2974.1292  1699401604652            True"
      ]
     },
     "execution_count": 83,
     "metadata": {},
     "output_type": "execute_result"
    }
   ],
   "source": [
    "df.head(10)"
   ]
  },
  {
   "cell_type": "code",
   "execution_count": 84,
   "id": "009f9fd3",
   "metadata": {},
   "outputs": [
    {
     "data": {
      "text/html": [
       "<div>\n",
       "<style scoped>\n",
       "    .dataframe tbody tr th:only-of-type {\n",
       "        vertical-align: middle;\n",
       "    }\n",
       "\n",
       "    .dataframe tbody tr th {\n",
       "        vertical-align: top;\n",
       "    }\n",
       "\n",
       "    .dataframe thead th {\n",
       "        text-align: right;\n",
       "    }\n",
       "</style>\n",
       "<table border=\"1\" class=\"dataframe\">\n",
       "  <thead>\n",
       "    <tr style=\"text-align: right;\">\n",
       "      <th></th>\n",
       "      <th>id</th>\n",
       "      <th>price</th>\n",
       "      <th>qty</th>\n",
       "      <th>quote_qty</th>\n",
       "      <th>time</th>\n",
       "    </tr>\n",
       "  </thead>\n",
       "  <tbody>\n",
       "    <tr>\n",
       "      <th>count</th>\n",
       "      <td>3.098481e+06</td>\n",
       "      <td>3.098481e+06</td>\n",
       "      <td>3.098481e+06</td>\n",
       "      <td>3.098481e+06</td>\n",
       "      <td>3.098481e+06</td>\n",
       "    </tr>\n",
       "    <tr>\n",
       "      <th>mean</th>\n",
       "      <td>4.268473e+09</td>\n",
       "      <td>3.551901e+04</td>\n",
       "      <td>1.080463e-01</td>\n",
       "      <td>3.840396e+03</td>\n",
       "      <td>1.699459e+12</td>\n",
       "    </tr>\n",
       "    <tr>\n",
       "      <th>std</th>\n",
       "      <td>8.944609e+05</td>\n",
       "      <td>2.285112e+02</td>\n",
       "      <td>4.871870e-01</td>\n",
       "      <td>1.734287e+04</td>\n",
       "      <td>2.456579e+07</td>\n",
       "    </tr>\n",
       "    <tr>\n",
       "      <th>min</th>\n",
       "      <td>4.266923e+09</td>\n",
       "      <td>3.507300e+04</td>\n",
       "      <td>1.000000e-03</td>\n",
       "      <td>3.507320e+01</td>\n",
       "      <td>1.699402e+12</td>\n",
       "    </tr>\n",
       "    <tr>\n",
       "      <th>25%</th>\n",
       "      <td>4.267698e+09</td>\n",
       "      <td>3.532440e+04</td>\n",
       "      <td>3.000000e-03</td>\n",
       "      <td>1.076193e+02</td>\n",
       "      <td>1.699441e+12</td>\n",
       "    </tr>\n",
       "    <tr>\n",
       "      <th>50%</th>\n",
       "      <td>4.268473e+09</td>\n",
       "      <td>3.544450e+04</td>\n",
       "      <td>1.100000e-02</td>\n",
       "      <td>3.882626e+02</td>\n",
       "      <td>1.699467e+12</td>\n",
       "    </tr>\n",
       "    <tr>\n",
       "      <th>75%</th>\n",
       "      <td>4.269247e+09</td>\n",
       "      <td>3.572370e+04</td>\n",
       "      <td>6.500000e-02</td>\n",
       "      <td>2.296970e+03</td>\n",
       "      <td>1.699479e+12</td>\n",
       "    </tr>\n",
       "    <tr>\n",
       "      <th>max</th>\n",
       "      <td>4.270022e+09</td>\n",
       "      <td>3.615000e+04</td>\n",
       "      <td>2.307430e+02</td>\n",
       "      <td>8.232910e+06</td>\n",
       "      <td>1.699488e+12</td>\n",
       "    </tr>\n",
       "  </tbody>\n",
       "</table>\n",
       "</div>"
      ],
      "text/plain": [
       "                 id         price           qty     quote_qty          time\n",
       "count  3.098481e+06  3.098481e+06  3.098481e+06  3.098481e+06  3.098481e+06\n",
       "mean   4.268473e+09  3.551901e+04  1.080463e-01  3.840396e+03  1.699459e+12\n",
       "std    8.944609e+05  2.285112e+02  4.871870e-01  1.734287e+04  2.456579e+07\n",
       "min    4.266923e+09  3.507300e+04  1.000000e-03  3.507320e+01  1.699402e+12\n",
       "25%    4.267698e+09  3.532440e+04  3.000000e-03  1.076193e+02  1.699441e+12\n",
       "50%    4.268473e+09  3.544450e+04  1.100000e-02  3.882626e+02  1.699467e+12\n",
       "75%    4.269247e+09  3.572370e+04  6.500000e-02  2.296970e+03  1.699479e+12\n",
       "max    4.270022e+09  3.615000e+04  2.307430e+02  8.232910e+06  1.699488e+12"
      ]
     },
     "execution_count": 84,
     "metadata": {},
     "output_type": "execute_result"
    }
   ],
   "source": [
    "df.describe()"
   ]
  },
  {
   "cell_type": "code",
   "execution_count": 89,
   "id": "b1836cd1",
   "metadata": {},
   "outputs": [],
   "source": [
    "df[\"normalized_price\"] = (df[\"price\"] - df[\"price\"].mean()) / df[\"price\"].std()"
   ]
  },
  {
   "cell_type": "code",
   "execution_count": 90,
   "id": "0f5899ae",
   "metadata": {},
   "outputs": [
    {
     "data": {
      "text/html": [
       "<div>\n",
       "<style scoped>\n",
       "    .dataframe tbody tr th:only-of-type {\n",
       "        vertical-align: middle;\n",
       "    }\n",
       "\n",
       "    .dataframe tbody tr th {\n",
       "        vertical-align: top;\n",
       "    }\n",
       "\n",
       "    .dataframe thead th {\n",
       "        text-align: right;\n",
       "    }\n",
       "</style>\n",
       "<table border=\"1\" class=\"dataframe\">\n",
       "  <thead>\n",
       "    <tr style=\"text-align: right;\">\n",
       "      <th></th>\n",
       "      <th>id</th>\n",
       "      <th>price</th>\n",
       "      <th>qty</th>\n",
       "      <th>quote_qty</th>\n",
       "      <th>time</th>\n",
       "      <th>is_buyer_maker</th>\n",
       "      <th>normalized_price</th>\n",
       "    </tr>\n",
       "  </thead>\n",
       "  <tbody>\n",
       "    <tr>\n",
       "      <th>0</th>\n",
       "      <td>4266923342</td>\n",
       "      <td>35406.5</td>\n",
       "      <td>0.012</td>\n",
       "      <td>424.8780</td>\n",
       "      <td>1699401604617</td>\n",
       "      <td>False</td>\n",
       "      <td>-0.492341</td>\n",
       "    </tr>\n",
       "    <tr>\n",
       "      <th>1</th>\n",
       "      <td>4266923343</td>\n",
       "      <td>35406.4</td>\n",
       "      <td>0.008</td>\n",
       "      <td>283.2512</td>\n",
       "      <td>1699401604646</td>\n",
       "      <td>True</td>\n",
       "      <td>-0.492779</td>\n",
       "    </tr>\n",
       "    <tr>\n",
       "      <th>2</th>\n",
       "      <td>4266923344</td>\n",
       "      <td>35406.4</td>\n",
       "      <td>0.006</td>\n",
       "      <td>212.4384</td>\n",
       "      <td>1699401604652</td>\n",
       "      <td>True</td>\n",
       "      <td>-0.492779</td>\n",
       "    </tr>\n",
       "    <tr>\n",
       "      <th>3</th>\n",
       "      <td>4266923345</td>\n",
       "      <td>35406.4</td>\n",
       "      <td>0.004</td>\n",
       "      <td>141.6256</td>\n",
       "      <td>1699401604652</td>\n",
       "      <td>True</td>\n",
       "      <td>-0.492779</td>\n",
       "    </tr>\n",
       "    <tr>\n",
       "      <th>4</th>\n",
       "      <td>4266923346</td>\n",
       "      <td>35406.4</td>\n",
       "      <td>0.150</td>\n",
       "      <td>5310.9600</td>\n",
       "      <td>1699401604652</td>\n",
       "      <td>True</td>\n",
       "      <td>-0.492779</td>\n",
       "    </tr>\n",
       "    <tr>\n",
       "      <th>5</th>\n",
       "      <td>4266923347</td>\n",
       "      <td>35406.4</td>\n",
       "      <td>0.013</td>\n",
       "      <td>460.2832</td>\n",
       "      <td>1699401604652</td>\n",
       "      <td>True</td>\n",
       "      <td>-0.492779</td>\n",
       "    </tr>\n",
       "    <tr>\n",
       "      <th>6</th>\n",
       "      <td>4266923348</td>\n",
       "      <td>35406.4</td>\n",
       "      <td>0.011</td>\n",
       "      <td>389.4704</td>\n",
       "      <td>1699401604652</td>\n",
       "      <td>True</td>\n",
       "      <td>-0.492779</td>\n",
       "    </tr>\n",
       "    <tr>\n",
       "      <th>7</th>\n",
       "      <td>4266923349</td>\n",
       "      <td>35406.4</td>\n",
       "      <td>0.003</td>\n",
       "      <td>106.2192</td>\n",
       "      <td>1699401604652</td>\n",
       "      <td>True</td>\n",
       "      <td>-0.492779</td>\n",
       "    </tr>\n",
       "    <tr>\n",
       "      <th>8</th>\n",
       "      <td>4266923350</td>\n",
       "      <td>35406.4</td>\n",
       "      <td>0.004</td>\n",
       "      <td>141.6256</td>\n",
       "      <td>1699401604652</td>\n",
       "      <td>True</td>\n",
       "      <td>-0.492779</td>\n",
       "    </tr>\n",
       "    <tr>\n",
       "      <th>9</th>\n",
       "      <td>4266923351</td>\n",
       "      <td>35406.3</td>\n",
       "      <td>0.084</td>\n",
       "      <td>2974.1292</td>\n",
       "      <td>1699401604652</td>\n",
       "      <td>True</td>\n",
       "      <td>-0.493216</td>\n",
       "    </tr>\n",
       "    <tr>\n",
       "      <th>10</th>\n",
       "      <td>4266923352</td>\n",
       "      <td>35406.3</td>\n",
       "      <td>0.112</td>\n",
       "      <td>3965.5056</td>\n",
       "      <td>1699401604652</td>\n",
       "      <td>True</td>\n",
       "      <td>-0.493216</td>\n",
       "    </tr>\n",
       "    <tr>\n",
       "      <th>11</th>\n",
       "      <td>4266923353</td>\n",
       "      <td>35406.3</td>\n",
       "      <td>0.141</td>\n",
       "      <td>4992.2883</td>\n",
       "      <td>1699401604652</td>\n",
       "      <td>True</td>\n",
       "      <td>-0.493216</td>\n",
       "    </tr>\n",
       "    <tr>\n",
       "      <th>12</th>\n",
       "      <td>4266923354</td>\n",
       "      <td>35406.3</td>\n",
       "      <td>0.017</td>\n",
       "      <td>601.9071</td>\n",
       "      <td>1699401604652</td>\n",
       "      <td>True</td>\n",
       "      <td>-0.493216</td>\n",
       "    </tr>\n",
       "    <tr>\n",
       "      <th>13</th>\n",
       "      <td>4266923355</td>\n",
       "      <td>35406.3</td>\n",
       "      <td>0.021</td>\n",
       "      <td>743.5323</td>\n",
       "      <td>1699401604652</td>\n",
       "      <td>True</td>\n",
       "      <td>-0.493216</td>\n",
       "    </tr>\n",
       "    <tr>\n",
       "      <th>14</th>\n",
       "      <td>4266923356</td>\n",
       "      <td>35406.3</td>\n",
       "      <td>0.021</td>\n",
       "      <td>743.5323</td>\n",
       "      <td>1699401604652</td>\n",
       "      <td>True</td>\n",
       "      <td>-0.493216</td>\n",
       "    </tr>\n",
       "    <tr>\n",
       "      <th>15</th>\n",
       "      <td>4266923357</td>\n",
       "      <td>35406.3</td>\n",
       "      <td>0.112</td>\n",
       "      <td>3965.5056</td>\n",
       "      <td>1699401604652</td>\n",
       "      <td>True</td>\n",
       "      <td>-0.493216</td>\n",
       "    </tr>\n",
       "    <tr>\n",
       "      <th>16</th>\n",
       "      <td>4266923358</td>\n",
       "      <td>35406.3</td>\n",
       "      <td>0.026</td>\n",
       "      <td>920.5638</td>\n",
       "      <td>1699401604652</td>\n",
       "      <td>True</td>\n",
       "      <td>-0.493216</td>\n",
       "    </tr>\n",
       "    <tr>\n",
       "      <th>17</th>\n",
       "      <td>4266923359</td>\n",
       "      <td>35406.3</td>\n",
       "      <td>0.017</td>\n",
       "      <td>601.9071</td>\n",
       "      <td>1699401604652</td>\n",
       "      <td>True</td>\n",
       "      <td>-0.493216</td>\n",
       "    </tr>\n",
       "    <tr>\n",
       "      <th>18</th>\n",
       "      <td>4266923360</td>\n",
       "      <td>35406.3</td>\n",
       "      <td>0.003</td>\n",
       "      <td>106.2189</td>\n",
       "      <td>1699401604652</td>\n",
       "      <td>True</td>\n",
       "      <td>-0.493216</td>\n",
       "    </tr>\n",
       "    <tr>\n",
       "      <th>19</th>\n",
       "      <td>4266923361</td>\n",
       "      <td>35406.2</td>\n",
       "      <td>0.003</td>\n",
       "      <td>106.2186</td>\n",
       "      <td>1699401604652</td>\n",
       "      <td>True</td>\n",
       "      <td>-0.493654</td>\n",
       "    </tr>\n",
       "  </tbody>\n",
       "</table>\n",
       "</div>"
      ],
      "text/plain": [
       "            id    price    qty  quote_qty           time  is_buyer_maker  \\\n",
       "0   4266923342  35406.5  0.012   424.8780  1699401604617           False   \n",
       "1   4266923343  35406.4  0.008   283.2512  1699401604646            True   \n",
       "2   4266923344  35406.4  0.006   212.4384  1699401604652            True   \n",
       "3   4266923345  35406.4  0.004   141.6256  1699401604652            True   \n",
       "4   4266923346  35406.4  0.150  5310.9600  1699401604652            True   \n",
       "5   4266923347  35406.4  0.013   460.2832  1699401604652            True   \n",
       "6   4266923348  35406.4  0.011   389.4704  1699401604652            True   \n",
       "7   4266923349  35406.4  0.003   106.2192  1699401604652            True   \n",
       "8   4266923350  35406.4  0.004   141.6256  1699401604652            True   \n",
       "9   4266923351  35406.3  0.084  2974.1292  1699401604652            True   \n",
       "10  4266923352  35406.3  0.112  3965.5056  1699401604652            True   \n",
       "11  4266923353  35406.3  0.141  4992.2883  1699401604652            True   \n",
       "12  4266923354  35406.3  0.017   601.9071  1699401604652            True   \n",
       "13  4266923355  35406.3  0.021   743.5323  1699401604652            True   \n",
       "14  4266923356  35406.3  0.021   743.5323  1699401604652            True   \n",
       "15  4266923357  35406.3  0.112  3965.5056  1699401604652            True   \n",
       "16  4266923358  35406.3  0.026   920.5638  1699401604652            True   \n",
       "17  4266923359  35406.3  0.017   601.9071  1699401604652            True   \n",
       "18  4266923360  35406.3  0.003   106.2189  1699401604652            True   \n",
       "19  4266923361  35406.2  0.003   106.2186  1699401604652            True   \n",
       "\n",
       "    normalized_price  \n",
       "0          -0.492341  \n",
       "1          -0.492779  \n",
       "2          -0.492779  \n",
       "3          -0.492779  \n",
       "4          -0.492779  \n",
       "5          -0.492779  \n",
       "6          -0.492779  \n",
       "7          -0.492779  \n",
       "8          -0.492779  \n",
       "9          -0.493216  \n",
       "10         -0.493216  \n",
       "11         -0.493216  \n",
       "12         -0.493216  \n",
       "13         -0.493216  \n",
       "14         -0.493216  \n",
       "15         -0.493216  \n",
       "16         -0.493216  \n",
       "17         -0.493216  \n",
       "18         -0.493216  \n",
       "19         -0.493654  "
      ]
     },
     "execution_count": 90,
     "metadata": {},
     "output_type": "execute_result"
    }
   ],
   "source": [
    "df.head(20)"
   ]
  },
  {
   "cell_type": "code",
   "execution_count": 95,
   "id": "8a5ef508",
   "metadata": {},
   "outputs": [
    {
     "data": {
      "text/html": [
       "<div>\n",
       "<style scoped>\n",
       "    .dataframe tbody tr th:only-of-type {\n",
       "        vertical-align: middle;\n",
       "    }\n",
       "\n",
       "    .dataframe tbody tr th {\n",
       "        vertical-align: top;\n",
       "    }\n",
       "\n",
       "    .dataframe thead th {\n",
       "        text-align: right;\n",
       "    }\n",
       "</style>\n",
       "<table border=\"1\" class=\"dataframe\">\n",
       "  <thead>\n",
       "    <tr style=\"text-align: right;\">\n",
       "      <th></th>\n",
       "      <th>a</th>\n",
       "      <th>b</th>\n",
       "    </tr>\n",
       "  </thead>\n",
       "  <tbody>\n",
       "    <tr>\n",
       "      <th>0</th>\n",
       "      <td>1</td>\n",
       "      <td>34</td>\n",
       "    </tr>\n",
       "    <tr>\n",
       "      <th>1</th>\n",
       "      <td>2</td>\n",
       "      <td>75</td>\n",
       "    </tr>\n",
       "  </tbody>\n",
       "</table>\n",
       "</div>"
      ],
      "text/plain": [
       "   a   b\n",
       "0  1  34\n",
       "1  2  75"
      ]
     },
     "execution_count": 95,
     "metadata": {},
     "output_type": "execute_result"
    }
   ],
   "source": [
    "df1 = pd.DataFrame()\n",
    "df1[\"a\"] = [1,2]\n",
    "df1[\"b\"] = [34, 75]\n",
    "df1"
   ]
  },
  {
   "cell_type": "code",
   "execution_count": 96,
   "id": "d1ee6a32",
   "metadata": {},
   "outputs": [
    {
     "data": {
      "text/html": [
       "<div>\n",
       "<style scoped>\n",
       "    .dataframe tbody tr th:only-of-type {\n",
       "        vertical-align: middle;\n",
       "    }\n",
       "\n",
       "    .dataframe tbody tr th {\n",
       "        vertical-align: top;\n",
       "    }\n",
       "\n",
       "    .dataframe thead th {\n",
       "        text-align: right;\n",
       "    }\n",
       "</style>\n",
       "<table border=\"1\" class=\"dataframe\">\n",
       "  <thead>\n",
       "    <tr style=\"text-align: right;\">\n",
       "      <th></th>\n",
       "      <th>a</th>\n",
       "      <th>b</th>\n",
       "    </tr>\n",
       "  </thead>\n",
       "  <tbody>\n",
       "    <tr>\n",
       "      <th>0</th>\n",
       "      <td>1</td>\n",
       "      <td>bla</td>\n",
       "    </tr>\n",
       "    <tr>\n",
       "      <th>1</th>\n",
       "      <td>2</td>\n",
       "      <td>hello</td>\n",
       "    </tr>\n",
       "    <tr>\n",
       "      <th>2</th>\n",
       "      <td>3</td>\n",
       "      <td>python</td>\n",
       "    </tr>\n",
       "    <tr>\n",
       "      <th>3</th>\n",
       "      <td>4</td>\n",
       "      <td>adrien</td>\n",
       "    </tr>\n",
       "  </tbody>\n",
       "</table>\n",
       "</div>"
      ],
      "text/plain": [
       "   a       b\n",
       "0  1     bla\n",
       "1  2   hello\n",
       "2  3  python\n",
       "3  4  adrien"
      ]
     },
     "execution_count": 96,
     "metadata": {},
     "output_type": "execute_result"
    }
   ],
   "source": [
    "df2 = pd.DataFrame()\n",
    "df2[\"a\"] = [1,2,3,4]\n",
    "df2[\"b\"] = [\"bla\", \"hello\", \"python\", \"adrien\"]\n",
    "df2"
   ]
  },
  {
   "cell_type": "code",
   "execution_count": 97,
   "id": "721b4de3",
   "metadata": {},
   "outputs": [
    {
     "data": {
      "text/html": [
       "<div>\n",
       "<style scoped>\n",
       "    .dataframe tbody tr th:only-of-type {\n",
       "        vertical-align: middle;\n",
       "    }\n",
       "\n",
       "    .dataframe tbody tr th {\n",
       "        vertical-align: top;\n",
       "    }\n",
       "\n",
       "    .dataframe thead th {\n",
       "        text-align: right;\n",
       "    }\n",
       "</style>\n",
       "<table border=\"1\" class=\"dataframe\">\n",
       "  <thead>\n",
       "    <tr style=\"text-align: right;\">\n",
       "      <th></th>\n",
       "      <th>a</th>\n",
       "      <th>b_x</th>\n",
       "      <th>b_y</th>\n",
       "    </tr>\n",
       "  </thead>\n",
       "  <tbody>\n",
       "    <tr>\n",
       "      <th>0</th>\n",
       "      <td>1</td>\n",
       "      <td>34</td>\n",
       "      <td>bla</td>\n",
       "    </tr>\n",
       "    <tr>\n",
       "      <th>1</th>\n",
       "      <td>2</td>\n",
       "      <td>75</td>\n",
       "      <td>hello</td>\n",
       "    </tr>\n",
       "  </tbody>\n",
       "</table>\n",
       "</div>"
      ],
      "text/plain": [
       "   a  b_x    b_y\n",
       "0  1   34    bla\n",
       "1  2   75  hello"
      ]
     },
     "execution_count": 97,
     "metadata": {},
     "output_type": "execute_result"
    }
   ],
   "source": [
    "df = pd.merge(df1, df2, on=\"a\", how=\"inner\")\n",
    "df"
   ]
  },
  {
   "cell_type": "code",
   "execution_count": 101,
   "id": "66ddfbf8",
   "metadata": {},
   "outputs": [
    {
     "data": {
      "text/html": [
       "<div>\n",
       "<style scoped>\n",
       "    .dataframe tbody tr th:only-of-type {\n",
       "        vertical-align: middle;\n",
       "    }\n",
       "\n",
       "    .dataframe tbody tr th {\n",
       "        vertical-align: top;\n",
       "    }\n",
       "\n",
       "    .dataframe thead th {\n",
       "        text-align: right;\n",
       "    }\n",
       "</style>\n",
       "<table border=\"1\" class=\"dataframe\">\n",
       "  <thead>\n",
       "    <tr style=\"text-align: right;\">\n",
       "      <th></th>\n",
       "      <th>a</th>\n",
       "      <th>b</th>\n",
       "      <th>c</th>\n",
       "    </tr>\n",
       "  </thead>\n",
       "  <tbody>\n",
       "    <tr>\n",
       "      <th>0</th>\n",
       "      <td>1</td>\n",
       "      <td>34</td>\n",
       "      <td>bla</td>\n",
       "    </tr>\n",
       "    <tr>\n",
       "      <th>1</th>\n",
       "      <td>2</td>\n",
       "      <td>75</td>\n",
       "      <td>hello</td>\n",
       "    </tr>\n",
       "  </tbody>\n",
       "</table>\n",
       "</div>"
      ],
      "text/plain": [
       "   a   b      c\n",
       "0  1  34    bla\n",
       "1  2  75  hello"
      ]
     },
     "execution_count": 101,
     "metadata": {},
     "output_type": "execute_result"
    }
   ],
   "source": [
    "df = df.rename({\"b_x\": \"b\", \"b_y\": \"c\"}, axis=1)\n",
    "df"
   ]
  },
  {
   "cell_type": "code",
   "execution_count": null,
   "id": "398ca631",
   "metadata": {},
   "outputs": [],
   "source": []
  }
 ],
 "metadata": {
  "kernelspec": {
   "display_name": "Python 3 (ipykernel)",
   "language": "python",
   "name": "python3"
  },
  "language_info": {
   "codemirror_mode": {
    "name": "ipython",
    "version": 3
   },
   "file_extension": ".py",
   "mimetype": "text/x-python",
   "name": "python",
   "nbconvert_exporter": "python",
   "pygments_lexer": "ipython3",
   "version": "3.10.9"
  }
 },
 "nbformat": 4,
 "nbformat_minor": 5
}
