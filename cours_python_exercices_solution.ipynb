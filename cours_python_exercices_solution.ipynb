{
 "cells": [
  {
   "cell_type": "markdown",
   "metadata": {},
   "source": [
    "# Exercice Corrections"
   ]
  },
  {
   "cell_type": "markdown",
   "metadata": {},
   "source": [
    "## Strings"
   ]
  },
  {
   "cell_type": "code",
   "execution_count": 1,
   "metadata": {},
   "outputs": [
    {
     "name": "stdout",
     "output_type": "stream",
     "text": [
      "Enter your name: Adrien\n",
      "Adrien\n"
     ]
    }
   ],
   "source": [
    "# ex 1\n",
    "\n",
    "name = input(\"Enter your name: \")\n",
    "print(name)"
   ]
  },
  {
   "cell_type": "code",
   "execution_count": 2,
   "metadata": {},
   "outputs": [
    {
     "name": "stdout",
     "output_type": "stream",
     "text": [
      "Enter your name: Adrien\n",
      "My name is Adrien\n",
      "My name is Adrien\n",
      "My name is Adrien\n"
     ]
    }
   ],
   "source": [
    "# ex 2\n",
    "\n",
    "name = input(\"Enter your name: \")\n",
    "print(\"My name is %s\" % name)\n",
    "print(\"My name is {}\".format(name))\n",
    "print(f\"My name is {name}\")"
   ]
  },
  {
   "cell_type": "code",
   "execution_count": 7,
   "metadata": {},
   "outputs": [
    {
     "name": "stdout",
     "output_type": "stream",
     "text": [
      "Using negative indexing: ! dlrow ,olleh\n",
      "Using negative indexing with 'range': ! dlrow ,olleh\n",
      "Using recursion: ! dlrow ,olleh\n"
     ]
    }
   ],
   "source": [
    "# ex 3\n",
    "\n",
    "# method 1\n",
    "s = \"hello, world !\"\n",
    "s = s[::-1]\n",
    "print(f\"Using negative indexing: {s}\")\n",
    "\n",
    "# method 2\n",
    "s = \"hello, world !\"\n",
    "s_reversed = []\n",
    "for i in range(len(s) - 1, -1, -1):\n",
    "    s_reversed.append(s[i])\n",
    "s_reversed = \"\".join(s_reversed)\n",
    "print(f\"Using negative indexing with 'range': {s_reversed}\")\n",
    "\n",
    "# method 3 (NOT MANDATORY) - Using recursion\n",
    "s = \"hello, world !\"\n",
    "def f(x):\n",
    "    if not x:\n",
    "        return x\n",
    "    return f(x[1:]) + x[0]\n",
    "print(f\"Using recursion: {f(s)}\")"
   ]
  },
  {
   "cell_type": "code",
   "execution_count": 10,
   "metadata": {},
   "outputs": [
    {
     "name": "stdout",
     "output_type": "stream",
     "text": [
      "Length of house: 2\n",
      "Width of house: 3\n",
      "The perimeter of your house is 10.0\n"
     ]
    }
   ],
   "source": [
    "# ex 4\n",
    "\n",
    "length = input(\"Length of house: \")\n",
    "width = input(\"Width of house: \")\n",
    "\n",
    "length = float(length)\n",
    "width = float(width)\n",
    "\n",
    "print(f\"The perimeter of your house is {2 * (length + width)}\")"
   ]
  },
  {
   "cell_type": "code",
   "execution_count": 11,
   "metadata": {},
   "outputs": [
    {
     "name": "stdout",
     "output_type": "stream",
     "text": [
      "Length of house: 2\n",
      "Width of house: 3\n",
      "The area of your house is 6.0\n"
     ]
    }
   ],
   "source": [
    "# ex 5\n",
    "\n",
    "length = input(\"Length of house: \")\n",
    "width = input(\"Width of house: \")\n",
    "\n",
    "length = float(length)\n",
    "width = float(width)\n",
    "\n",
    "print(f\"The area of your house is {length * width}\")"
   ]
  },
  {
   "cell_type": "markdown",
   "metadata": {},
   "source": [
    "## Control Flow"
   ]
  },
  {
   "cell_type": "code",
   "execution_count": 13,
   "metadata": {},
   "outputs": [
    {
     "name": "stdout",
     "output_type": "stream",
     "text": [
      "Enter your latest grade: -5\n",
      "Enter your latest grade: 25\n",
      "Enter your latest grade: 18\n",
      "A\n"
     ]
    }
   ],
   "source": [
    "# ex 6\n",
    "\n",
    "grade = -1\n",
    "while grade < 0 or grade > 20:\n",
    "    grade = input(\"Enter your latest grade: \")\n",
    "    grade = int(grade)\n",
    "\n",
    "if 0 <= grade < 5:\n",
    "    print(\"F\")\n",
    "elif 5 <= grade < 10:\n",
    "    print(\"D\")\n",
    "elif 10 <= grade < 15:\n",
    "    print(\"C\")\n",
    "elif 15 <= grade < 18:\n",
    "    print(\"B\")\n",
    "else:\n",
    "    print(\"A\")"
   ]
  },
  {
   "cell_type": "code",
   "execution_count": 14,
   "metadata": {},
   "outputs": [
    {
     "name": "stdout",
     "output_type": "stream",
     "text": [
      "The current value is: 1\n",
      "The current value is: 2\n",
      "The current value is: 3\n",
      "The current value is: 4\n",
      "The current value is: 5\n"
     ]
    }
   ],
   "source": [
    "# ex 7\n",
    "\n",
    "l = [1, 2, 3, 4, 5]\n",
    "for el in l:\n",
    "    print(f\"The current value is: {el}\")"
   ]
  },
  {
   "cell_type": "code",
   "execution_count": 15,
   "metadata": {},
   "outputs": [
    {
     "name": "stdout",
     "output_type": "stream",
     "text": [
      "The current value is: 1\n",
      "The current value is: 2\n",
      "The current value is: 3\n",
      "The current value is: 4\n",
      "The current value is: 5\n"
     ]
    }
   ],
   "source": [
    "# ex 8\n",
    "\n",
    "l = [1, 2, 3, 4, 5]\n",
    "n = len(l)\n",
    "i = 0\n",
    "while i < n:\n",
    "    print(f\"The current value is: {l[i]}\")\n",
    "    i += 1"
   ]
  },
  {
   "cell_type": "code",
   "execution_count": 17,
   "metadata": {},
   "outputs": [
    {
     "name": "stdout",
     "output_type": "stream",
     "text": [
      "Sum of the elements in the list is 15\n"
     ]
    }
   ],
   "source": [
    "# ex 9\n",
    "\n",
    "l = list(\"12345\")  # list(\"12345\") -> [\"1\", \"2\", \"3\", \"4\", \"5\"]\n",
    "s = sum([int(el) for el in l])\n",
    "print(f\"Sum of the elements in the list is {s}\")"
   ]
  },
  {
   "cell_type": "code",
   "execution_count": 6,
   "metadata": {},
   "outputs": [
    {
     "name": "stdout",
     "output_type": "stream",
     "text": [
      "Enter an integer greater than or equal to 2: 1\n",
      "Enter an integer greater than or equal to 2: -4\n",
      "Enter an integer greater than or equal to 2: -5\n",
      "Enter an integer greater than or equal to 2: 45\n",
      "False\n"
     ]
    }
   ],
   "source": [
    "# ex 10\n",
    "\n",
    "p = -1\n",
    "while p < 2:\n",
    "    p = input(\"Enter an integer greater than or equal to 2: \")\n",
    "    p = int(p)\n",
    "\n",
    "if p == 2:\n",
    "    print(True)\n",
    "else:\n",
    "    isprime = True\n",
    "    for i in range(2, p):\n",
    "        if p % i == 0:\n",
    "            isprime = False\n",
    "            break\n",
    "    if isprime:\n",
    "        print(True)\n",
    "    else:\n",
    "        print(False)"
   ]
  },
  {
   "cell_type": "code",
   "execution_count": 103,
   "metadata": {},
   "outputs": [
    {
     "name": "stdout",
     "output_type": "stream",
     "text": [
      "Python is fun !\n",
      "\n",
      "--------------------\n",
      "\n",
      "\n",
      "Python is fun !\n",
      "\n"
     ]
    }
   ],
   "source": [
    "# ex 11\n",
    "\n",
    "# method 1\n",
    "f = open(\"myfile.txt\", \"r\")\n",
    "print(f.read())\n",
    "f.close()\n",
    "print(\"--------------------\\n\\n\")\n",
    "\n",
    "# method 2\n",
    "with open(\"myfile.txt\", \"r\") as f:\n",
    "    print(f.read())"
   ]
  },
  {
   "cell_type": "markdown",
   "metadata": {},
   "source": [
    "## Built-in Types - Lists"
   ]
  },
  {
   "cell_type": "code",
   "execution_count": 26,
   "metadata": {},
   "outputs": [
    {
     "name": "stdout",
     "output_type": "stream",
     "text": [
      "67\n"
     ]
    }
   ],
   "source": [
    "# ex 12\n",
    "\n",
    "l = [34, 45, 67, 89]\n",
    "print(l[2])"
   ]
  },
  {
   "cell_type": "code",
   "execution_count": 29,
   "metadata": {},
   "outputs": [
    {
     "name": "stdout",
     "output_type": "stream",
     "text": [
      "Second element before increment 45\n",
      "Second element after increment 46\n"
     ]
    }
   ],
   "source": [
    "# ex 13\n",
    "\n",
    "l = [34, 45, 67, 89]\n",
    "print(f\"Second element before increment {l[1]}\")\n",
    "l[1] += 1\n",
    "print(f\"Second element after increment {l[1]}\")"
   ]
  },
  {
   "cell_type": "code",
   "execution_count": 30,
   "metadata": {},
   "outputs": [
    {
     "name": "stdout",
     "output_type": "stream",
     "text": [
      "[5, 4, 3, 2, 1]\n"
     ]
    }
   ],
   "source": [
    "# ex 14\n",
    "\n",
    "l = [1, 2, 3, 4, 5]\n",
    "l = l[::-1]\n",
    "print(l)\n",
    "\n",
    "# NOTE: works exactly the same as ex 3 if you want to see different ways to do it."
   ]
  },
  {
   "cell_type": "code",
   "execution_count": 32,
   "metadata": {},
   "outputs": [
    {
     "name": "stdout",
     "output_type": "stream",
     "text": [
      "[1, 2, 3, 4, 5, 6, 7, 8, 9, 10, 11, 12, 13, 14, 15, 16, 17, 18, 19, 20]\n",
      "[1, 2, 3, 4, 5, 6, 7, 8, 9, 10, 11, 12, 13, 14, 15, 16, 17, 18, 19, 20]\n",
      "[1, 2, 3, 4, 5, 6, 7, 8, 9, 10, 11, 12, 13, 14, 15, 16, 17, 18, 19, 20]\n",
      "[1, 2, 3, 4, 5, 6, 7, 8, 9, 10, 11, 12, 13, 14, 15, 16, 17, 18, 19, 20]\n"
     ]
    }
   ],
   "source": [
    "# ex 15\n",
    "\n",
    "# method 1\n",
    "l = []\n",
    "for i in range(1, 21):\n",
    "    l.append(i)\n",
    "print(l)\n",
    "\n",
    "# method 2\n",
    "l = []\n",
    "for i in range(1, 21):\n",
    "    l += [i]\n",
    "print(l)\n",
    "\n",
    "# method 3\n",
    "l = list(range(1, 21))\n",
    "print(l)\n",
    "\n",
    "# method 4\n",
    "l = [i for i in range(1, 21)]\n",
    "print(l)"
   ]
  },
  {
   "cell_type": "code",
   "execution_count": 33,
   "metadata": {},
   "outputs": [
    {
     "name": "stdout",
     "output_type": "stream",
     "text": [
      "[1, 2, 3, 4, 5, 6, 7, 8, 9, 10, 11, 12, 13, 14, 15, 16, 17, 18, 19, 20]\n"
     ]
    }
   ],
   "source": [
    "# ex 16\n",
    "\n",
    "l = []\n",
    "i = 1\n",
    "while i < 21:\n",
    "    l.append(i)\n",
    "    i += 1\n",
    "print(l)"
   ]
  },
  {
   "cell_type": "code",
   "execution_count": 35,
   "metadata": {},
   "outputs": [
    {
     "name": "stdout",
     "output_type": "stream",
     "text": [
      "[2, 4, 6, 8, 10, 12, 14, 16, 18, 20]\n"
     ]
    }
   ],
   "source": [
    "# ex 17\n",
    "\n",
    "l = [i for i in range(1, 21) if i % 2 == 0]\n",
    "print(l)"
   ]
  },
  {
   "cell_type": "code",
   "execution_count": 37,
   "metadata": {},
   "outputs": [
    {
     "name": "stdout",
     "output_type": "stream",
     "text": [
      "Enter a number between 25\n",
      "Enter a number between 8\n",
      "True\n"
     ]
    }
   ],
   "source": [
    "# ex 18\n",
    "l = [2, 4, 6, 7, 8, 9]\n",
    "\n",
    "i = -1\n",
    "while i < 1 or i > 10:\n",
    "    i = input(\"Enter a number between \")\n",
    "    i = int(i)\n",
    "print(i in l)"
   ]
  },
  {
   "cell_type": "code",
   "execution_count": 38,
   "metadata": {},
   "outputs": [
    {
     "name": "stdout",
     "output_type": "stream",
     "text": [
      "2\n"
     ]
    }
   ],
   "source": [
    "# ex 19\n",
    "\n",
    "l = [2, 4, 6, 7, 8, 9]\n",
    "print(min(l))"
   ]
  },
  {
   "cell_type": "code",
   "execution_count": 39,
   "metadata": {},
   "outputs": [
    {
     "name": "stdout",
     "output_type": "stream",
     "text": [
      "9\n"
     ]
    }
   ],
   "source": [
    "# ex 20\n",
    "\n",
    "l = [2, 4, 6, 7, 8, 9]\n",
    "print(max(l))"
   ]
  },
  {
   "cell_type": "code",
   "execution_count": 40,
   "metadata": {},
   "outputs": [
    {
     "name": "stdout",
     "output_type": "stream",
     "text": [
      "The last element in l was 9\n"
     ]
    }
   ],
   "source": [
    "# ex 21\n",
    "\n",
    "l = [2, 4, 6, 7, 8, 9]\n",
    "last = l.pop()\n",
    "print(f\"The last element in l was {last}\")"
   ]
  },
  {
   "cell_type": "code",
   "execution_count": 45,
   "metadata": {},
   "outputs": [
    {
     "name": "stdout",
     "output_type": "stream",
     "text": [
      "The element at index 2 was 6\n"
     ]
    }
   ],
   "source": [
    "# ex 22\n",
    "\n",
    "l = [2, 4, 6, 7, 8, 9]\n",
    "el = l.pop(2)\n",
    "print(f\"The element at index 2 was {el}\")\n",
    "\n",
    "# NOTE: after doing pop(2), the new element at index 2 is 7 because the new list after the pop\n",
    "# is [2, 4, 7, 8, 9]"
   ]
  },
  {
   "cell_type": "code",
   "execution_count": 50,
   "metadata": {},
   "outputs": [
    {
     "name": "stdout",
     "output_type": "stream",
     "text": [
      "The number of element(s) in the list is 6\n"
     ]
    }
   ],
   "source": [
    "# ex 23\n",
    "\n",
    "l = [2, 4, 6, 7, 8, 9]\n",
    "print(f\"The number of element(s) in the list is {len(l)}\")"
   ]
  },
  {
   "cell_type": "code",
   "execution_count": 51,
   "metadata": {
    "scrolled": true
   },
   "outputs": [
    {
     "name": "stdout",
     "output_type": "stream",
     "text": [
      "The number of element(s) in the list is 6\n"
     ]
    }
   ],
   "source": [
    "# ex 24\n",
    "\n",
    "l = [2, 4, 6, 7, 8, 9]\n",
    "count = 0\n",
    "for el in l:\n",
    "    count += 1\n",
    "print(f\"The number of element(s) in the list is {count}\") "
   ]
  },
  {
   "cell_type": "code",
   "execution_count": 58,
   "metadata": {},
   "outputs": [
    {
     "name": "stdout",
     "output_type": "stream",
     "text": [
      "[1, 25, 32, 34, 45, 105, 546]\n",
      "[1, 25, 32, 34, 45, 105, 546]\n",
      "[1, 25, 32, 34, 45, 105, 546]\n",
      "[1, 25, 32, 34, 45, 105, 546]\n"
     ]
    }
   ],
   "source": [
    "# ex 25\n",
    "\n",
    "# method 1\n",
    "l = [45, 34, 25, 105, 546, 1, 32]\n",
    "l.sort()\n",
    "print(l)\n",
    "\n",
    "# method 2\n",
    "l = [45, 34, 25, 105, 546, 1, 32]\n",
    "l.sort(reverse=False)\n",
    "print(l)\n",
    "\n",
    "# method 3\n",
    "print(sorted(l))\n",
    "\n",
    "# method 4\n",
    "print(sorted(l, reverse=False))"
   ]
  },
  {
   "cell_type": "code",
   "execution_count": 59,
   "metadata": {},
   "outputs": [
    {
     "name": "stdout",
     "output_type": "stream",
     "text": [
      "[1, 4, 9, 16, 25, 36, 49, 64, 81, 100]\n"
     ]
    }
   ],
   "source": [
    "# ex 26\n",
    "\n",
    "print([i * i for i in range(1, 11)])"
   ]
  },
  {
   "cell_type": "markdown",
   "metadata": {},
   "source": [
    "## Built-in Types - Sets"
   ]
  },
  {
   "cell_type": "code",
   "execution_count": 61,
   "metadata": {},
   "outputs": [
    {
     "name": "stdout",
     "output_type": "stream",
     "text": [
      "{1, 2, 3}\n"
     ]
    }
   ],
   "source": [
    "# ex 27\n",
    "\n",
    "l = [1, 2, 3]\n",
    "print(set(l))"
   ]
  },
  {
   "cell_type": "code",
   "execution_count": 65,
   "metadata": {},
   "outputs": [
    {
     "name": "stdout",
     "output_type": "stream",
     "text": [
      "{1, 2, 3}\n",
      "The set removes the duplicate 1 element\n",
      "In a way, sets are the python data structure analogous to mathematical set objects\n"
     ]
    }
   ],
   "source": [
    "# ex 28\n",
    "\n",
    "l = [1, 1, 2, 3]\n",
    "print(set(l))\n",
    "print(\"The set removes the duplicate 1 element\")\n",
    "print(\"In a way, sets are the python data structure analogous to mathematical set objects\")"
   ]
  },
  {
   "cell_type": "code",
   "execution_count": 72,
   "metadata": {},
   "outputs": [
    {
     "name": "stdout",
     "output_type": "stream",
     "text": [
      "{1}\n"
     ]
    }
   ],
   "source": [
    "# ex 29\n",
    "\n",
    "s1 = {1, 2}\n",
    "s2 = {1, 3}\n",
    "print(s1.intersection(s2))"
   ]
  },
  {
   "cell_type": "code",
   "execution_count": 76,
   "metadata": {},
   "outputs": [
    {
     "name": "stdout",
     "output_type": "stream",
     "text": [
      "False\n"
     ]
    }
   ],
   "source": [
    "# ex 30\n",
    "\n",
    "s1 = {1, 2}\n",
    "s2 = {1, 3}\n",
    "print(s1.issubset(s2))"
   ]
  },
  {
   "cell_type": "code",
   "execution_count": 77,
   "metadata": {},
   "outputs": [
    {
     "name": "stdout",
     "output_type": "stream",
     "text": [
      "True\n"
     ]
    }
   ],
   "source": [
    "# ex 31\n",
    "\n",
    "s1 = {1, 2}\n",
    "s2 = {1, 2, 3}\n",
    "print(s1.issubset(s2))"
   ]
  },
  {
   "cell_type": "markdown",
   "metadata": {},
   "source": [
    "## Built-in Types - Dicts"
   ]
  },
  {
   "cell_type": "code",
   "execution_count": 91,
   "metadata": {},
   "outputs": [
    {
     "name": "stdout",
     "output_type": "stream",
     "text": [
      "{1: 3, 2: 2, 3: 1}\n",
      "Counter({1: 3, 2: 2, 3: 1})\n"
     ]
    }
   ],
   "source": [
    "# ex 32\n",
    "\n",
    "l = [1, 1, 1, 2, 2, 3]\n",
    "\n",
    "# method 1\n",
    "d = {}\n",
    "for el in l:\n",
    "    if el in d:\n",
    "        d[el] += 1\n",
    "    else:\n",
    "        d[el] = 1  # must be the first occurence\n",
    "print(d)\n",
    "\n",
    "# method 2 (NOT MANDATORY) - using collections.Counter\n",
    "import collections\n",
    "d = collections.Counter(l)  # works just like a dict\n",
    "print(d)\n",
    "\n",
    "# NOTE: Pytohn built-in libraries are sometimes very useful !"
   ]
  },
  {
   "cell_type": "code",
   "execution_count": 82,
   "metadata": {},
   "outputs": [
    {
     "name": "stdout",
     "output_type": "stream",
     "text": [
      "dict_keys(['a', 'b', 'c'])\n",
      "a\n",
      "b\n",
      "c\n"
     ]
    }
   ],
   "source": [
    "# ex 33\n",
    "\n",
    "d = {\"a\": 23, \"b\": 45, \"c\": 2}\n",
    "\n",
    "print(d.keys())\n",
    "\n",
    "# you can actually iterate through keys, like so:\n",
    "for k in d.keys():\n",
    "    print(k)"
   ]
  },
  {
   "cell_type": "code",
   "execution_count": 83,
   "metadata": {},
   "outputs": [
    {
     "name": "stdout",
     "output_type": "stream",
     "text": [
      "dict_values([23, 45, 2])\n",
      "23\n",
      "45\n",
      "2\n"
     ]
    }
   ],
   "source": [
    "# ex 34\n",
    "\n",
    "d = {\"a\": 23, \"b\": 45, \"c\": 2}\n",
    "\n",
    "print(d.values())\n",
    "\n",
    "# you can actually iterate through values, like so:\n",
    "for v in d.values():\n",
    "    print(v)"
   ]
  },
  {
   "cell_type": "code",
   "execution_count": 86,
   "metadata": {},
   "outputs": [
    {
     "name": "stdout",
     "output_type": "stream",
     "text": [
      "dict_items([('a', 23), ('b', 45), ('c', 2)])\n",
      "key = a, value = 23\n",
      "key = b, value = 45\n",
      "key = c, value = 2\n"
     ]
    }
   ],
   "source": [
    "# ex 35\n",
    "\n",
    "d = {\"a\": 23, \"b\": 45, \"c\": 2}\n",
    "\n",
    "print(d.items())\n",
    "\n",
    "# you can actually iterate through values, like so:\n",
    "for k, v in d.items():\n",
    "    print(f\"key = {k}, value = {v}\")\n",
    "    \n",
    "# NOTE: Notice how python dict are essentially a list of tuples where each tuple is of the form (key, value)\n",
    "#       Tuples are immutables and can be used in a set as a unique element, in fact, under the hood, a dict is nothing other\n",
    "#       than a set of unique key items mapping to an index in an array of value."
   ]
  },
  {
   "cell_type": "code",
   "execution_count": 87,
   "metadata": {},
   "outputs": [
    {
     "name": "stdout",
     "output_type": "stream",
     "text": [
      "23\n"
     ]
    }
   ],
   "source": [
    "# ex 36\n",
    "\n",
    "d = {\"a\": 23, \"b\": 45, \"c\": 2}\n",
    "print(d.pop(\"a\"))"
   ]
  },
  {
   "cell_type": "code",
   "execution_count": 105,
   "metadata": {},
   "outputs": [
    {
     "name": "stdout",
     "output_type": "stream",
     "text": [
      "{(3, 7), (5, 5)}\n",
      "{(3, 7), (5, 5)}\n",
      "{(3, 7), (5, 5)}\n"
     ]
    }
   ],
   "source": [
    "# ex 37\n",
    "\n",
    "s = 10\n",
    "l = [1, 3, 5, 5, 7, 10]\n",
    "\n",
    "# method 1 - O(n^2)\n",
    "res = set()\n",
    "for i in l:\n",
    "    for j in l:\n",
    "        if i + j == s:\n",
    "            t = (i, j)\n",
    "            if t not in res and (j, i) not in res:\n",
    "                res.add(t)\n",
    "print(res)\n",
    "\n",
    "# method 2 (a bit better)- n(n + 1) / 2 ~ n^2 / 2 = O(n^2)\n",
    "res = set()\n",
    "n = len(l)\n",
    "for i in range(n):\n",
    "    for j in range(i + 1, n):\n",
    "        li = l[i]\n",
    "        lj = l[j]\n",
    "        if li + lj == s:\n",
    "            res.add((li, lj))\n",
    "print(res)\n",
    "\n",
    "# method 3 (much better) - 2n = O(n)\n",
    "d, seen = {}, set()\n",
    "for el in l:\n",
    "    if el not in seen:  # O(1) because seen is a set\n",
    "        diff = s - el\n",
    "        d[diff] = el\n",
    "        seen = seen.union({el, diff})\n",
    "\n",
    "res = set()\n",
    "for el in l:\n",
    "    if el in d:  # O(1) because d is a dict\n",
    "        res.add((d[el], el))\n",
    "print(res)"
   ]
  },
  {
   "cell_type": "code",
   "execution_count": 102,
   "metadata": {},
   "outputs": [
    {
     "name": "stdout",
     "output_type": "stream",
     "text": [
      "Hello from myotherfile\n",
      "\n",
      "I am another line\n",
      "\n",
      "I am the last line of this file, bye !\n",
      "\n",
      "--------------------\n",
      "\n",
      "\n",
      "Hello from myotherfile\n",
      "\n",
      "I am another line\n",
      "\n",
      "I am the last line of this file, bye !\n",
      "\n",
      "--------------------\n",
      "\n",
      "\n",
      "Hello from myotherfile\n",
      "\n",
      "I am another line\n",
      "\n",
      "I am the last line of this file, bye !\n",
      "\n"
     ]
    }
   ],
   "source": [
    "# ex 38\n",
    "\n",
    "# method 1\n",
    "f = open(\"myotherfile.txt\", \"r\")\n",
    "for line in f.readlines():\n",
    "    print(line)\n",
    "f.close()\n",
    "print(\"--------------------\\n\\n\")\n",
    "\n",
    "# method 2\n",
    "f = open(\"myotherfile.txt\", \"r\")\n",
    "for line in f:  # the file object f is actually an iterator itself\n",
    "    print(line)\n",
    "f.close()\n",
    "print(\"--------------------\\n\\n\")\n",
    "\n",
    "# method 3\n",
    "with open(\"myotherfile.txt\", \"r\") as f:\n",
    "    for line in f:\n",
    "        print(line)"
   ]
  },
  {
   "cell_type": "markdown",
   "metadata": {},
   "source": [
    "## Functions"
   ]
  },
  {
   "cell_type": "code",
   "execution_count": 6,
   "metadata": {},
   "outputs": [
    {
     "name": "stdout",
     "output_type": "stream",
     "text": [
      "i) x = 1\n",
      "ii) y = 2\n",
      "iii) l = [1, 34, 3]\n",
      "iv) t = (1, 2, 3)\n"
     ]
    }
   ],
   "source": [
    "# ex 39\n",
    "\n",
    "# i)\n",
    "\n",
    "def f(x):\n",
    "    x += 1\n",
    "\n",
    "x = 1\n",
    "f(x)\n",
    "print(f\"i) x = {x}\")\n",
    "# x is an int so it is immutable and therefore\n",
    "# it is not altered when passed as a parameter to f\n",
    "# and incremented inside of f local scope\n",
    "\n",
    "\n",
    "# ii)\n",
    "\n",
    "def g():\n",
    "    global y\n",
    "    y += 1\n",
    "\n",
    "y = 1\n",
    "g()\n",
    "print(f\"ii) y = {y}\")\n",
    "# y is incremented by 1 because the keyword global is telling g to increment\n",
    "# the global variable y\n",
    "\n",
    "\n",
    "# iii)\n",
    "\n",
    "def h(x):\n",
    "    x[1] = 34\n",
    "\n",
    "l = [1,2,3]\n",
    "h(l)\n",
    "print(f\"iii) l = {l}\")\n",
    "# l is a list so it is mutable and therefore\n",
    "# it is altered inside of h when passed as a parameter\n",
    "\n",
    "\n",
    "# iv)\n",
    "\n",
    "def k(x):\n",
    "    x += (45,)\n",
    "\n",
    "t = (1, 2, 3)\n",
    "k(t)\n",
    "print(f\"iv) t = {t}\")\n",
    "# t is a tuple so it is immutable and therefore\n",
    "# it is not altered when passed as a parameter to k\n",
    "# and incremented inside of k local scope"
   ]
  },
  {
   "cell_type": "code",
   "execution_count": 20,
   "metadata": {},
   "outputs": [
    {
     "name": "stdout",
     "output_type": "stream",
     "text": [
      "factorial(-1)\n",
      "0! = 1\n",
      "1! = 1\n",
      "2! = 2\n",
      "3! = 6\n",
      "4! = 24\n",
      "5! = 120\n"
     ]
    }
   ],
   "source": [
    "# ex 40\n",
    "\n",
    "def factorial(n):\n",
    "    if n < 0:\n",
    "        print(\"n must be >= 0\")  # returns None by default here\n",
    "    elif n <= 1:\n",
    "        return 1  # 0! = 1\n",
    "    else:\n",
    "        p = 1\n",
    "        for i in range(2, n + 1):\n",
    "            p *= i\n",
    "        return p\n",
    "\n",
    "print(\"factorial(-1)\")\n",
    "print(f\"0! = {factorial(0)}\")\n",
    "print(f\"1! = {factorial(1)}\")\n",
    "print(f\"2! = {factorial(2)}\")\n",
    "print(f\"3! = {factorial(3)}\")\n",
    "print(f\"4! = {factorial(4)}\")\n",
    "print(f\"5! = {factorial(5)}\")"
   ]
  },
  {
   "cell_type": "code",
   "execution_count": 21,
   "metadata": {},
   "outputs": [
    {
     "name": "stdout",
     "output_type": "stream",
     "text": [
      "factorial(-1)\n",
      "0! = 1\n",
      "1! = 1\n",
      "2! = 2\n",
      "3! = 6\n",
      "4! = 24\n",
      "5! = 120\n"
     ]
    }
   ],
   "source": [
    "# ex 41\n",
    "\n",
    "def recursive_fact(n):\n",
    "    if n < 0:\n",
    "        print(\"n must be >= 0\")  # returns None by default here\n",
    "    elif n <= 1:\n",
    "        return 1  # 0! = 1\n",
    "    else:\n",
    "        return recursive_fact(n - 1) + recursive_fact(n - 2)\n",
    "\n",
    "\n",
    "# NOTE: recursive_fact is much slower than factorial from ex 40\n",
    "#       factorial is O(n) while recursive_fact is O(2^n)\n",
    "\n",
    "# NOTE: O(2^n) becomes unmanageable really quickly even for relatively small n\n",
    "#       like n = 30 results in the order of 10^9 operations\n",
    "\n",
    "\n",
    "print(\"factorial(-1)\")\n",
    "print(f\"0! = {factorial(0)}\")\n",
    "print(f\"1! = {factorial(1)}\")\n",
    "print(f\"2! = {factorial(2)}\")\n",
    "print(f\"3! = {factorial(3)}\")\n",
    "print(f\"4! = {factorial(4)}\")\n",
    "print(f\"5! = {factorial(5)}\")"
   ]
  },
  {
   "cell_type": "code",
   "execution_count": 27,
   "metadata": {},
   "outputs": [
    {
     "name": "stdout",
     "output_type": "stream",
     "text": [
      "s = '' True\n",
      "s = 'a' True\n",
      "s = 'abdgrgdba' True\n",
      "s = 'adrrda' True\n",
      "s = 'notapalindrome' False\n",
      "--------------------------\n",
      "\n",
      "\n",
      "s = '' True\n",
      "s = 'a' True\n",
      "s = 'abdgrgdba' True\n",
      "s = 'adrrda' True\n",
      "s = 'notapalindrome' False\n"
     ]
    }
   ],
   "source": [
    "# ex 42\n",
    "\n",
    "# test cases\n",
    "s0 = \"\"                # True\n",
    "s1 = \"a\"               # True\n",
    "s2 = \"abdgrgdba\"       # True\n",
    "s3 = \"adrrda\"          # True\n",
    "s4 = \"notapalindrome\"  # False\n",
    "\n",
    "# method 1\n",
    "def is_palindrome1(s):\n",
    "    return s == s[::-1]\n",
    "\n",
    "# method 2\n",
    "def is_palindrome2(s):\n",
    "    n = len(s)\n",
    "    for i in range(n // 2):\n",
    "        if s[i] != s[n - i - 1]:\n",
    "            return False\n",
    "    return True\n",
    "\n",
    "\n",
    "# is_palindrom1\n",
    "\n",
    "print(f\"s = '{s0}' {is_palindrome1(s0)}\")\n",
    "print(f\"s = '{s1}' {is_palindrome1(s1)}\")\n",
    "print(f\"s = '{s2}' {is_palindrome1(s2)}\")\n",
    "print(f\"s = '{s3}' {is_palindrome1(s3)}\")\n",
    "print(f\"s = '{s4}' {is_palindrome1(s4)}\")\n",
    "\n",
    "print(\"--------------------------\\n\\n\")\n",
    "\n",
    "# is_palindrom2\n",
    "\n",
    "print(f\"s = '{s0}' {is_palindrome2(s0)}\")\n",
    "print(f\"s = '{s1}' {is_palindrome2(s1)}\")\n",
    "print(f\"s = '{s2}' {is_palindrome2(s2)}\")\n",
    "print(f\"s = '{s3}' {is_palindrome2(s3)}\")\n",
    "print(f\"s = '{s4}' {is_palindrome2(s4)}\")"
   ]
  },
  {
   "cell_type": "code",
   "execution_count": 28,
   "metadata": {},
   "outputs": [
    {
     "data": {
      "text/plain": [
       "81"
      ]
     },
     "execution_count": 28,
     "metadata": {},
     "output_type": "execute_result"
    }
   ],
   "source": [
    "# ex 43\n",
    "\n",
    "def sum_integers(*ints):\n",
    "    return sum(ints)\n",
    "\n",
    "sum_integers(1,2,3,4,5,66)"
   ]
  },
  {
   "cell_type": "code",
   "execution_count": 52,
   "metadata": {},
   "outputs": [
    {
     "name": "stdout",
     "output_type": "stream",
     "text": [
      "Area of a circle with radius 1 is 3.14\n",
      "Area of a circle with radius 2 is 12.57\n"
     ]
    }
   ],
   "source": [
    "# ex 44\n",
    "\n",
    "import numpy as np\n",
    "\n",
    "def circle_area(radius):\n",
    "    return np.pi * radius ** 2\n",
    "\n",
    "print(f\"Area of a circle with radius 1 is {circle_area(1):0.2f}\")\n",
    "print(f\"Area of a circle with radius 2 is {circle_area(2):0.2f}\")\n",
    "\n",
    "# NOTE: :0.2f in the f-string truncates the float to 2 decimal places"
   ]
  },
  {
   "cell_type": "code",
   "execution_count": 53,
   "metadata": {},
   "outputs": [
    {
     "name": "stdout",
     "output_type": "stream",
     "text": [
      "radius = 1 area = 3.14 perimeter = 6.28\n",
      "radius = 2 area = 12.57 perimeter = 12.57\n"
     ]
    }
   ],
   "source": [
    "# ex 45\n",
    "\n",
    "import numpy as np\n",
    "\n",
    "def circle_metrics(radius):\n",
    "    return np.pi * radius ** 2, 2 * np.pi * radius\n",
    "\n",
    "print(\"radius = 1 area = {0[0]:0.2f} perimeter = {0[1]:0.2f}\".format(circle_metrics(1)))\n",
    "print(\"radius = 2 area = {0[0]:0.2f} perimeter = {0[1]:0.2f}\".format(circle_metrics(2)))\n",
    "\n",
    "# NOTE: :0.2f in the string truncates the float to 2 decimal places"
   ]
  },
  {
   "cell_type": "code",
   "execution_count": 66,
   "metadata": {},
   "outputs": [
    {
     "name": "stdout",
     "output_type": "stream",
     "text": [
      "radius = 1 actual perimeter = 6.28\n",
      "radius = 1 approx perimeter = 6.3146 error = 0.03142\n",
      "radius = 1 approx perimeter = 6.2989 error = 0.01571\n",
      "radius = 1 approx perimeter = 6.2863 error = 0.00314\n",
      "radius = 1 approx perimeter = 6.2835 error = 0.00031\n"
     ]
    }
   ],
   "source": [
    "# ex 46\n",
    "\n",
    "# i)\n",
    "\n",
    "def f(x):\n",
    "    return x ** 2\n",
    "\n",
    "\n",
    "# ii)\n",
    "\n",
    "def df(x, eps= 0.01, f=None):\n",
    "    if f:\n",
    "        return (f(x + eps) - f(x)) / eps\n",
    "    else:\n",
    "        return 2 * x\n",
    "\n",
    "    \n",
    "# iii)\n",
    "\n",
    "import numpy as np\n",
    "\n",
    "def circle_area(radius):\n",
    "    return np.pi * radius ** 2\n",
    "\n",
    "area, perimeter = circle_metrics(1)\n",
    "print(f\"radius = 1 actual perimeter = {perimeter:0.2f}\")\n",
    "for eps in [0.01, 0.005, 0.001, 0.0001]:\n",
    "    approx_perimeter = df(1, eps=eps, f=circle_area)\n",
    "    print(f\"radius = 1 approx perimeter = {approx_perimeter:0.4f} error = {np.abs(perimeter - approx_perimeter):0.5f}\")\n",
    "\n",
    "# NOTE: Notice how the error gets smaller as eps tends to zero"
   ]
  },
  {
   "cell_type": "code",
   "execution_count": 110,
   "metadata": {},
   "outputs": [
    {
     "name": "stdout",
     "output_type": "stream",
     "text": [
      "3.7416573867739413\n",
      "1.0\n",
      "0.9999999999999999\n"
     ]
    }
   ],
   "source": [
    "# ex 47\n",
    "\n",
    "import math  # using python native library math instead of numpy here\n",
    "\n",
    "def l2_norm(*coords):\n",
    "    return math.sqrt(sum([c * c for c in coords]))\n",
    "\n",
    "print(l2_norm(1, 2, 3))\n",
    "print(l2_norm(math.sqrt(2) / 2, math.sqrt(2) / 2))\n",
    "print(l2_norm(math.sqrt(3) / 2, 1 / 2))"
   ]
  },
  {
   "cell_type": "code",
   "execution_count": 111,
   "metadata": {},
   "outputs": [
    {
     "name": "stdout",
     "output_type": "stream",
     "text": [
      "[[1, 2, 3], [4, 5, 6], [7, 8, 9]]  -> [[1, 4, 7], [2, 5, 8], [3, 6, 9]]\n",
      "--------------------\n",
      "\n",
      "\n",
      "[[1, 2, 3]]  -> [[1], [2], [3]]\n",
      "--------------------\n",
      "\n",
      "\n",
      "[[1], [2], [3]]  -> [[1, 2, 3]]\n"
     ]
    }
   ],
   "source": [
    "# ex 48\n",
    "\n",
    "def T(M):\n",
    "    m, n = len(M), len(M[0])\n",
    "    M_T = [[None for _ in range(m)] for _ in range(n)]\n",
    "    for i in range(m):\n",
    "        for j in range(n):\n",
    "            M_T[j][i] = M[i][j]\n",
    "    return M_T\n",
    "\n",
    "M = [[1, 2, 3], [4, 5, 6], [7, 8, 9]]\n",
    "print(M, \" ->\", T(M))\n",
    "\n",
    "print(\"--------------------\\n\\n\")\n",
    "\n",
    "M = [[1, 2, 3]]\n",
    "print(M, \" ->\", T(M))\n",
    "\n",
    "print(\"--------------------\\n\\n\")\n",
    "\n",
    "M = [[1], [2], [3]]\n",
    "print(M, \" ->\", T(M))"
   ]
  },
  {
   "cell_type": "code",
   "execution_count": 112,
   "metadata": {},
   "outputs": [
    {
     "name": "stdout",
     "output_type": "stream",
     "text": [
      "[[2, 4, 6], [8, 10, 12], [14, 16, 18]]\n",
      "--------------------\n",
      "\n",
      "\n",
      "Both matrices must have the same dimensions\n",
      "None\n"
     ]
    }
   ],
   "source": [
    "# ex 49\n",
    "\n",
    "def matadd(A, B):\n",
    "    m, n = len(A), len(A[0])\n",
    "    \n",
    "    # sanity check\n",
    "    if m != len(B) or n != len(B[0]):\n",
    "        print(\"Both matrices must have the same dimensions\")  # this will return None\n",
    "    else:\n",
    "        # allocate result matrix\n",
    "        C = [[None for _ in range(n)] for _ in range(m)]\n",
    "        for i in range(m):\n",
    "            for j in range(n):\n",
    "                C[i][j] = A[i][j] + B[i][j]\n",
    "        return C\n",
    "\n",
    "M = [[1, 2, 3], [4, 5, 6], [7, 8, 9]]\n",
    "print(matadd(M, M))\n",
    "\n",
    "print(\"--------------------\\n\\n\")\n",
    "\n",
    "N = [[1, 2, 3], [4, 5, 6]]\n",
    "print(matadd(M, N))"
   ]
  },
  {
   "cell_type": "code",
   "execution_count": 113,
   "metadata": {},
   "outputs": [
    {
     "name": "stdout",
     "output_type": "stream",
     "text": [
      "3^2 = 9\n"
     ]
    }
   ],
   "source": [
    "# ex 50\n",
    "\n",
    "f = lambda x: x * x\n",
    "\n",
    "print(f\"3^2 = {f(3)}\")"
   ]
  },
  {
   "cell_type": "code",
   "execution_count": 114,
   "metadata": {},
   "outputs": [
    {
     "name": "stdout",
     "output_type": "stream",
     "text": [
      "1^2 + 2^2 = 5\n"
     ]
    }
   ],
   "source": [
    "# ex 51\n",
    "\n",
    "g = lambda x, y: x * x + y * y\n",
    "\n",
    "print(f\"1^2 + 2^2 = {g(1, 2)}\")"
   ]
  },
  {
   "cell_type": "code",
   "execution_count": 115,
   "metadata": {},
   "outputs": [
    {
     "name": "stdout",
     "output_type": "stream",
     "text": [
      "[[30, 36, 42], [66, 81, 96], [102, 126, 150]]\n",
      "--------------------\n",
      "\n",
      "\n",
      "[[14]]\n"
     ]
    }
   ],
   "source": [
    "# ex 52\n",
    "\n",
    "def matmul(A, B):\n",
    "    m, n = len(A), len(A[0])\n",
    "    p, k = len(B), len(B[0])\n",
    "    \n",
    "    # sanity checks\n",
    "    if n != p:\n",
    "        print(\"Can only multiply m x n by a n x k\")  # this will return None\n",
    "    else:\n",
    "        # allocate result array\n",
    "        C = [[None for _ in range(k)] for _ in range(m)]\n",
    "        for i, row1 in enumerate(A):\n",
    "            for j, row2 in enumerate(T(B)):\n",
    "                s = 0\n",
    "                for l in range(len(row1)):\n",
    "                    s += row1[l] * row2[l]\n",
    "                C[i][j] = s\n",
    "        return C\n",
    "\n",
    "M = [[1, 2, 3], [4, 5, 6], [7, 8, 9]]\n",
    "print(matmul(M, M))\n",
    "\n",
    "print(\"--------------------\\n\\n\")\n",
    "\n",
    "M = [[1, 2, 3]]\n",
    "print(matmul(M, T(M)))  # produit scalaire"
   ]
  },
  {
   "cell_type": "code",
   "execution_count": 116,
   "metadata": {},
   "outputs": [
    {
     "data": {
      "text/plain": [
       "[[4, 2, 6], [7, 22, 9], [1, 34, 3]]"
      ]
     },
     "execution_count": 116,
     "metadata": {},
     "output_type": "execute_result"
    }
   ],
   "source": [
    "# ex 53\n",
    "\n",
    "l = [[1, 34, 3], [4, 2, 6], [7, 22, 9]]\n",
    "sorted(l, key=lambda x: x[1])"
   ]
  },
  {
   "cell_type": "markdown",
   "metadata": {},
   "source": [
    "## Exceptions"
   ]
  },
  {
   "cell_type": "code",
   "execution_count": 82,
   "metadata": {},
   "outputs": [
    {
     "name": "stdout",
     "output_type": "stream",
     "text": [
      "You cannot divide by zero\n"
     ]
    }
   ],
   "source": [
    "# ex 54\n",
    "\n",
    "def divide(x, y):\n",
    "    try:\n",
    "        return x / y\n",
    "    except ZeroDivisionError:\n",
    "        print(\"You cannot divide by zero\")\n",
    "\n",
    "divide(2, 0)"
   ]
  },
  {
   "cell_type": "code",
   "execution_count": 84,
   "metadata": {},
   "outputs": [
    {
     "name": "stdout",
     "output_type": "stream",
     "text": [
      "Enter an integer: wrong input\n",
      "Your input should be an integer\n"
     ]
    }
   ],
   "source": [
    "# ex 55\n",
    "\n",
    "def add_one():\n",
    "    x = input(\"Enter an integer: \")\n",
    "    try:\n",
    "        return int(x) + 1\n",
    "    except ValueError:\n",
    "        print(\"Your input should be an integer\")\n",
    "\n",
    "add_one()"
   ]
  },
  {
   "cell_type": "code",
   "execution_count": 85,
   "metadata": {},
   "outputs": [
    {
     "name": "stdout",
     "output_type": "stream",
     "text": [
      "Could not find a file named my_very_unprobable_filename.txt\n"
     ]
    }
   ],
   "source": [
    "# ex 56\n",
    "\n",
    "def read_file(filename):\n",
    "    try:\n",
    "        with open(filename, \"r\") as infile:\n",
    "            data = infile.read()\n",
    "        return data\n",
    "    except FileNotFoundError:\n",
    "        print(f\"Could not find a file named {filename}\")\n",
    "\n",
    "read_file(\"my_very_unprobable_filename.txt\")"
   ]
  },
  {
   "cell_type": "code",
   "execution_count": 86,
   "metadata": {},
   "outputs": [
    {
     "name": "stdout",
     "output_type": "stream",
     "text": [
      "Index 15 does not exist\n"
     ]
    }
   ],
   "source": [
    "# ex 57\n",
    "\n",
    "def get_element_at_index(l, i):\n",
    "    try:\n",
    "        return l[i]\n",
    "    except IndexError:\n",
    "        print(f\"Index {i} does not exist\")\n",
    "\n",
    "get_element_at_index([1, 2, 3], 15)"
   ]
  },
  {
   "cell_type": "code",
   "execution_count": 88,
   "metadata": {},
   "outputs": [
    {
     "name": "stdout",
     "output_type": "stream",
     "text": [
      "Key 'bla' does not exist\n"
     ]
    }
   ],
   "source": [
    "# ex 58\n",
    "\n",
    "def get_element_at_key(d, s):\n",
    "    try:\n",
    "        return d[s]\n",
    "    except KeyError:\n",
    "        print(f\"Key '{s}' does not exist\")\n",
    "\n",
    "get_element_at_key({\"a\": 15, \"b\": 34, \"c\": \"some other value\"}, \"bla\")"
   ]
  },
  {
   "cell_type": "code",
   "execution_count": 90,
   "metadata": {},
   "outputs": [
    {
     "name": "stdout",
     "output_type": "stream",
     "text": [
      "{1: 3, 2: 2, 3: 1}\n"
     ]
    }
   ],
   "source": [
    "# ex 59\n",
    "\n",
    "l = [1, 1, 1, 2, 2, 3]\n",
    "\n",
    "# method 1\n",
    "d = {}\n",
    "for el in l:\n",
    "    try:\n",
    "        d[el] += 1\n",
    "    except KeyError:\n",
    "        d[el] = 1  # must be the first occurence\n",
    "\n",
    "print(d)"
   ]
  },
  {
   "cell_type": "code",
   "execution_count": 95,
   "metadata": {},
   "outputs": [
    {
     "name": "stdout",
     "output_type": "stream",
     "text": [
      "Inside my function f\n",
      "f took 35.52436828613281 micro seconds to execute\n",
      "-------------------------\n",
      "\n",
      "\n",
      "g took 0.476837158203125 micro seconds to execute\n",
      "g took 0.2384185791015625 micro seconds to execute\n",
      "g(1) = 2\n"
     ]
    }
   ],
   "source": [
    "# ex 60 (NOT MANDATORY - May be used for extra credit on tests)\n",
    "\n",
    "import time\n",
    "\n",
    "def exec_time(f):\n",
    "    def inner(*args, **kwargs):\n",
    "        t0 = time.time()\n",
    "        out = f(*args, **kwargs)\n",
    "        dt = time.time() - t0\n",
    "        print(f\"{f.__name__} took {dt * 1_000_000} micro seconds to execute\")\n",
    "        return out\n",
    "    return inner\n",
    "\n",
    "@exec_time\n",
    "def f():\n",
    "    print(\"Inside my function f\")\n",
    "\n",
    "@exec_time\n",
    "def g(x):\n",
    "    x += 1\n",
    "    return x\n",
    "\n",
    "f()\n",
    "\n",
    "print(\"-------------------------\\n\\n\")\n",
    "\n",
    "x = g(1)\n",
    "print(f\"g(1) = {g(1)}\")"
   ]
  },
  {
   "cell_type": "markdown",
   "metadata": {},
   "source": [
    "## Object Oriented Programming (OOP)"
   ]
  },
  {
   "cell_type": "code",
   "execution_count": 5,
   "metadata": {},
   "outputs": [],
   "source": [
    "# ex 61\n",
    "\n",
    "class FifoQueue:\n",
    "    def __init__(self):\n",
    "        self.q = []\n",
    "    \n",
    "    def push(self, el):\n",
    "        self.q.append(el)\n",
    "    \n",
    "    def pop(self):\n",
    "        return self.pop(0)"
   ]
  },
  {
   "cell_type": "code",
   "execution_count": 6,
   "metadata": {},
   "outputs": [],
   "source": [
    "# ex 62\n",
    "\n",
    "class Stack:\n",
    "    def __init__(self):\n",
    "        self.s = []\n",
    "    \n",
    "    def push(self, el):\n",
    "        self.s.append(el)\n",
    "    \n",
    "    def pop(self):\n",
    "        return self.pop()"
   ]
  },
  {
   "cell_type": "code",
   "execution_count": 102,
   "metadata": {},
   "outputs": [
    {
     "name": "stdout",
     "output_type": "stream",
     "text": [
      "1\n",
      "2\n",
      "3\n",
      "None\n",
      "None\n"
     ]
    }
   ],
   "source": [
    "# ex 63\n",
    "\n",
    "class FifoQueue2:\n",
    "    def __init__(self):\n",
    "        self.s1 = []\n",
    "        self.s2 = []\n",
    "    \n",
    "    def push(self, el):\n",
    "        self.s1.append(el)\n",
    "    \n",
    "    def pop(self):\n",
    "        if self.s2:\n",
    "            return self.s2.pop()\n",
    "        elif self.s1:\n",
    "            while self.s1:\n",
    "                self.s2.append(self.s1.pop())\n",
    "            return self.s2.pop()\n",
    "\n",
    "q = FifoQueue2()\n",
    "q.push(1)\n",
    "q.push(2)\n",
    "q.push(3)\n",
    "print(q.pop())\n",
    "print(q.pop())\n",
    "print(q.pop())\n",
    "print(q.pop())  # this will return None because the queue is empty\n",
    "print(q.pop())  # this will return None because the queue is empty"
   ]
  },
  {
   "cell_type": "code",
   "execution_count": 8,
   "metadata": {},
   "outputs": [],
   "source": [
    "# ex 64\n",
    "\n",
    "import math\n",
    "\n",
    "class Circle:\n",
    "    def __init__(self, radius):\n",
    "        self.radius = radius\n",
    "    \n",
    "    def perimeter(self):\n",
    "        return 2 * math.pi * self.radius\n",
    "    \n",
    "    def area(self):\n",
    "        return math.pi * self.radius ** 2"
   ]
  },
  {
   "cell_type": "code",
   "execution_count": 16,
   "metadata": {},
   "outputs": [],
   "source": [
    "# ex 65\n",
    "\n",
    "class Animal:\n",
    "    def __init__(self):\n",
    "        self.speach = \"\"\n",
    "    \n",
    "    def speak(self):\n",
    "        return self.speach"
   ]
  },
  {
   "cell_type": "code",
   "execution_count": 17,
   "metadata": {},
   "outputs": [
    {
     "data": {
      "text/plain": [
       "'barks'"
      ]
     },
     "execution_count": 17,
     "metadata": {},
     "output_type": "execute_result"
    }
   ],
   "source": [
    "# ex 66\n",
    "\n",
    "class Dog(Animal):\n",
    "    def __init__(self):\n",
    "        self.speach = \"barks\"\n",
    "\n",
    "dog = Dog()\n",
    "dog.speak()"
   ]
  },
  {
   "cell_type": "code",
   "execution_count": 19,
   "metadata": {},
   "outputs": [
    {
     "data": {
      "text/plain": [
       "'roar'"
      ]
     },
     "execution_count": 19,
     "metadata": {},
     "output_type": "execute_result"
    }
   ],
   "source": [
    "# ex 67\n",
    "\n",
    "class Tiger(Animal):\n",
    "    def __init__(self):\n",
    "        self.speach = \"roar\"\n",
    "\n",
    "tiger = Tiger()\n",
    "tiger.speak()"
   ]
  },
  {
   "cell_type": "code",
   "execution_count": 24,
   "metadata": {},
   "outputs": [
    {
     "name": "stdout",
     "output_type": "stream",
     "text": [
      "Perimeter = 10\n",
      "Area = 6\n"
     ]
    }
   ],
   "source": [
    "# ex 68\n",
    "\n",
    "class Rectangle:\n",
    "    def __init__(self, length, width):\n",
    "        self.l = length\n",
    "        self.w = width\n",
    "    \n",
    "    def perimeter(self):\n",
    "        return 2 * (self.l + self.w)\n",
    "    \n",
    "    def area(self):\n",
    "        return self.l * self.w\n",
    "\n",
    "rectangle = Rectangle(2, 3)  # create a rectangle instance (ie. a rectangle object)\n",
    "\n",
    "print(f\"Perimeter = {rectangle.perimeter()}\")\n",
    "print(f\"Area = {rectangle.area()}\")"
   ]
  },
  {
   "cell_type": "code",
   "execution_count": 25,
   "metadata": {},
   "outputs": [
    {
     "name": "stdout",
     "output_type": "stream",
     "text": [
      "Perimeter = 8\n",
      "Area = 4\n"
     ]
    }
   ],
   "source": [
    "# ex 69\n",
    "\n",
    "class Square(Rectangle):\n",
    "    def __init__(self, side):\n",
    "        super().__init__(side, side)\n",
    "\n",
    "square = Square(2)  # create a rectangle instance (ie. a rectangle object)\n",
    "        \n",
    "print(f\"Perimeter = {square.perimeter()}\")\n",
    "print(f\"Area = {square.area()}\")"
   ]
  },
  {
   "cell_type": "code",
   "execution_count": 73,
   "metadata": {},
   "outputs": [
    {
     "name": "stdout",
     "output_type": "stream",
     "text": [
      "BMW with 2 units of fuel left\n",
      "driving\n",
      "driving\n"
     ]
    },
    {
     "ename": "RuntimeError",
     "evalue": "No active exception to reraise",
     "output_type": "error",
     "traceback": [
      "\u001b[0;31m---------------------------------------------------------------------------\u001b[0m",
      "\u001b[0;31mRuntimeError\u001b[0m                              Traceback (most recent call last)",
      "\u001b[0;32m<ipython-input-73-8ffb168796a1>\u001b[0m in \u001b[0;36m<module>\u001b[0;34m\u001b[0m\n\u001b[1;32m     20\u001b[0m \u001b[0mcar\u001b[0m\u001b[0;34m.\u001b[0m\u001b[0mdrive\u001b[0m\u001b[0;34m(\u001b[0m\u001b[0;34m)\u001b[0m\u001b[0;34m\u001b[0m\u001b[0;34m\u001b[0m\u001b[0m\n\u001b[1;32m     21\u001b[0m \u001b[0mcar\u001b[0m\u001b[0;34m.\u001b[0m\u001b[0mdrive\u001b[0m\u001b[0;34m(\u001b[0m\u001b[0;34m)\u001b[0m\u001b[0;34m\u001b[0m\u001b[0;34m\u001b[0m\u001b[0m\n\u001b[0;32m---> 22\u001b[0;31m \u001b[0mcar\u001b[0m\u001b[0;34m.\u001b[0m\u001b[0mdrive\u001b[0m\u001b[0;34m(\u001b[0m\u001b[0;34m)\u001b[0m  \u001b[0;31m# will raise a RuntimeError exception\u001b[0m\u001b[0;34m\u001b[0m\u001b[0;34m\u001b[0m\u001b[0m\n\u001b[0m",
      "\u001b[0;32m<ipython-input-73-8ffb168796a1>\u001b[0m in \u001b[0;36mdrive\u001b[0;34m(self)\u001b[0m\n\u001b[1;32m     11\u001b[0m     \u001b[0;32mdef\u001b[0m \u001b[0mdrive\u001b[0m\u001b[0;34m(\u001b[0m\u001b[0mself\u001b[0m\u001b[0;34m)\u001b[0m\u001b[0;34m:\u001b[0m\u001b[0;34m\u001b[0m\u001b[0;34m\u001b[0m\u001b[0m\n\u001b[1;32m     12\u001b[0m         \u001b[0;32mif\u001b[0m \u001b[0mself\u001b[0m\u001b[0;34m.\u001b[0m\u001b[0mfuel\u001b[0m \u001b[0;34m<=\u001b[0m \u001b[0;36m0\u001b[0m\u001b[0;34m:\u001b[0m\u001b[0;34m\u001b[0m\u001b[0;34m\u001b[0m\u001b[0m\n\u001b[0;32m---> 13\u001b[0;31m             \u001b[0;32mraise\u001b[0m\u001b[0;34m\u001b[0m\u001b[0;34m\u001b[0m\u001b[0m\n\u001b[0m\u001b[1;32m     14\u001b[0m         \u001b[0;32melse\u001b[0m\u001b[0;34m:\u001b[0m\u001b[0;34m\u001b[0m\u001b[0;34m\u001b[0m\u001b[0m\n\u001b[1;32m     15\u001b[0m             \u001b[0mprint\u001b[0m\u001b[0;34m(\u001b[0m\u001b[0;34m\"driving\"\u001b[0m\u001b[0;34m)\u001b[0m\u001b[0;34m\u001b[0m\u001b[0;34m\u001b[0m\u001b[0m\n",
      "\u001b[0;31mRuntimeError\u001b[0m: No active exception to reraise"
     ]
    }
   ],
   "source": [
    "# ex 70\n",
    "\n",
    "class Car:\n",
    "    def __init__(self, brand, fuel):\n",
    "        self.brand = brand\n",
    "        self.fuel = fuel\n",
    "    \n",
    "    def __str__(self):\n",
    "        return f\"{self.brand.upper()} with {self.fuel} units of fuel left\"\n",
    "    \n",
    "    def drive(self):\n",
    "        if self.fuel <= 0:\n",
    "            raise\n",
    "        else:\n",
    "            print(\"driving\")\n",
    "            self.fuel -= 1\n",
    "\n",
    "car = Car(\"bmw\", 2)\n",
    "print(car)\n",
    "car.drive()\n",
    "car.drive()\n",
    "car.drive()  # will raise a RuntimeError exception\n"
   ]
  },
  {
   "cell_type": "code",
   "execution_count": 74,
   "metadata": {},
   "outputs": [
    {
     "name": "stdout",
     "output_type": "stream",
     "text": [
      "premium = 10.51 theta = 0.02 delta = -0.96 gamma = -0.01 vega = -0.03\n"
     ]
    }
   ],
   "source": [
    "# ex 71\n",
    "\n",
    "from math import e, log\n",
    "\n",
    "from scipy.stats import norm\n",
    "\n",
    "\n",
    "class BlackScholesVanilla:\n",
    "    def __init__(self, Type, Pos, S, K, T, r, q, sigma):\n",
    "        self.Type = int(Type)\n",
    "        self.Pos = int(Pos)\n",
    "        self.S = float(S)\n",
    "        self.K = float(K)\n",
    "        self.T = float(T) / 365.0\n",
    "        self.r = float(r)\n",
    "        self.q = float(q)\n",
    "        self.sigma = float(sigma)\n",
    "        self.sigmaT = self.sigma * self.T ** 0.5  # sigma * T for reusability\n",
    "        return\n",
    "\n",
    "    def __str__(self):\n",
    "        return f\"premium = {self.premium():0.2f} theta = {self.theta():0.2f} delta = {self.delta():0.2f} \" \\\n",
    "               f\"gamma = {self.gamma():0.2f} vega = {self.vega():0.2f}\"\n",
    "\n",
    "    def d1(self):\n",
    "        return (log(self.S / self.K) + (self.r - self.q + 0.5 * (self.sigma ** 2)) * self.T) / self.sigmaT\n",
    "\n",
    "    def d2(self):\n",
    "        return self.d1() - self.sigmaT\n",
    "\n",
    "    def premium(self):\n",
    "        tmpprem = self.Type * (self.S * e ** (-self.q * self.T) * norm.cdf(self.Type * self.d1()) - \\\n",
    "                self.K * e ** (-self.r * self.T) * norm.cdf(self.Type * self.d2()))\n",
    "        return -self.Pos * tmpprem\n",
    "\n",
    "    def theta(self):\n",
    "        \"\"\" Theta for 1 day change.\n",
    "        \"\"\"\n",
    "        df = e ** -(self.r * self.T)\n",
    "        dfq = e ** (-self.q * self.T)\n",
    "        tmptheta = (1.0 / 365.0) \\\n",
    "            * (-0.5 * self.S * dfq * norm.pdf(self.d1()) * \\\n",
    "               self.sigma / (self.T ** 0.5) + \\\n",
    "            self.Type * (self.q * self.S * dfq * norm.cdf(self.Type * self.d1()) \\\n",
    "            - self.r * self.K * df * norm.cdf(self.Type * self.d2())))\n",
    "        return self.Pos * tmptheta\n",
    "\n",
    "    def delta(self):\n",
    "        dfq = e ** (-self.q * self.T)\n",
    "        if self.Type == 1:\n",
    "            return self.Pos * dfq * norm.cdf(self.d1())\n",
    "        else:\n",
    "            return self.Pos * dfq * (norm.cdf(self.d1()) - 1)\n",
    "\n",
    "    def vega(self):\n",
    "        \"\"\" Vega for 1% change in vol.\n",
    "        \"\"\"\n",
    "        return self.Pos * 0.01 * self.S * e ** (-self.q * self.T) * \\\n",
    "          norm.pdf(self.d1()) * self.T ** 0.5\n",
    "\n",
    "    def gamma(self):\n",
    "        return self.Pos * e ** (-self.q * self.T) * norm.pdf(self.d1()) / (self.S * self.sigmaT)\n",
    "\n",
    "\n",
    "# Test\n",
    "\n",
    "Type = 1     # call\n",
    "Pos = -1     # short\n",
    "S = 110\n",
    "K = 100\n",
    "T = 30       # days\n",
    "r = 0.05     # 5% risk free\n",
    "q = 0.0      # no dividend\n",
    "sigma = 0.2  # 20% annualized volatility\n",
    "\n",
    "bs_vanilla = BlackScholesVanilla(Type, Pos, S, K, T, r, q, sigma)\n",
    "print(bs_vanilla)"
   ]
  },
  {
   "cell_type": "code",
   "execution_count": 75,
   "metadata": {},
   "outputs": [
    {
     "name": "stdout",
     "output_type": "stream",
     "text": [
      "Long ATM call\n",
      "premium = -2.49 theta = -0.04 delta = 0.54 gamma = 0.07 vega = 0.11\n",
      "Long ATM put\n",
      "premium = -2.08 theta = -0.03 delta = -0.46 gamma = 0.07 vega = 0.11\n",
      "ATM Straddle\n",
      "premium = -4.58 theta = -0.08 delta = 0.08 gamma = 0.14 vega = 0.23\n"
     ]
    }
   ],
   "source": [
    "# ex 72\n",
    "\n",
    "class Portfolio:\n",
    "    def __init__(self):\n",
    "        self.p = []\n",
    "    \n",
    "    def __str__(self):\n",
    "        return f\"premium = {self.premium():0.2f} theta = {self.theta():0.2f} delta = {self.delta():0.2f} \" \\\n",
    "               f\"gamma = {self.gamma():0.2f} vega = {self.vega():0.2f}\"\n",
    "\n",
    "    def add(self, bs_vanilla):\n",
    "        \"\"\"\n",
    "        :param BSVanilla bs_vanilla:\n",
    "        :return:\n",
    "        \"\"\"\n",
    "        self.p.append(bs_vanilla)\n",
    "    \n",
    "    def premium(self):\n",
    "        \"\"\"\n",
    "        :return float:\n",
    "        \"\"\"\n",
    "        return np.sum([o.premium() for o in self.p])\n",
    "\n",
    "    def theta(self):\n",
    "        \"\"\"\n",
    "        :return float:\n",
    "        \"\"\"\n",
    "        return np.sum([o.theta() for o in self.p])\n",
    "\n",
    "    def delta(self):\n",
    "        \"\"\"\n",
    "        :return float:\n",
    "        \"\"\"\n",
    "        return np.sum([o.delta() for o in self.p])\n",
    "\n",
    "    def gamma(self):\n",
    "        \"\"\"\n",
    "        :return float:\n",
    "        \"\"\"\n",
    "        return np.sum([o.gamma() for o in self.p])\n",
    "\n",
    "    def vega(self):\n",
    "        \"\"\"\n",
    "        :return float:\n",
    "        \"\"\"\n",
    "        return np.sum([o.vega() for o in self.p])\n",
    "\n",
    "\n",
    "# Test - Long ATM straddle with 30 days to maturity\n",
    "\n",
    "\n",
    "\n",
    "long_call = BlackScholesVanilla(1, 1, 100, 100, 30, 0.05, 0, 0.2)\n",
    "print(f\"Long ATM call\\n{long_call}\")\n",
    "\n",
    "long_put = BlackScholesVanilla(-1, 1, 100, 100, 30, 0.05, 0, 0.2)\n",
    "print(f\"Long ATM put\\n{long_put}\")\n",
    "\n",
    "\n",
    "# create straddle portfolio\n",
    "straddle = Portfolio()\n",
    "\n",
    "# add call object to portfolio\n",
    "straddle.add(long_call)\n",
    "\n",
    "# add put object to portfolio\n",
    "straddle.add(long_put)\n",
    "\n",
    "print(f\"ATM Straddle\\n{straddle}\")"
   ]
  },
  {
   "cell_type": "code",
   "execution_count": 83,
   "metadata": {},
   "outputs": [
    {
     "name": "stdout",
     "output_type": "stream",
     "text": [
      "True\n",
      "True\n",
      "True\n",
      "False\n"
     ]
    }
   ],
   "source": [
    "# ex 73\n",
    "\n",
    "class LimitOrder:\n",
    "    def __init__(self, price, size, side):\n",
    "        self.price = float(price)\n",
    "        self.size = float(size)\n",
    "        self.side = side\n",
    "    \n",
    "    def __str__(self):\n",
    "        return f\"price = {self.price} size = {self.size} side = {'buy' if self.side == 1 else 'sell'}\"\n",
    "\n",
    "    def __lt__(self, lo):\n",
    "        return self.price < lo.price\n",
    "\n",
    "    def __le__(self, lo):\n",
    "        return self.price <= lo.price\n",
    "\n",
    "    def __gt__(self, lo):\n",
    "        return self.price > lo.price\n",
    "\n",
    "    def __ge__(self, lo):\n",
    "        return self.price >= lo.price\n",
    "\n",
    "print(LimitOrder(10, 11, 1) < LimitOrder(11, 11, 1))\n",
    "print(LimitOrder(9, 11, 1) <= LimitOrder(9, 11, 1))\n",
    "print(LimitOrder(9, 11, 1) >= LimitOrder(9, 11, 1))\n",
    "print(LimitOrder(10, 11, 1) > LimitOrder(11, 11, 1))"
   ]
  },
  {
   "cell_type": "code",
   "execution_count": 98,
   "metadata": {},
   "outputs": [
    {
     "name": "stdout",
     "output_type": "stream",
     "text": [
      "price = 18.0 size = 15.0 side = buy | price = 19.0 size = 12.3 side = sell\n",
      "price = 13.0 size = 4.0 side = buy | price = 20.0 size = 5.5 side = sell\n",
      "price = 11.0 size = 3.5 side = buy | price = 21.0 size = 2.5 side = sell\n",
      "price = 10.0 size = 1.0 side = buy | price = 23.0 size = 4.0 side = sell\n",
      "price = 9.0 size = 0.4 side = buy | price = 25.0 size = 4.5 side = sell\n",
      "Spread = 1.0\n",
      "-------------------\n",
      "\n",
      "\n",
      "price = 18.0 size = 15.0 side = buy | price = 20.0 size = 5.5 side = sell\n",
      "price = 10.0 size = 1.0 side = buy | price = 21.0 size = 2.5 side = sell\n",
      "price = 8.0 size = 0.3 side = buy | price = 23.0 size = 4.0 side = sell\n",
      "price = 7.0 size = 1.2 side = buy | price = 25.0 size = 4.5 side = sell\n",
      "Spread = 2.0\n",
      "-------------------\n",
      "\n",
      "\n",
      "\n"
     ]
    }
   ],
   "source": [
    "# ex 74\n",
    "\n",
    "class OrderBook:\n",
    "    def __init__(self):\n",
    "        self.bids = []\n",
    "        self.asks = []\n",
    "\n",
    "    def __str__(self):\n",
    "        out = []\n",
    "        for bid, ask in zip(self.bids[:5], self.asks[:5]):\n",
    "            out.append(f\"{bid} | {ask}\")\n",
    "        return \"\\n\".join(out)\n",
    "\n",
    "    def clear(self):\n",
    "        self.bids.clear()\n",
    "        self.asks.clear()\n",
    "    \n",
    "    def add_bid_order(self, bid):\n",
    "        if bid.side != 1:\n",
    "            raise\n",
    "        for i, lo in enumerate(self.bids):\n",
    "            if bid.price >= lo.price:\n",
    "                self.bids.insert(i, bid)\n",
    "                return\n",
    "\n",
    "        # if we reach this line it means we must insert at the end\n",
    "        self.bids.append(bid)\n",
    "    \n",
    "    def remove_bid_order(self, price):\n",
    "        for i, lo in enumerate(self.bids):\n",
    "            if lo.price == price:\n",
    "                self.bids.pop(i)\n",
    "                return\n",
    "\n",
    "        print(f\"No buy limit order found at price = {price}\")\n",
    "\n",
    "    def add_ask_order(self, ask):\n",
    "        if ask.side != -1:\n",
    "            raise\n",
    "        for i, lo in enumerate(self.asks):\n",
    "            if ask.price <= lo.price:\n",
    "                self.asks.insert(i, ask)\n",
    "                return\n",
    "\n",
    "        # if we reach this line it means we must insert at the end\n",
    "        self.asks.append(ask)\n",
    "    \n",
    "    def remove_ask_order(self, price):\n",
    "        for i, lo in enumerate(self.asks):\n",
    "            if lo.price == price:\n",
    "                self.asks.pop(i)\n",
    "                return\n",
    "\n",
    "        print(f\"No sell limit order found at price = {price}\")\n",
    "    \n",
    "    def best_bid_price(self):\n",
    "        return self.bids[0].price\n",
    "\n",
    "    def best_ask_price(self):\n",
    "        return self.asks[0].price\n",
    "    \n",
    "    def spread(self):\n",
    "        return self.best_ask_price() - self.best_bid_price()\n",
    "\n",
    "bids = [\n",
    "    LimitOrder(10, 1, 1),\n",
    "    LimitOrder(11, 3.5, 1),\n",
    "    LimitOrder(13, 4, 1),\n",
    "    LimitOrder(18, 15, 1),\n",
    "    LimitOrder(8, 0.3, 1),\n",
    "    LimitOrder(9, 0.4, 1),\n",
    "    LimitOrder(7, 1.2, 1)\n",
    "]\n",
    "\n",
    "asks = [\n",
    "    LimitOrder(19, 12.3, -1),\n",
    "    LimitOrder(23, 4, -1),\n",
    "    LimitOrder(25, 4.5, -1),\n",
    "    LimitOrder(33, 3, -1),\n",
    "    LimitOrder(21, 2.5, -1),\n",
    "    LimitOrder(20, 5.5, -1),\n",
    "    LimitOrder(27, 10, -1)\n",
    "]\n",
    "\n",
    "ob = OrderBook()\n",
    "[ob.add_bid_order(bid) for bid in bids]\n",
    "[ob.add_ask_order(ask) for ask in asks]\n",
    "\n",
    "print(ob)  # this will print the top 5 (if they exists) prices on each side -> see __str__ method\n",
    "print(f\"Spread = {ob.spread()}\")\n",
    "ob.remove_bid_order(13)\n",
    "ob.remove_bid_order(11)\n",
    "ob.remove_bid_order(9)\n",
    "ob.remove_ask_order(19)\n",
    "\n",
    "print(\"-------------------\\n\\n\")\n",
    "\n",
    "print(ob)\n",
    "print(f\"Spread = {ob.spread()}\")\n",
    "\n",
    "print(\"-------------------\\n\\n\")\n",
    "\n",
    "ob.clear()\n",
    "print(ob)"
   ]
  },
  {
   "cell_type": "markdown",
   "metadata": {},
   "source": [
    "## Modules\n",
    "\n",
    "### - sys, time, csv, json, random, numpy.random\n",
    "### - user defined modules"
   ]
  },
  {
   "cell_type": "code",
   "execution_count": 80,
   "metadata": {},
   "outputs": [
    {
     "name": "stdout",
     "output_type": "stream",
     "text": [
      "34\n",
      "34\n",
      "34\n",
      "2\n"
     ]
    }
   ],
   "source": [
    "# ex 75\n",
    "\n",
    "import random\n",
    "\n",
    "def list_choose_random(l):\n",
    "    \"\"\"\n",
    "    :param list l:\n",
    "    :return: random element from list l\n",
    "    \"\"\"\n",
    "    return random.choice(l)\n",
    "\n",
    "print(list_choose_random([1,2,34,45]))\n",
    "print(list_choose_random([1,2,34,45]))\n",
    "print(list_choose_random([1,2,34,45]))\n",
    "print(list_choose_random([1,2,34,45]))"
   ]
  },
  {
   "cell_type": "code",
   "execution_count": 81,
   "metadata": {},
   "outputs": [
    {
     "name": "stdout",
     "output_type": "stream",
     "text": [
      "c\n",
      "5\n",
      "('a', 5)\n"
     ]
    }
   ],
   "source": [
    "# ex 76\n",
    "\n",
    "# Can use the unction from 76.\n",
    "\n",
    "d = {\"a\": 5, \"b\": 55, \"c\": \"bla\"}\n",
    "\n",
    "print(list_choose_random(list(d.keys())))\n",
    "print(list_choose_random(list(d.values())))\n",
    "print(list_choose_random(list(d.items())))"
   ]
  },
  {
   "cell_type": "code",
   "execution_count": 82,
   "metadata": {},
   "outputs": [
    {
     "name": "stdout",
     "output_type": "stream",
     "text": [
      "3\n",
      "2\n",
      "1\n",
      "2\n",
      "--------------------\n",
      "\n",
      "\n",
      "2\n",
      "2\n",
      "4\n",
      "4\n"
     ]
    }
   ],
   "source": [
    "# ex 77\n",
    "\n",
    "import random\n",
    "\n",
    "def set_choose_random(s):\n",
    "    \"\"\"\n",
    "    :param set s:\n",
    "    :return: random element from set s\n",
    "    \"\"\"\n",
    "    return random.sample(s, 1)[0]\n",
    "\n",
    "s = {1,2,3,4,5}\n",
    "print(set_choose_random(s))\n",
    "print(set_choose_random(s))\n",
    "print(set_choose_random(s))\n",
    "print(set_choose_random(s))\n",
    "\n",
    "print(\"--------------------\\n\\n\")\n",
    "\n",
    "# Or using list_choose_random\n",
    "\n",
    "print(list_choose_random(list(s)))\n",
    "print(list_choose_random(list(s)))\n",
    "print(list_choose_random(list(s)))\n",
    "print(list_choose_random(list(s)))"
   ]
  },
  {
   "cell_type": "code",
   "execution_count": 83,
   "metadata": {},
   "outputs": [
    {
     "name": "stdout",
     "output_type": "stream",
     "text": [
      "\n",
      "t\n",
      "tp\n",
      "xem\n",
      "urvm\n",
      "Sample larger than population or is negative\n",
      "\n",
      "--------------------\n",
      "\n",
      "\n",
      "\n",
      "b\n",
      "rx\n",
      "djv\n",
      "aglw\n"
     ]
    }
   ],
   "source": [
    "# ex 78\n",
    "\n",
    "import random\n",
    "\n",
    "def random_fixed_length_str(k, alphabet=\"abcdefghijklmnopqrstuvwxyz\"):\n",
    "    \"\"\"\n",
    "    :param int k:        fixed lengh\n",
    "    :param str alphabet: Optional alphabet to choose characters from\n",
    "    :return str:         fixed lenght alphabetical string\n",
    "    \"\"\"\n",
    "    val = \"\"\n",
    "    try:\n",
    "        val = \"\".join(random.sample(alphabet, k))\n",
    "    except ValueError as e:\n",
    "        print(str(e))\n",
    "    finally:\n",
    "        return val\n",
    "\n",
    "print(random_fixed_length_str(0))\n",
    "print(random_fixed_length_str(1))\n",
    "print(random_fixed_length_str(2))\n",
    "print(random_fixed_length_str(3))\n",
    "print(random_fixed_length_str(4))\n",
    "print(random_fixed_length_str(50))  # this will raise an exception that we handle\n",
    "\n",
    "print(\"--------------------\\n\\n\")\n",
    "\n",
    "# Or using combinations with replacements\n",
    "\n",
    "import itertools\n",
    "\n",
    "def random_fixed_length_str_combinations(k, alphabet=\"abcdefghijklmnopqrstuvwxyz\"):\n",
    "    \"\"\"\n",
    "    :param int k:        fixed lengh\n",
    "    :param str alphabet: Optional alphabet to choose characters from\n",
    "    :return str:         fixed lenght alphabetical string\n",
    "    \"\"\"\n",
    "    return \"\".join(random.choice(list(itertools.combinations_with_replacement(alphabet, k))))\n",
    "\n",
    "print(random_fixed_length_str_combinations(0))\n",
    "print(random_fixed_length_str_combinations(1))\n",
    "print(random_fixed_length_str_combinations(2))\n",
    "print(random_fixed_length_str_combinations(3))\n",
    "print(random_fixed_length_str_combinations(4))\n",
    "\n",
    "# this would no longer raise an exception, but\n",
    "# it would contain (26 + 50 - 1)! / 50! * 25! ~= 10^20 elements when so cannot sample uniformly\n",
    "# on entire list in memory\n",
    "\n",
    "# print(random_fixed_length_str_combinations(50))"
   ]
  },
  {
   "cell_type": "code",
   "execution_count": 84,
   "metadata": {},
   "outputs": [
    {
     "name": "stdout",
     "output_type": "stream",
     "text": [
      "Shuffle once [4, 5, 1, 3, 2]\n",
      "Shuffle twice [3, 4, 1, 5, 2]\n"
     ]
    }
   ],
   "source": [
    "# ex 79\n",
    "\n",
    "import random\n",
    "\n",
    "def shuffle_list(l):\n",
    "    \"\"\"\n",
    "    :param list l:\n",
    "    :return:\n",
    "    \"\"\"\n",
    "    random.shuffle(l)\n",
    "\n",
    "l = [1, 2, 3, 4, 5]\n",
    "\n",
    "shuffle_list(l)\n",
    "print(\"Shuffle once\", l)\n",
    "\n",
    "shuffle_list(l)\n",
    "print(\"Shuffle twice\", l)"
   ]
  },
  {
   "cell_type": "code",
   "execution_count": 85,
   "metadata": {},
   "outputs": [
    {
     "name": "stdout",
     "output_type": "stream",
     "text": [
      "Test method1\n",
      "True\n",
      "True\n",
      "-------------\n",
      "\n",
      "\n",
      "Test method2\n",
      "True\n",
      "True\n",
      "-------------\n",
      "\n",
      "\n",
      "Test method3\n",
      "True\n",
      "True\n",
      "-------------\n",
      "\n",
      "\n",
      "Test deep_copy\n",
      "True\n",
      "False\n"
     ]
    }
   ],
   "source": [
    "# ex 80\n",
    "\n",
    "import copy\n",
    "\n",
    "def method1(l):\n",
    "    return l[:]\n",
    "\n",
    "def method2(l):\n",
    "    return l.copy()\n",
    "\n",
    "def method3(l):\n",
    "    return copy.copy(l)\n",
    "\n",
    "def deep_copy(l):\n",
    "    return copy.deepcopy(l)\n",
    "\n",
    "## Tests\n",
    "\n",
    "print(\"Test method1\")\n",
    "l = [[1, 2], [3, 4]]\n",
    "ll = method1(l)\n",
    "print(id(l) != id(ll))  # True if ll is a \"shallow\" copy of l\n",
    "ll[0][0] = 34\n",
    "print(l[0][0] == ll[0][0])  # True if ll is NOT a \"deep\" copy of l\n",
    "\n",
    "print(\"-------------\\n\\n\")\n",
    "\n",
    "print(\"Test method2\")\n",
    "l = [[1, 2], [3, 4]]\n",
    "ll = method2(l)\n",
    "print(id(l) != id(ll))  # True if ll is a \"shallow\" copy of l\n",
    "ll[0][0] = 34\n",
    "print(l[0][0] == ll[0][0])  # True if ll is NOT a \"deep\" copy of l\n",
    "\n",
    "print(\"-------------\\n\\n\")\n",
    "\n",
    "print(\"Test method3\")\n",
    "l = [[1, 2], [3, 4]]\n",
    "ll = method3(l)\n",
    "print(id(l) != id(ll))  # True if ll is a \"shallow\" copy of l\n",
    "ll[0][0] = 34\n",
    "print(l[0][0] == ll[0][0])  # True if ll is NOT a \"deep\" copy of l\n",
    "\n",
    "print(\"-------------\\n\\n\")\n",
    "\n",
    "print(\"Test deep_copy\")\n",
    "l = [[1, 2], [3, 4]]\n",
    "ll = deep_copy(l)\n",
    "print(id(l) != id(ll))  # True if ll is a \"shallow\" copy of l\n",
    "ll[0][0] = 34\n",
    "print(l[0][0] == ll[0][0])  # False if ll is a \"deep\" copy of l"
   ]
  },
  {
   "cell_type": "code",
   "execution_count": 86,
   "metadata": {},
   "outputs": [
    {
     "name": "stdout",
     "output_type": "stream",
     "text": [
      "[['a;13.5;Hello there !'], ['b;15.2;blablabla']]\n"
     ]
    }
   ],
   "source": [
    "# ex 81\n",
    "\n",
    "import csv\n",
    "\n",
    "def read_csv(fn):\n",
    "    \"\"\"\n",
    "    :param str: fn: filename (encodes path)\n",
    "    :return list: content of CSV file with type List[List]\n",
    "    \"\"\"\n",
    "    data = []\n",
    "    try:\n",
    "        with open(fn, \"r\") as fin:\n",
    "            reader = csv.reader(fin)\n",
    "            data = []\n",
    "            for line in reader:\n",
    "                data.append(line)\n",
    "    except FileNotFoundError:\n",
    "        print(\"File {fn} does not exists\")\n",
    "    finally:\n",
    "        return data\n",
    "\n",
    "data = read_csv(\"sample.csv\")\n",
    "print(data)"
   ]
  },
  {
   "cell_type": "code",
   "execution_count": 87,
   "metadata": {},
   "outputs": [
    {
     "name": "stdout",
     "output_type": "stream",
     "text": [
      "[['{'],\n",
      " ['    \"glossary\": {'],\n",
      " ['        \"title\": \"example glossary\"', ''],\n",
      " ['\\t\\t\"GlossDiv\": {'],\n",
      " ['            \"title\": \"S\"', ''],\n",
      " ['\\t\\t\\t\"GlossList\": {'],\n",
      " ['                \"GlossEntry\": {'],\n",
      " ['                    \"ID\": \"SGML\"', ''],\n",
      " ['\\t\\t\\t\\t\\t\"SortAs\": \"SGML\"', ''],\n",
      " ['\\t\\t\\t\\t\\t\"GlossTerm\": \"Standard Generalized Markup Language\"', ''],\n",
      " ['\\t\\t\\t\\t\\t\"Acronym\": \"SGML\"', ''],\n",
      " ['\\t\\t\\t\\t\\t\"Abbrev\": \"ISO 8879:1986\"', ''],\n",
      " ['\\t\\t\\t\\t\\t\"GlossDef\": {'],\n",
      " ['                        \"para\": \"A meta-markup language',\n",
      "  ' used to create markup languages such as DocBook.\"',\n",
      "  ''],\n",
      " ['\\t\\t\\t\\t\\t\\t\"GlossSeeAlso\": [\"GML\"', ' \"XML\"]'],\n",
      " ['                    }', ''],\n",
      " ['\\t\\t\\t\\t\\t\"GlossSee\": \"markup\"'],\n",
      " ['                }'],\n",
      " ['            }'],\n",
      " ['        }'],\n",
      " ['    }'],\n",
      " ['}']]\n"
     ]
    }
   ],
   "source": [
    "# ex 82\n",
    "\n",
    "import json\n",
    "from pprint import pprint as pp  # pretty printing\n",
    "\n",
    "def read_json(fn):\n",
    "    \"\"\"\n",
    "    :param str: fn: filename (encodes path)\n",
    "    :return list: content of JSON file with type List[List]\n",
    "    \"\"\"\n",
    "    data = None\n",
    "    try:\n",
    "        with open(fn, \"r\") as fin:\n",
    "            data = json.load(fin)  # load without \"s\" at the end let's you load files !\n",
    "    except FileNotFoundError:\n",
    "        print(\"File {fn} does not exists\")\n",
    "    finally:\n",
    "        return data\n",
    "\n",
    "data = read_csv(\"sample.json\")\n",
    "pp(data)"
   ]
  },
  {
   "cell_type": "code",
   "execution_count": 88,
   "metadata": {},
   "outputs": [
    {
     "name": "stdout",
     "output_type": "stream",
     "text": [
      "yeah !\n"
     ]
    }
   ],
   "source": [
    "# ex 83\n",
    "\n",
    "import time\n",
    "\n",
    "def waiter(n):\n",
    "    \"\"\"\n",
    "    :param int n: number of seconds to wait\n",
    "    \"\"\"\n",
    "    time.sleep(n)\n",
    "    print(\"yeah !\")\n",
    "\n",
    "waiter(3)"
   ]
  },
  {
   "cell_type": "code",
   "execution_count": 89,
   "metadata": {},
   "outputs": [
    {
     "name": "stdout",
     "output_type": "stream",
     "text": [
      "[90, 77, 25, 20, 11, 33, 54, 87, 6, 19, 27, 1, 87, 8, 44, 49, 49, 61, 82, 53, 35, 32, 61, 91, 25, 1, 73, 94, 44, 55, 19, 40, 50, 33, 16, 97, 82, 73, 73, 74, 78, 38, 66, 90, 84, 95, 20, 72, 28, 90, 36, 95, 53, 27, 44, 69, 23, 11, 2, 78, 23, 95, 75, 4, 20, 13, 94, 48, 66, 66, 38, 27, 22, 97, 7, 22, 81, 81, 24, 89, 15, 2, 20, 3, 66, 37, 38, 27, 60, 26, 99, 27, 87, 13, 43, 5, 94, 3, 55, 68]\n",
      "-----------\n",
      "\n",
      "\n",
      "[32, 9, 48, 66, 55, 50, 55, 10, 21, 13, 87, 83, 59, 17, 96, 69, 27, 95, 77, 0, 80, 58, 9, 60, 1, 89, 92, 53, 76, 18, 90, 47, 70, 32, 19, 15, 54, 53, 75, 59, 79, 79, 1, 60, 52, 45, 23, 79, 80, 9, 86, 0, 63, 63, 54, 14, 75, 32, 81, 25, 13, 21, 93, 13, 96, 38, 68, 34, 31, 6, 1, 91, 81, 78, 72, 50, 80, 91, 37, 18, 66, 6, 63, 52, 69, 86, 79, 16, 80, 74, 32, 55, 76, 13, 24, 79, 97, 91, 75, 60]\n"
     ]
    }
   ],
   "source": [
    "# ex 84\n",
    "\n",
    "import random\n",
    "\n",
    "def method1(n, lbound, ubound):\n",
    "    \"\"\"\n",
    "    :param int n:      number of elements in the generated list\n",
    "    :param int lbound: lower bound (included)\n",
    "    :param int lbound: lower bound (excluded)\n",
    "    :return list:      list of random elements\n",
    "    \"\"\"\n",
    "    if lbound >= ubound:\n",
    "        raise ValueError(\"Lower bound must be striclty less than upper bound\")\n",
    "    return [random.randint(lbound, ubound - 1) for _ in range(100)]\n",
    "\n",
    "\n",
    "import numpy as np\n",
    "\n",
    "def method2(n, lbound, ubound):\n",
    "    return np.random.randint(lbound, ubound, n).tolist()\n",
    "\n",
    "# Tests\n",
    "\n",
    "l = method1(100, 0, 100)\n",
    "print(l)\n",
    "\n",
    "print(\"-----------\\n\\n\")\n",
    "\n",
    "l = method2(100, 0, 100)\n",
    "print(l)"
   ]
  },
  {
   "cell_type": "code",
   "execution_count": 90,
   "metadata": {},
   "outputs": [
    {
     "name": "stdout",
     "output_type": "stream",
     "text": [
      "['/home/ad/tmp/cours_python', '/home/ad/anaconda3/envs/pyt3/lib/python38.zip', '/home/ad/anaconda3/envs/pyt3/lib/python3.8', '/home/ad/anaconda3/envs/pyt3/lib/python3.8/lib-dynload', '', '/home/ad/anaconda3/envs/pyt3/lib/python3.8/site-packages', '/home/ad/anaconda3/envs/pyt3/lib/python3.8/site-packages/IPython/extensions', '/home/ad/.ipython']\n"
     ]
    }
   ],
   "source": [
    "# ex 85\n",
    "\n",
    "import sys\n",
    "\n",
    "print(sys.path)"
   ]
  },
  {
   "cell_type": "code",
   "execution_count": 91,
   "metadata": {},
   "outputs": [],
   "source": [
    "# ex 86\n",
    "\n",
    "# See car.py and car_test.py modules"
   ]
  },
  {
   "cell_type": "code",
   "execution_count": 92,
   "metadata": {},
   "outputs": [],
   "source": [
    "# ex 87\n",
    "\n",
    "# See orderbook.py and simulator.py modules"
   ]
  },
  {
   "cell_type": "markdown",
   "metadata": {},
   "source": [
    "## Functional Programming\n",
    "### - functools.reduce"
   ]
  },
  {
   "cell_type": "code",
   "execution_count": 97,
   "metadata": {},
   "outputs": [
    {
     "name": "stdout",
     "output_type": "stream",
     "text": [
      "[25, 20, 11, 33, 6, 19, 27, 1, 8, 44, 49, 49, 35, 32, 25, 1, 44, 19, 40, 50, 33, 16, 38, 20, 28, 36, 27, 44, 23, 11, 2, 23, 4, 20, 13, 48, 38, 27, 22, 7, 22, 24, 15, 2, 20, 3, 37, 38, 27, 26, 27, 13, 43, 5, 3]\n"
     ]
    }
   ],
   "source": [
    "# ex 88\n",
    "\n",
    "l = [90, 77, 25, 20, 11, 33, 54, 87, 6, 19, 27, 1, 87, 8, 44, 49, 49, 61, 82, 53, 35, 32, 61, 91, 25, 1, 73, 94,\n",
    "     44, 55, 19, 40, 50, 33, 16, 97, 82, 73, 73, 74, 78, 38, 66, 90, 84, 95, 20, 72, 28, 90, 36, 95, 53, 27, 44,\n",
    "     69, 23, 11, 2, 78, 23, 95, 75, 4, 20, 13, 94, 48, 66, 66, 38, 27, 22, 97, 7, 22, 81, 81, 24, 89, 15, 2, 20,\n",
    "     3, 66, 37, 38, 27, 60, 26, 99, 27, 87, 13, 43, 5, 94, 3, 55, 68]\n",
    "\n",
    "filtered_list = list(filter(lambda x: x <= 50, l))\n",
    "print(filtered_list)"
   ]
  },
  {
   "cell_type": "code",
   "execution_count": 99,
   "metadata": {},
   "outputs": [
    {
     "name": "stdout",
     "output_type": "stream",
     "text": [
      "[8100, 5929, 625, 400, 121, 1089, 2916, 7569, 36, 361, 729, 1, 7569, 64, 1936, 2401, 2401, 3721, 6724, 2809, 1225, 1024, 3721, 8281, 625, 1, 5329, 8836, 1936, 3025, 361, 1600, 2500, 1089, 256, 9409, 6724, 5329, 5329, 5476, 6084, 1444, 4356, 8100, 7056, 9025, 400, 5184, 784, 8100, 1296, 9025, 2809, 729, 1936, 4761, 529, 121, 4, 6084, 529, 9025, 5625, 16, 400, 169, 8836, 2304, 4356, 4356, 1444, 729, 484, 9409, 49, 484, 6561, 6561, 576, 7921, 225, 4, 400, 9, 4356, 1369, 1444, 729, 3600, 676, 9801, 729, 7569, 169, 1849, 25, 8836, 9, 3025, 4624]\n"
     ]
    }
   ],
   "source": [
    "# ex 89\n",
    "\n",
    "l = [90, 77, 25, 20, 11, 33, 54, 87, 6, 19, 27, 1, 87, 8, 44, 49, 49, 61, 82, 53, 35, 32, 61, 91, 25, 1, 73, 94,\n",
    "     44, 55, 19, 40, 50, 33, 16, 97, 82, 73, 73, 74, 78, 38, 66, 90, 84, 95, 20, 72, 28, 90, 36, 95, 53, 27, 44,\n",
    "     69, 23, 11, 2, 78, 23, 95, 75, 4, 20, 13, 94, 48, 66, 66, 38, 27, 22, 97, 7, 22, 81, 81, 24, 89, 15, 2, 20,\n",
    "     3, 66, 37, 38, 27, 60, 26, 99, 27, 87, 13, 43, 5, 94, 3, 55, 68]\n",
    "\n",
    "mapped_list = list(map(lambda x: x ** 2, l))\n",
    "print(mapped_list)"
   ]
  },
  {
   "cell_type": "code",
   "execution_count": 100,
   "metadata": {},
   "outputs": [
    {
     "name": "stdout",
     "output_type": "stream",
     "text": [
      "4830\n"
     ]
    }
   ],
   "source": [
    "# ex 90\n",
    "\n",
    "from functools import reduce\n",
    "\n",
    "l = [90, 77, 25, 20, 11, 33, 54, 87, 6, 19, 27, 1, 87, 8, 44, 49, 49, 61, 82, 53, 35, 32, 61, 91, 25, 1, 73, 94,\n",
    "     44, 55, 19, 40, 50, 33, 16, 97, 82, 73, 73, 74, 78, 38, 66, 90, 84, 95, 20, 72, 28, 90, 36, 95, 53, 27, 44,\n",
    "     69, 23, 11, 2, 78, 23, 95, 75, 4, 20, 13, 94, 48, 66, 66, 38, 27, 22, 97, 7, 22, 81, 81, 24, 89, 15, 2, 20,\n",
    "     3, 66, 37, 38, 27, 60, 26, 99, 27, 87, 13, 43, 5, 94, 3, 55, 68]\n",
    "\n",
    "s = reduce(lambda x, y: x + y, l)\n",
    "print(s)"
   ]
  },
  {
   "cell_type": "code",
   "execution_count": 101,
   "metadata": {},
   "outputs": [
    {
     "name": "stdout",
     "output_type": "stream",
     "text": [
      "['tac', 'god', 'gohegdeh', 'okceg']\n"
     ]
    }
   ],
   "source": [
    "# ex 91\n",
    "\n",
    "l = [\"cat\", \"dog\", \"hedgehog\", \"gecko\"]\n",
    "\n",
    "rl = list(map(lambda x: x[::-1], l))\n",
    "print(rl)"
   ]
  },
  {
   "cell_type": "code",
   "execution_count": 102,
   "metadata": {},
   "outputs": [
    {
     "name": "stdout",
     "output_type": "stream",
     "text": [
      "cat-dog-hedgehog-gecko\n"
     ]
    }
   ],
   "source": [
    "# ex 92\n",
    "\n",
    "l = [\"cat\", \"dog\", \"hedgehog\", \"gecko\"]\n",
    "\n",
    "concat_l = \"-\".join(l)\n",
    "print(concat_l)"
   ]
  },
  {
   "cell_type": "code",
   "execution_count": 109,
   "metadata": {},
   "outputs": [
    {
     "name": "stdout",
     "output_type": "stream",
     "text": [
      "207095\n"
     ]
    }
   ],
   "source": [
    "# ex 93\n",
    "\n",
    "from functools import reduce\n",
    "\n",
    "l = ['94', '47', '62', '66', '72', '6', '85', '17', '43', '18', '87', '58', '74', '65', '44', '31', '2', '99',\n",
    "     '61', '39', '97', '81', '52', '49', '63', '79', '12', '98', '91', '64', '90', '68', '5', '38', '42', '75',\n",
    "     '3', '53', '73', '77', '88', '16', '54', '56', '7', '21', '20', '86', '22', '13', '60', '34', '27', '76',\n",
    "     '30', '11', '59', '0', '15', '71', '14', '4', '10', '29', '28', '40', '32', '25', '9', '26', '48', '37',\n",
    "     '80', '55', '57', '67', '96', '82', '69', '36', '45', '41', '84', '78', '46', '93', '1', '19', '35', '33',\n",
    "     '70', '89', '50', '92', '8', '51', '95', '23', '24', '83']\n",
    "\n",
    "res = reduce(lambda x, y: x + y, map(lambda x: x ** 2, filter(lambda x: 15 < x <= 85, map(lambda x: int(x), l))))\n",
    "print(res)\n",
    "\n",
    "# NOTE: Below is a shorter version that is much slower (much much slower than above)\n",
    "#       -> Might need to restart notebook kernel if you execute\n",
    "\n",
    "# reduce(lambda x, y: x ** 2 + y ** 2, filter(lambda x: 15 < x <= 85, map(lambda x: int(x), l)))"
   ]
  },
  {
   "cell_type": "code",
   "execution_count": 113,
   "metadata": {},
   "outputs": [
    {
     "name": "stdout",
     "output_type": "stream",
     "text": [
      "16-17-18-19-20-21-22-23-24-25-26-27-28-29-30-31-32-33-34-35-36-37-38-39-40-41-42-43-44-45-46-47-48-49-50-51-52-53-54-55-56-57-58-59-60-61-62-63-64-65-66-67-68-69-70-71-72-73-74-75-76-77-78-79-80-81-82-83-84-85\n"
     ]
    }
   ],
   "source": [
    "# ex 94\n",
    "\n",
    "l = ['94', '47', '62', '66', '72', '6', '85', '17', '43', '18', '87', '58', '74', '65', '44', '31', '2', '99',\n",
    "     '61', '39', '97', '81', '52', '49', '63', '79', '12', '98', '91', '64', '90', '68', '5', '38', '42', '75',\n",
    "     '3', '53', '73', '77', '88', '16', '54', '56', '7', '21', '20', '86', '22', '13', '60', '34', '27', '76',\n",
    "     '30', '11', '59', '0', '15', '71', '14', '4', '10', '29', '28', '40', '32', '25', '9', '26', '48', '37',\n",
    "     '80', '55', '57', '67', '96', '82', '69', '36', '45', '41', '84', '78', '46', '93', '1', '19', '35', '33',\n",
    "     '70', '89', '50', '92', '8', '51', '95', '23', '24', '83']\n",
    "\n",
    "s = \"-\".join(map(str, sorted(filter(lambda x: 15 < x <= 85, map(lambda x: int(x), l)))))\n",
    "print(s)"
   ]
  },
  {
   "cell_type": "markdown",
   "metadata": {},
   "source": [
    "## SocketIO\n",
    "### - requests"
   ]
  },
  {
   "cell_type": "code",
   "execution_count": 126,
   "metadata": {},
   "outputs": [
    {
     "name": "stdout",
     "output_type": "stream",
     "text": [
      "status_code = 200\n",
      "{\n",
      "  \"args\": {}, \n",
      "  \"headers\": {\n",
      "    \"Accept\": \"*/*\", \n",
      "    \"Accept-Encoding\": \"gzip, deflate\", \n",
      "    \"Host\": \"httpbin.org\", \n",
      "    \"User-Agent\": \"python-requests/2.31.0\", \n",
      "    \"X-Amzn-Trace-Id\": \"Root=1-654a2035-42753edf191511c21e6262e3\"\n",
      "  }, \n",
      "  \"origin\": \"2.13.232.124\", \n",
      "  \"url\": \"https://httpbin.org/get\"\n",
      "}\n",
      "\n"
     ]
    }
   ],
   "source": [
    "# ex 95\n",
    "\n",
    "import requests\n",
    "\n",
    "url = \"https://httpbin.org\"\n",
    "endpoint = \"get\"\n",
    "\n",
    "req = requests.get(\"/\".join([url, endpoint]))\n",
    "print(f\"status_code = {req.status_code}\")\n",
    "if req.ok:  # True or False -> checks whether req.status_code == 200 (ie. 200 means \"ok\")\n",
    "    print(req.text)\n",
    "else:\n",
    "    print(\"Request on error\")"
   ]
  },
  {
   "cell_type": "code",
   "execution_count": 179,
   "metadata": {},
   "outputs": [],
   "source": [
    "# utility functions for exercices 96 to 100 included\n",
    "\n",
    "import json\n",
    "import requests\n",
    "\n",
    "def get_request(endpoint, **params):\n",
    "    req = requests.get(f\"https://api.binance.com/api/v3/{endpoint}?{'&'.join([f'{k}={v}' for k, v in params.items() if v])}\")\n",
    "    if req.ok:\n",
    "        return json.loads(req.text)\n",
    "    else:\n",
    "        print(\"Request failed\")"
   ]
  },
  {
   "cell_type": "code",
   "execution_count": 201,
   "metadata": {},
   "outputs": [
    {
     "name": "stdout",
     "output_type": "stream",
     "text": [
      "{'asks': [['34747.24000000', '14.06796000'],\n",
      "          ['34747.71000000', '0.02923000'],\n",
      "          ['34747.89000000', '0.00070000'],\n",
      "          ['34748.33000000', '0.00294000'],\n",
      "          ['34748.40000000', '0.02923000']],\n",
      " 'bids': [['34747.23000000', '1.16604000'],\n",
      "          ['34747.18000000', '0.00134000'],\n",
      "          ['34747.11000000', '0.00029000'],\n",
      "          ['34747.04000000', '0.00632000'],\n",
      "          ['34747.01000000', '0.00070000']],\n",
      " 'lastUpdateId': 40151164622}\n"
     ]
    }
   ],
   "source": [
    "# ex 96\n",
    "\n",
    "from pprint import pprint as pp  # pretty printing\n",
    "\n",
    "def get_orderbook(symbol, limit=100):  # default response contains 100 levels\n",
    "    res = get_request(\"depth\", symbol=symbol, limit=limit)\n",
    "    if res is not None:\n",
    "        return res\n",
    "    return {}  # returning empty dict to be consistent with return type\n",
    "\n",
    "data = get_orderbook(\"BTCUSDT\", 5)  # fetching top 5 bids and top 5 asks\n",
    "pp(data)"
   ]
  },
  {
   "cell_type": "code",
   "execution_count": 181,
   "metadata": {},
   "outputs": [
    {
     "name": "stdout",
     "output_type": "stream",
     "text": [
      "[{'id': 3271280626,\n",
      "  'isBestMatch': True,\n",
      "  'isBuyerMaker': False,\n",
      "  'price': '34667.92000000',\n",
      "  'qty': '0.00072000',\n",
      "  'quoteQty': '24.96090240',\n",
      "  'time': 1699359735522},\n",
      " {'id': 3271280627,\n",
      "  'isBestMatch': True,\n",
      "  'isBuyerMaker': True,\n",
      "  'price': '34667.91000000',\n",
      "  'qty': '0.04800000',\n",
      "  'quoteQty': '1664.05968000',\n",
      "  'time': 1699359735737}]\n"
     ]
    }
   ],
   "source": [
    "# ex 97\n",
    "\n",
    "from pprint import pprint as pp  # pretty printing\n",
    "\n",
    "def get_historical_trades(symbol, limit=500, from_id=None):  # default response contains the last 500 trades\n",
    "    res = get_request(\"historicalTrades\", symbol=symbol, limit=limit, fromId=from_id)\n",
    "    if res is not None:\n",
    "        return res\n",
    "    return []  # returning empty list to be consistent with return type\n",
    "\n",
    "data = get_historical_trades(\"BTCUSDT\", 2)  # fetching last 5 trades\n",
    "pp(data)"
   ]
  },
  {
   "cell_type": "code",
   "execution_count": 199,
   "metadata": {},
   "outputs": [
    {
     "name": "stdout",
     "output_type": "stream",
     "text": [
      "Total USDT cumulative volume = 55196.00\n",
      "Total USDT cumulative volume = 15430.30\n",
      "Total USDT cumulative volume = 129319.86\n",
      "Total USDT cumulative volume = 63026.62\n",
      "Total USDT cumulative volume = 30514.07\n",
      "Total USDT cumulative volume = 16475.75\n",
      "Exiting...\n"
     ]
    }
   ],
   "source": [
    "# ex 98\n",
    "\n",
    "from os import stat\n",
    "from json import loads\n",
    "from time import time, sleep\n",
    "\n",
    "def listener(symbol, total_time, file_object=None):  # file_object is used on ex 99.\n",
    "    if file_object and stat(file_object.name).st_size == 0:\n",
    "        file_object.write(\"time,aggregate_volume\")  # writing CSV headers\n",
    "\n",
    "    # fetch intial trades\n",
    "    data = get_historical_trades(symbol)\n",
    "    if data:  # not empty\n",
    "        \n",
    "        # initializing prior to entering the main loop\n",
    "        from_id = data[-1][\"id\"]\n",
    "        cumvol = 0.0\n",
    "        start = t0 = time()\n",
    "        \n",
    "        # main loop\n",
    "        while time() - start <= total_time:\n",
    "            t1 = time()\n",
    "            if t1 - t0 >= 10:\n",
    "                print(f\"Total USDT cumulative volume = {cumvol:.02f}\")\n",
    "                if file_object:\n",
    "                    file_object.write(f\"\\n{str(t1)},{cumvol:.02f}\")\n",
    "                cumvol = 0.0\n",
    "                t0 = t1\n",
    "            else:\n",
    "                sleep(2)  # throttling - sleeping 2 seconds to avoid being banned by sending too many requests\n",
    "                data = get_historical_trades(symbol, from_id=from_id + 1)\n",
    "                if data:  # not empty\n",
    "                    cumvol += reduce(\n",
    "                        lambda x, y: x + y,\n",
    "                        map(\n",
    "                            lambda x: float(x[\"quoteQty\"]),\n",
    "                            data\n",
    "                        )\n",
    "                    )\n",
    "                    from_id = data[-1][\"id\"]\n",
    "        \n",
    "        if cumvol > 0:\n",
    "            if file_object:\n",
    "                file_object.write(f\"\\n{str(time())},{cumvol:.02f}\")\n",
    "            print(f\"Total USDT cumulative volume = {cumvol:.02f}\")\n",
    "\n",
    "    else:\n",
    "        print(\"Failed to initialize\")\n",
    "\n",
    "    print(\"Exiting...\")\n",
    "\n",
    "listener(\"BTCUSDT\", 60)  # let it run for 60 seconds"
   ]
  },
  {
   "cell_type": "code",
   "execution_count": 200,
   "metadata": {},
   "outputs": [
    {
     "name": "stdout",
     "output_type": "stream",
     "text": [
      "Total USDT cumulative volume = 80395.83\n",
      "Total USDT cumulative volume = 103104.76\n",
      "Total USDT cumulative volume = 79629.08\n",
      "Total USDT cumulative volume = 10487.70\n",
      "Total USDT cumulative volume = 74531.27\n",
      "Total USDT cumulative volume = 372.83\n",
      "Exiting...\n"
     ]
    }
   ],
   "source": [
    "# ex 99\n",
    "\n",
    "def generate_aggregate_volume_data(symbol, total_time):\n",
    "    with open(f\"{symbol}_10_seconds_aggregate_volume.csv\", \"a\") as fout:\n",
    "        listener(symbol, total_time, fout)\n",
    "\n",
    "generate_aggregate_volume_data(\"BTCUSDT\", 60)  # collect BTCUSDT data for 60 seconds"
   ]
  },
  {
   "cell_type": "code",
   "execution_count": 205,
   "metadata": {},
   "outputs": [],
   "source": [
    "# ex 100\n",
    "\n",
    "from os import stat\n",
    "from time import time, sleep\n",
    "\n",
    "def generate_best_bid_ask_data(symbol, total_time):\n",
    "    with open(f\"{symbol}_10_seconds_best_bid_ask.csv\", \"a\") as fout:\n",
    "\n",
    "        if stat(fout.name).st_size == 0:\n",
    "            fout.write(\"last_update_id,bid_price,ask_price\")\n",
    "\n",
    "        t0 = time()\n",
    "        while time() - t0 <= total_time:\n",
    "            data = get_orderbook(symbol, 1)  # fetching best limit\n",
    "            fout.write(\"\\n\" + \",\".join([str(data[\"lastUpdateId\"]), data[\"bids\"][0][0], data[\"asks\"][0][0]]))\n",
    "            sleep(2)  # throttling - sleeping 2 seconds to avoid being banned by sending too many requests\n",
    "\n",
    "generate_best_bid_ask_data(\"BTCUSDT\", 60)"
   ]
  },
  {
   "cell_type": "code",
   "execution_count": null,
   "metadata": {},
   "outputs": [],
   "source": []
  }
 ],
 "metadata": {
  "kernelspec": {
   "display_name": "pyt3",
   "language": "python",
   "name": "pyt3"
  },
  "language_info": {
   "codemirror_mode": {
    "name": "ipython",
    "version": 3
   },
   "file_extension": ".py",
   "mimetype": "text/x-python",
   "name": "python",
   "nbconvert_exporter": "python",
   "pygments_lexer": "ipython3",
   "version": "3.8.5"
  }
 },
 "nbformat": 4,
 "nbformat_minor": 4
}
