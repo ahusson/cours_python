{
 "cells": [
  {
   "cell_type": "code",
   "execution_count": 1,
   "metadata": {},
   "outputs": [
    {
     "name": "stdout",
     "output_type": "stream",
     "text": [
      "Enter your name: Adrien\n",
      "Adrien\n"
     ]
    }
   ],
   "source": [
    "# ex 1\n",
    "\n",
    "name = input(\"Enter your name: \")\n",
    "print(name)"
   ]
  },
  {
   "cell_type": "code",
   "execution_count": 2,
   "metadata": {},
   "outputs": [
    {
     "name": "stdout",
     "output_type": "stream",
     "text": [
      "Enter your name: Adrien\n",
      "My name is Adrien\n",
      "My name is Adrien\n",
      "My name is Adrien\n"
     ]
    }
   ],
   "source": [
    "# ex 2\n",
    "\n",
    "name = input(\"Enter your name: \")\n",
    "print(\"My name is %s\" % name)\n",
    "print(\"My name is {}\".format(name))\n",
    "print(f\"My name is {name}\")"
   ]
  },
  {
   "cell_type": "code",
   "execution_count": 7,
   "metadata": {},
   "outputs": [
    {
     "name": "stdout",
     "output_type": "stream",
     "text": [
      "Using negative indexing: ! dlrow ,olleh\n",
      "Using negative indexing with 'range': ! dlrow ,olleh\n",
      "Using recursion: ! dlrow ,olleh\n"
     ]
    }
   ],
   "source": [
    "# ex 3\n",
    "\n",
    "# method 1\n",
    "s = \"hello, world !\"\n",
    "s = s[::-1]\n",
    "print(f\"Using negative indexing: {s}\")\n",
    "\n",
    "# method 2\n",
    "s = \"hello, world !\"\n",
    "s_reversed = []\n",
    "for i in range(len(s) - 1, -1, -1):\n",
    "    s_reversed.append(s[i])\n",
    "s_reversed = \"\".join(s_reversed)\n",
    "print(f\"Using negative indexing with 'range': {s_reversed}\")\n",
    "\n",
    "# method 3 (NOT MANDATORY) - Using recursion\n",
    "s = \"hello, world !\"\n",
    "def f(x):\n",
    "    if not x:\n",
    "        return x\n",
    "    return f(x[1:]) + x[0]\n",
    "print(f\"Using recursion: {f(s)}\")"
   ]
  },
  {
   "cell_type": "code",
   "execution_count": 10,
   "metadata": {},
   "outputs": [
    {
     "name": "stdout",
     "output_type": "stream",
     "text": [
      "Length of house: 2\n",
      "Width of house: 3\n",
      "The perimeter of your house is 10.0\n"
     ]
    }
   ],
   "source": [
    "# ex 4\n",
    "\n",
    "length = input(\"Length of house: \")\n",
    "width = input(\"Width of house: \")\n",
    "\n",
    "length = float(length)\n",
    "width = float(width)\n",
    "\n",
    "print(f\"The perimeter of your house is {2 * (length + width)}\")"
   ]
  },
  {
   "cell_type": "code",
   "execution_count": 11,
   "metadata": {},
   "outputs": [
    {
     "name": "stdout",
     "output_type": "stream",
     "text": [
      "Length of house: 2\n",
      "Width of house: 3\n",
      "The area of your house is 6.0\n"
     ]
    }
   ],
   "source": [
    "# ex 5\n",
    "\n",
    "length = input(\"Length of house: \")\n",
    "width = input(\"Width of house: \")\n",
    "\n",
    "length = float(length)\n",
    "width = float(width)\n",
    "\n",
    "print(f\"The area of your house is {length * width}\")"
   ]
  },
  {
   "cell_type": "code",
   "execution_count": 13,
   "metadata": {},
   "outputs": [
    {
     "name": "stdout",
     "output_type": "stream",
     "text": [
      "Enter your latest grade: -5\n",
      "Enter your latest grade: 25\n",
      "Enter your latest grade: 18\n",
      "A\n"
     ]
    }
   ],
   "source": [
    "# ex 6\n",
    "\n",
    "grade = -1\n",
    "while grade < 0 or grade > 20:\n",
    "    grade = input(\"Enter your latest grade: \")\n",
    "    grade = int(grade)\n",
    "\n",
    "if 0 <= grade < 5:\n",
    "    print(\"F\")\n",
    "elif 5 <= grade < 10:\n",
    "    print(\"D\")\n",
    "elif 10 <= grade < 15:\n",
    "    print(\"C\")\n",
    "elif 15 <= grade < 18:\n",
    "    print(\"B\")\n",
    "else:\n",
    "    print(\"A\")"
   ]
  },
  {
   "cell_type": "code",
   "execution_count": 14,
   "metadata": {},
   "outputs": [
    {
     "name": "stdout",
     "output_type": "stream",
     "text": [
      "The current value is: 1\n",
      "The current value is: 2\n",
      "The current value is: 3\n",
      "The current value is: 4\n",
      "The current value is: 5\n"
     ]
    }
   ],
   "source": [
    "# ex 7\n",
    "\n",
    "l = [1, 2, 3, 4, 5]\n",
    "for el in l:\n",
    "    print(f\"The current value is: {el}\")"
   ]
  },
  {
   "cell_type": "code",
   "execution_count": 15,
   "metadata": {},
   "outputs": [
    {
     "name": "stdout",
     "output_type": "stream",
     "text": [
      "The current value is: 1\n",
      "The current value is: 2\n",
      "The current value is: 3\n",
      "The current value is: 4\n",
      "The current value is: 5\n"
     ]
    }
   ],
   "source": [
    "# ex 8\n",
    "\n",
    "l = [1, 2, 3, 4, 5]\n",
    "n = len(l)\n",
    "i = 0\n",
    "while i < n:\n",
    "    print(f\"The current value is: {l[i]}\")\n",
    "    i += 1"
   ]
  },
  {
   "cell_type": "code",
   "execution_count": 17,
   "metadata": {},
   "outputs": [
    {
     "name": "stdout",
     "output_type": "stream",
     "text": [
      "Sum of the elements in the list is 15\n"
     ]
    }
   ],
   "source": [
    "# ex 9\n",
    "\n",
    "l = list(\"12345\")  # list(\"12345\") -> [\"1\", \"2\", \"3\", \"4\", \"5\"]\n",
    "s = sum([int(el) for el in l])\n",
    "print(f\"Sum of the elements in the list is {s}\")"
   ]
  },
  {
   "cell_type": "code",
   "execution_count": 23,
   "metadata": {},
   "outputs": [
    {
     "name": "stdout",
     "output_type": "stream",
     "text": [
      "Enter an integer greater than or equal to 2: 7\n",
      "True\n"
     ]
    }
   ],
   "source": [
    "# ex 10\n",
    "\n",
    "p = -1\n",
    "while p < 2:\n",
    "    p = input(\"Enter an integer greater than or equal to 2: \")\n",
    "    p = int(p)\n",
    "\n",
    "if p == 2:\n",
    "    print(True)\n",
    "else:\n",
    "    isprime = True\n",
    "    for i in range(2, p):\n",
    "        if p % i == 0:\n",
    "            isprime = False\n",
    "            break\n",
    "    if isprime:\n",
    "        print(True)\n",
    "    else:\n",
    "        print(False)"
   ]
  },
  {
   "cell_type": "code",
   "execution_count": 103,
   "metadata": {},
   "outputs": [
    {
     "name": "stdout",
     "output_type": "stream",
     "text": [
      "Python is fun !\n",
      "\n",
      "--------------------\n",
      "\n",
      "\n",
      "Python is fun !\n",
      "\n"
     ]
    }
   ],
   "source": [
    "# ex 11\n",
    "\n",
    "# method 1\n",
    "f = open(\"myfile.txt\", \"r\")\n",
    "print(f.read())\n",
    "f.close()\n",
    "print(\"--------------------\\n\\n\")\n",
    "\n",
    "# method 2\n",
    "with open(\"myfile.txt\", \"r\") as f:\n",
    "    print(f.read())"
   ]
  },
  {
   "cell_type": "code",
   "execution_count": 26,
   "metadata": {},
   "outputs": [
    {
     "name": "stdout",
     "output_type": "stream",
     "text": [
      "67\n"
     ]
    }
   ],
   "source": [
    "# ex 12\n",
    "\n",
    "l = [34, 45, 67, 89]\n",
    "print(l[2])"
   ]
  },
  {
   "cell_type": "code",
   "execution_count": 29,
   "metadata": {},
   "outputs": [
    {
     "name": "stdout",
     "output_type": "stream",
     "text": [
      "Second element before increment 45\n",
      "Second element after increment 46\n"
     ]
    }
   ],
   "source": [
    "# ex 13\n",
    "\n",
    "l = [34, 45, 67, 89]\n",
    "print(f\"Second element before increment {l[1]}\")\n",
    "l[1] += 1\n",
    "print(f\"Second element after increment {l[1]}\")"
   ]
  },
  {
   "cell_type": "code",
   "execution_count": 30,
   "metadata": {},
   "outputs": [
    {
     "name": "stdout",
     "output_type": "stream",
     "text": [
      "[5, 4, 3, 2, 1]\n"
     ]
    }
   ],
   "source": [
    "# ex 14\n",
    "\n",
    "l = [1, 2, 3, 4, 5]\n",
    "l = l[::-1]\n",
    "print(l)\n",
    "\n",
    "# NOTE: works exactly the same as ex 3 if you want to see different ways to do it."
   ]
  },
  {
   "cell_type": "code",
   "execution_count": 32,
   "metadata": {},
   "outputs": [
    {
     "name": "stdout",
     "output_type": "stream",
     "text": [
      "[1, 2, 3, 4, 5, 6, 7, 8, 9, 10, 11, 12, 13, 14, 15, 16, 17, 18, 19, 20]\n",
      "[1, 2, 3, 4, 5, 6, 7, 8, 9, 10, 11, 12, 13, 14, 15, 16, 17, 18, 19, 20]\n",
      "[1, 2, 3, 4, 5, 6, 7, 8, 9, 10, 11, 12, 13, 14, 15, 16, 17, 18, 19, 20]\n",
      "[1, 2, 3, 4, 5, 6, 7, 8, 9, 10, 11, 12, 13, 14, 15, 16, 17, 18, 19, 20]\n"
     ]
    }
   ],
   "source": [
    "# ex 15\n",
    "\n",
    "# method 1\n",
    "l = []\n",
    "for i in range(1, 21):\n",
    "    l.append(i)\n",
    "print(l)\n",
    "\n",
    "# method 2\n",
    "l = []\n",
    "for i in range(1, 21):\n",
    "    l += [i]\n",
    "print(l)\n",
    "\n",
    "# method 3\n",
    "l = list(range(1, 21))\n",
    "print(l)\n",
    "\n",
    "# method 4\n",
    "l = [i for i in range(1, 21)]\n",
    "print(l)"
   ]
  },
  {
   "cell_type": "code",
   "execution_count": 33,
   "metadata": {},
   "outputs": [
    {
     "name": "stdout",
     "output_type": "stream",
     "text": [
      "[1, 2, 3, 4, 5, 6, 7, 8, 9, 10, 11, 12, 13, 14, 15, 16, 17, 18, 19, 20]\n"
     ]
    }
   ],
   "source": [
    "# ex 16\n",
    "\n",
    "l = []\n",
    "i = 1\n",
    "while i < 21:\n",
    "    l.append(i)\n",
    "    i += 1\n",
    "print(l)"
   ]
  },
  {
   "cell_type": "code",
   "execution_count": 35,
   "metadata": {},
   "outputs": [
    {
     "name": "stdout",
     "output_type": "stream",
     "text": [
      "[2, 4, 6, 8, 10, 12, 14, 16, 18, 20]\n"
     ]
    }
   ],
   "source": [
    "# ex 17\n",
    "\n",
    "l = [i for i in range(1, 21) if i % 2 == 0]\n",
    "print(l)"
   ]
  },
  {
   "cell_type": "code",
   "execution_count": 37,
   "metadata": {},
   "outputs": [
    {
     "name": "stdout",
     "output_type": "stream",
     "text": [
      "Enter a number between 25\n",
      "Enter a number between 8\n",
      "True\n"
     ]
    }
   ],
   "source": [
    "# ex 18\n",
    "l = [2, 4, 6, 7, 8, 9]\n",
    "\n",
    "i = -1\n",
    "while i < 1 or i > 10:\n",
    "    i = input(\"Enter a number between \")\n",
    "    i = int(i)\n",
    "print(i in l)"
   ]
  },
  {
   "cell_type": "code",
   "execution_count": 38,
   "metadata": {},
   "outputs": [
    {
     "name": "stdout",
     "output_type": "stream",
     "text": [
      "2\n"
     ]
    }
   ],
   "source": [
    "# ex 19\n",
    "\n",
    "l = [2, 4, 6, 7, 8, 9]\n",
    "print(min(l))"
   ]
  },
  {
   "cell_type": "code",
   "execution_count": 39,
   "metadata": {},
   "outputs": [
    {
     "name": "stdout",
     "output_type": "stream",
     "text": [
      "9\n"
     ]
    }
   ],
   "source": [
    "# ex 20\n",
    "\n",
    "l = [2, 4, 6, 7, 8, 9]\n",
    "print(max(l))"
   ]
  },
  {
   "cell_type": "code",
   "execution_count": 40,
   "metadata": {},
   "outputs": [
    {
     "name": "stdout",
     "output_type": "stream",
     "text": [
      "The last element in l was 9\n"
     ]
    }
   ],
   "source": [
    "# ex 21\n",
    "\n",
    "l = [2, 4, 6, 7, 8, 9]\n",
    "last = l.pop()\n",
    "print(f\"The last element in l was {last}\")"
   ]
  },
  {
   "cell_type": "code",
   "execution_count": 45,
   "metadata": {},
   "outputs": [
    {
     "name": "stdout",
     "output_type": "stream",
     "text": [
      "The element at index 2 was 6\n"
     ]
    }
   ],
   "source": [
    "# ex 22\n",
    "\n",
    "l = [2, 4, 6, 7, 8, 9]\n",
    "el = l.pop(2)\n",
    "print(f\"The element at index 2 was {el}\")\n",
    "\n",
    "# NOTE: after doing pop(2), the new element at index 2 is 7 because the new list after the pop\n",
    "# is [2, 4, 7, 8, 9]"
   ]
  },
  {
   "cell_type": "code",
   "execution_count": 50,
   "metadata": {},
   "outputs": [
    {
     "name": "stdout",
     "output_type": "stream",
     "text": [
      "The number of element(s) in the list is 6\n"
     ]
    }
   ],
   "source": [
    "# ex 23\n",
    "\n",
    "l = [2, 4, 6, 7, 8, 9]\n",
    "print(f\"The number of element(s) in the list is {len(l)}\")"
   ]
  },
  {
   "cell_type": "code",
   "execution_count": 51,
   "metadata": {
    "scrolled": true
   },
   "outputs": [
    {
     "name": "stdout",
     "output_type": "stream",
     "text": [
      "The number of element(s) in the list is 6\n"
     ]
    }
   ],
   "source": [
    "# ex 24\n",
    "\n",
    "l = [2, 4, 6, 7, 8, 9]\n",
    "count = 0\n",
    "for el in l:\n",
    "    count += 1\n",
    "print(f\"The number of element(s) in the list is {count}\") "
   ]
  },
  {
   "cell_type": "code",
   "execution_count": 58,
   "metadata": {},
   "outputs": [
    {
     "name": "stdout",
     "output_type": "stream",
     "text": [
      "[1, 25, 32, 34, 45, 105, 546]\n",
      "[1, 25, 32, 34, 45, 105, 546]\n",
      "[1, 25, 32, 34, 45, 105, 546]\n",
      "[1, 25, 32, 34, 45, 105, 546]\n"
     ]
    }
   ],
   "source": [
    "# ex 25\n",
    "\n",
    "# method 1\n",
    "l = [45, 34, 25, 105, 546, 1, 32]\n",
    "l.sort()\n",
    "print(l)\n",
    "\n",
    "# method 2\n",
    "l = [45, 34, 25, 105, 546, 1, 32]\n",
    "l.sort(reverse=False)\n",
    "print(l)\n",
    "\n",
    "# method 3\n",
    "print(sorted(l))\n",
    "\n",
    "# method 4\n",
    "print(sorted(l, reverse=False))"
   ]
  },
  {
   "cell_type": "code",
   "execution_count": 59,
   "metadata": {},
   "outputs": [
    {
     "name": "stdout",
     "output_type": "stream",
     "text": [
      "[1, 4, 9, 16, 25, 36, 49, 64, 81, 100]\n"
     ]
    }
   ],
   "source": [
    "# ex 26\n",
    "\n",
    "print([i * i for i in range(1, 11)])"
   ]
  },
  {
   "cell_type": "code",
   "execution_count": 61,
   "metadata": {},
   "outputs": [
    {
     "name": "stdout",
     "output_type": "stream",
     "text": [
      "{1, 2, 3}\n"
     ]
    }
   ],
   "source": [
    "# ex 27\n",
    "\n",
    "l = [1, 2, 3]\n",
    "print(set(l))"
   ]
  },
  {
   "cell_type": "code",
   "execution_count": 65,
   "metadata": {},
   "outputs": [
    {
     "name": "stdout",
     "output_type": "stream",
     "text": [
      "{1, 2, 3}\n",
      "The set removes the duplicate 1 element\n",
      "In a way, sets are the python data structure analogous to mathematical set objects\n"
     ]
    }
   ],
   "source": [
    "# ex 28\n",
    "\n",
    "l = [1, 1, 2, 3]\n",
    "print(set(l))\n",
    "print(\"The set removes the duplicate 1 element\")\n",
    "print(\"In a way, sets are the python data structure analogous to mathematical set objects\")"
   ]
  },
  {
   "cell_type": "code",
   "execution_count": 72,
   "metadata": {},
   "outputs": [
    {
     "name": "stdout",
     "output_type": "stream",
     "text": [
      "{1}\n"
     ]
    }
   ],
   "source": [
    "# ex 29\n",
    "\n",
    "s1 = {1, 2}\n",
    "s2 = {1, 3}\n",
    "print(s1.intersection(s2))"
   ]
  },
  {
   "cell_type": "code",
   "execution_count": 76,
   "metadata": {},
   "outputs": [
    {
     "name": "stdout",
     "output_type": "stream",
     "text": [
      "False\n"
     ]
    }
   ],
   "source": [
    "# ex 30\n",
    "\n",
    "s1 = {1, 2}\n",
    "s2 = {1, 3}\n",
    "print(s1.issubset(s2))"
   ]
  },
  {
   "cell_type": "code",
   "execution_count": 77,
   "metadata": {},
   "outputs": [
    {
     "name": "stdout",
     "output_type": "stream",
     "text": [
      "True\n"
     ]
    }
   ],
   "source": [
    "# ex 31\n",
    "\n",
    "s1 = {1, 2}\n",
    "s2 = {1, 2, 3}\n",
    "print(s1.issubset(s2))"
   ]
  },
  {
   "cell_type": "code",
   "execution_count": 80,
   "metadata": {},
   "outputs": [
    {
     "name": "stdout",
     "output_type": "stream",
     "text": [
      "{1: 3, 2: 2, 3: 1}\n",
      "Counter({1: 3, 2: 2, 3: 1})\n"
     ]
    }
   ],
   "source": [
    "# ex 32\n",
    "\n",
    "l = [1, 1, 1, 2, 2, 3]\n",
    "\n",
    "# method 1\n",
    "d = {}\n",
    "for el in l:\n",
    "    if el in d:\n",
    "        d[el] += 1\n",
    "    else:\n",
    "        d[el] = 1  # must be the first occurence\n",
    "print(d)\n",
    "\n",
    "# method 2 (NOT MANDATORY) - using collections.Counter\n",
    "from collections import Counter\n",
    "d = Counter(l)  # works just like a dict\n",
    "print(d)\n",
    "\n",
    "# NOTE: Pytohn built-in libraries are sometimes very useful !"
   ]
  },
  {
   "cell_type": "code",
   "execution_count": 82,
   "metadata": {},
   "outputs": [
    {
     "name": "stdout",
     "output_type": "stream",
     "text": [
      "dict_keys(['a', 'b', 'c'])\n",
      "a\n",
      "b\n",
      "c\n"
     ]
    }
   ],
   "source": [
    "# ex 33\n",
    "\n",
    "d = {\"a\": 23, \"b\": 45, \"c\": 2}\n",
    "\n",
    "print(d.keys())\n",
    "\n",
    "# you can actually iterate through keys, like so:\n",
    "for k in d.keys():\n",
    "    print(k)"
   ]
  },
  {
   "cell_type": "code",
   "execution_count": 83,
   "metadata": {},
   "outputs": [
    {
     "name": "stdout",
     "output_type": "stream",
     "text": [
      "dict_values([23, 45, 2])\n",
      "23\n",
      "45\n",
      "2\n"
     ]
    }
   ],
   "source": [
    "# ex 34\n",
    "\n",
    "d = {\"a\": 23, \"b\": 45, \"c\": 2}\n",
    "\n",
    "print(d.values())\n",
    "\n",
    "# you can actually iterate through values, like so:\n",
    "for v in d.values():\n",
    "    print(v)"
   ]
  },
  {
   "cell_type": "code",
   "execution_count": 86,
   "metadata": {},
   "outputs": [
    {
     "name": "stdout",
     "output_type": "stream",
     "text": [
      "dict_items([('a', 23), ('b', 45), ('c', 2)])\n",
      "key = a, value = 23\n",
      "key = b, value = 45\n",
      "key = c, value = 2\n"
     ]
    }
   ],
   "source": [
    "# ex 35\n",
    "\n",
    "d = {\"a\": 23, \"b\": 45, \"c\": 2}\n",
    "\n",
    "print(d.items())\n",
    "\n",
    "# you can actually iterate through values, like so:\n",
    "for k, v in d.items():\n",
    "    print(f\"key = {k}, value = {v}\")\n",
    "    \n",
    "# NOTE: Notice how python dict are essentially a list of tuples where each tuple is of the form (key, value)\n",
    "#       Tuples are immutables and can be used in a set as a unique element, in fact, under the hood, a dict is nothing other\n",
    "#       than a set of unique key items mapping to an index in an array of value."
   ]
  },
  {
   "cell_type": "code",
   "execution_count": 87,
   "metadata": {},
   "outputs": [
    {
     "name": "stdout",
     "output_type": "stream",
     "text": [
      "23\n"
     ]
    }
   ],
   "source": [
    "# ex 36\n",
    "\n",
    "d = {\"a\": 23, \"b\": 45, \"c\": 2}\n",
    "print(d.pop(\"a\"))"
   ]
  },
  {
   "cell_type": "code",
   "execution_count": 105,
   "metadata": {},
   "outputs": [
    {
     "name": "stdout",
     "output_type": "stream",
     "text": [
      "{(3, 7), (5, 5)}\n",
      "{(3, 7), (5, 5)}\n",
      "{(3, 7), (5, 5)}\n"
     ]
    }
   ],
   "source": [
    "# ex 37\n",
    "\n",
    "s = 10\n",
    "l = [1, 3, 5, 5, 7, 10]\n",
    "\n",
    "# method 1 - O(n^2)\n",
    "res = set()\n",
    "for i in l:\n",
    "    for j in l:\n",
    "        if i + j == s:\n",
    "            t = (i, j)\n",
    "            if t not in res and (j, i) not in res:\n",
    "                res.add(t)\n",
    "print(res)\n",
    "\n",
    "# method 2 (a bit better)- n(n + 1) / 2 ~ n^2 / 2 = O(n^2)\n",
    "res = set()\n",
    "n = len(l)\n",
    "for i in range(n):\n",
    "    for j in range(i + 1, n):\n",
    "        li = l[i]\n",
    "        lj = l[j]\n",
    "        if li + lj == s:\n",
    "            res.add((li, lj))\n",
    "print(res)\n",
    "\n",
    "# method 3 (much better) - 2n = O(n)\n",
    "d, seen = {}, set()\n",
    "for el in l:\n",
    "    if el not in seen:  # O(1) because seen is a set\n",
    "        diff = s - el\n",
    "        d[diff] = el\n",
    "        seen = seen.union({el, diff})\n",
    "\n",
    "res = set()\n",
    "for el in l:\n",
    "    if el in d:  # O(1) because d is a dict\n",
    "        res.add((d[el], el))\n",
    "print(res)"
   ]
  },
  {
   "cell_type": "code",
   "execution_count": 102,
   "metadata": {},
   "outputs": [
    {
     "name": "stdout",
     "output_type": "stream",
     "text": [
      "Hello from myotherfile\n",
      "\n",
      "I am another line\n",
      "\n",
      "I am the last line of this file, bye !\n",
      "\n",
      "--------------------\n",
      "\n",
      "\n",
      "Hello from myotherfile\n",
      "\n",
      "I am another line\n",
      "\n",
      "I am the last line of this file, bye !\n",
      "\n",
      "--------------------\n",
      "\n",
      "\n",
      "Hello from myotherfile\n",
      "\n",
      "I am another line\n",
      "\n",
      "I am the last line of this file, bye !\n",
      "\n"
     ]
    }
   ],
   "source": [
    "# ex 38\n",
    "\n",
    "# method 1\n",
    "f = open(\"myotherfile.txt\", \"r\")\n",
    "for line in f.readlines():\n",
    "    print(line)\n",
    "f.close()\n",
    "print(\"--------------------\\n\\n\")\n",
    "\n",
    "# method 2\n",
    "f = open(\"myotherfile.txt\", \"r\")\n",
    "for line in f:  # the file object f is actually an iterator itself\n",
    "    print(line)\n",
    "f.close()\n",
    "print(\"--------------------\\n\\n\")\n",
    "\n",
    "# method 3\n",
    "with open(\"myotherfile.txt\", \"r\") as f:\n",
    "    for line in f:\n",
    "        print(line)"
   ]
  }
 ],
 "metadata": {
  "kernelspec": {
   "display_name": "pyt3",
   "language": "python",
   "name": "pyt3"
  },
  "language_info": {
   "codemirror_mode": {
    "name": "ipython",
    "version": 3
   },
   "file_extension": ".py",
   "mimetype": "text/x-python",
   "name": "python",
   "nbconvert_exporter": "python",
   "pygments_lexer": "ipython3",
   "version": "3.8.5"
  }
 },
 "nbformat": 4,
 "nbformat_minor": 4
}
